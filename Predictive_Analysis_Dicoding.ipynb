{
  "metadata": {
    "kernelspec": {
      "name": "python3",
      "display_name": "Python 3",
      "language": "python"
    },
    "language_info": {
      "name": "python",
      "version": "3.10.12",
      "mimetype": "text/x-python",
      "codemirror_mode": {
        "name": "ipython",
        "version": 3
      },
      "pygments_lexer": "ipython3",
      "nbconvert_exporter": "python",
      "file_extension": ".py"
    },
    "colab": {
      "provenance": [],
      "toc_visible": true
    },
    "kaggle": {
      "accelerator": "gpu",
      "dataSources": [
        {
          "sourceId": 3636522,
          "sourceType": "datasetVersion",
          "datasetId": 1927218
        }
      ],
      "dockerImageVersionId": 30919,
      "isInternetEnabled": true,
      "language": "python",
      "sourceType": "notebook",
      "isGpuEnabled": true
    }
  },
  "nbformat_minor": 0,
  "nbformat": 4,
  "cells": [
    {
      "cell_type": "markdown",
      "source": [
        "# Predictive Analytics: Prediksi Pembatalan Transaksi pada E-commerce UK\n",
        "\n",
        "\n",
        "---\n",
        "\n",
        "Oleh: Noer Hanifah Suganda\n"
      ],
      "metadata": {
        "id": "KSDNsVkcDMhF"
      }
    },
    {
      "cell_type": "markdown",
      "source": [
        "# A. Latar Belakang\n",
        "\n",
        "Perusahaan e-commerce UK yang berbasis di London telah beroperasi sejak tahun 2007 dan menawarkan produk berupa hadiah serta homewares untuk berbagai kalangan, baik individu maupun bisnis kecil. Dataset yang digunakan dalam analisis ini mencakup 500 ribu transaksi selama satu tahun dengan 8 kolom informasi.\n",
        "\n",
        "Meskipun sebagian besar transaksi berjalan lancar, terdapat persentase kecil transaksi yang dibatalkan. Pembatalan ini umumnya terjadi karena kondisi stok yang tidak memadai, sehingga pelanggan memilih untuk membatalkan transaksi agar dapat menerima semua produk sekaligus. Pembatalan transaksi tidak hanya mengganggu alur operasional, tetapi juga berdampak pada pendapatan dan kepuasan pelanggan.\n",
        "\n",
        "Melihat kondisi tersebut, penting untuk mengidentifikasi faktor-faktor yang mempengaruhi pembatalan transaksi dan mengembangkan model prediksi yang mampu mendeteksi transaksi berisiko pembatalan. Dengan menerapkan pendekatan machine learning, perusahaan dapat mengambil langkah proaktif untuk mengoptimalkan manajemen inventori, mengurangi kerugian finansial, serta meningkatkan pengalaman pelanggan secara keseluruhan.\n"
      ],
      "metadata": {
        "id": "Tk8tWmpeGw5d"
      }
    },
    {
      "cell_type": "markdown",
      "source": [
        "#B. Business Understanding\n",
        "\n",
        "# Dalam industri e-commerce, pembatalan transaksi merupakan masalah yang signifikan. Transaksi yang dibatalkan—diidentifikasi melalui penanda \"C\" pada kolom TransactionNo—dapat mengganggu alur operasional, menyebabkan kerugian finansial, dan menurunkan kepuasan pelanggan. Seringkali, pembatalan terjadi karena kondisi stok yang tidak memadai, di mana pelanggan memilih untuk membatalkan transaksi jika tidak semua produk dapat dikirim sekaligus.\n",
        "\n",
        "**Problem Statement:**\n",
        "\n",
        "Bagaimana membangun model prediktif untuk mengidentifikasi transaksi yang berisiko tinggi dibatalkan?"
      ],
      "metadata": {
        "id": "y4hXyGj-HHfi"
      }
    },
    {
      "cell_type": "markdown",
      "source": [
        "## Data Loading"
      ],
      "metadata": {
        "id": "dC2AfI4fFff8"
      }
    },
    {
      "cell_type": "code",
      "source": [
        "# Import library yang diperlukan\n",
        "import pandas as pd\n",
        "import numpy as np\n",
        "\n",
        "df = pd.read_csv('Sales Transaction.csv')\n",
        "print(\"Dataset Sales Transaction:\")\n",
        "print(df.head())\n"
      ],
      "metadata": {
        "colab": {
          "base_uri": "https://localhost:8080/"
        },
        "id": "h6V6paOdDh7u",
        "outputId": "61b3c8c6-9369-49ea-951c-58796877841f",
        "trusted": true,
        "execution": {
          "iopub.status.busy": "2025-03-10T07:19:11.943427Z",
          "iopub.execute_input": "2025-03-10T07:19:11.943827Z",
          "iopub.status.idle": "2025-03-10T07:19:13.996502Z",
          "shell.execute_reply.started": "2025-03-10T07:19:11.943797Z",
          "shell.execute_reply": "2025-03-10T07:19:13.995490Z"
        }
      },
      "outputs": [
        {
          "output_type": "stream",
          "name": "stdout",
          "text": [
            "Dataset Sales Transaction:\n",
            "  TransactionNo       Date ProductNo                          ProductName  \\\n",
            "0        581482  12/9/2019     22485        Set Of 2 Wooden Market Crates   \n",
            "1        581475  12/9/2019     22596  Christmas Star Wish List Chalkboard   \n",
            "2        581475  12/9/2019     23235             Storage Tin Vintage Leaf   \n",
            "3        581475  12/9/2019     23272    Tree T-Light Holder Willie Winkie   \n",
            "4        581475  12/9/2019     23239    Set Of 4 Knick Knack Tins Poppies   \n",
            "\n",
            "   Price  Quantity  CustomerNo         Country  \n",
            "0  21.47        12     17490.0  United Kingdom  \n",
            "1  10.65        36     13069.0  United Kingdom  \n",
            "2  11.53        12     13069.0  United Kingdom  \n",
            "3  10.65        12     13069.0  United Kingdom  \n",
            "4  11.94         6     13069.0  United Kingdom  \n"
          ]
        }
      ],
      "execution_count": 11
    },
    {
      "cell_type": "markdown",
      "source": [
        "# C. Exploratory Data Analysis (EDA)"
      ],
      "metadata": {
        "id": "b25MaW64IyDd"
      }
    },
    {
      "cell_type": "markdown",
      "source": [
        "## EDA - Deskripsi Variabel"
      ],
      "metadata": {
        "id": "znQwTDKaND-X"
      }
    },
    {
      "cell_type": "code",
      "source": [
        "df"
      ],
      "metadata": {
        "colab": {
          "base_uri": "https://localhost:8080/",
          "height": 826
        },
        "id": "RjlyelSnI2xu",
        "outputId": "b4f919d1-fea3-4c9e-ee5c-c0565c91276d",
        "trusted": true,
        "execution": {
          "iopub.status.busy": "2025-03-10T07:19:13.997595Z",
          "iopub.execute_input": "2025-03-10T07:19:13.997913Z",
          "iopub.status.idle": "2025-03-10T07:19:14.015544Z",
          "shell.execute_reply.started": "2025-03-10T07:19:13.997885Z",
          "shell.execute_reply": "2025-03-10T07:19:14.014740Z"
        }
      },
      "outputs": [
        {
          "output_type": "execute_result",
          "data": {
            "text/plain": [
              "       TransactionNo       Date ProductNo  \\\n",
              "0             581482  12/9/2019     22485   \n",
              "1             581475  12/9/2019     22596   \n",
              "2             581475  12/9/2019     23235   \n",
              "3             581475  12/9/2019     23272   \n",
              "4             581475  12/9/2019     23239   \n",
              "...              ...        ...       ...   \n",
              "536345       C536548  12/1/2018     22168   \n",
              "536346       C536548  12/1/2018     21218   \n",
              "536347       C536548  12/1/2018     20957   \n",
              "536348       C536548  12/1/2018     22580   \n",
              "536349       C536548  12/1/2018     22767   \n",
              "\n",
              "                                ProductName  Price  Quantity  CustomerNo  \\\n",
              "0             Set Of 2 Wooden Market Crates  21.47        12     17490.0   \n",
              "1       Christmas Star Wish List Chalkboard  10.65        36     13069.0   \n",
              "2                  Storage Tin Vintage Leaf  11.53        12     13069.0   \n",
              "3         Tree T-Light Holder Willie Winkie  10.65        12     13069.0   \n",
              "4         Set Of 4 Knick Knack Tins Poppies  11.94         6     13069.0   \n",
              "...                                     ...    ...       ...         ...   \n",
              "536345         Organiser Wood Antique White  18.96        -2     12472.0   \n",
              "536346               Red Spotty Biscuit Tin  14.09        -3     12472.0   \n",
              "536347         Porcelain Hanging Bell Small  11.74        -1     12472.0   \n",
              "536348         Advent Calendar Gingham Sack  16.35        -4     12472.0   \n",
              "536349           Triple Photo Frame Cornice  20.45        -2     12472.0   \n",
              "\n",
              "               Country  \n",
              "0       United Kingdom  \n",
              "1       United Kingdom  \n",
              "2       United Kingdom  \n",
              "3       United Kingdom  \n",
              "4       United Kingdom  \n",
              "...                ...  \n",
              "536345         Germany  \n",
              "536346         Germany  \n",
              "536347         Germany  \n",
              "536348         Germany  \n",
              "536349         Germany  \n",
              "\n",
              "[536350 rows x 8 columns]"
            ],
            "text/html": [
              "\n",
              "  <div id=\"df-b31a0d41-5e15-43d3-88cb-2d2ccd1efb8c\" class=\"colab-df-container\">\n",
              "    <div>\n",
              "<style scoped>\n",
              "    .dataframe tbody tr th:only-of-type {\n",
              "        vertical-align: middle;\n",
              "    }\n",
              "\n",
              "    .dataframe tbody tr th {\n",
              "        vertical-align: top;\n",
              "    }\n",
              "\n",
              "    .dataframe thead th {\n",
              "        text-align: right;\n",
              "    }\n",
              "</style>\n",
              "<table border=\"1\" class=\"dataframe\">\n",
              "  <thead>\n",
              "    <tr style=\"text-align: right;\">\n",
              "      <th></th>\n",
              "      <th>TransactionNo</th>\n",
              "      <th>Date</th>\n",
              "      <th>ProductNo</th>\n",
              "      <th>ProductName</th>\n",
              "      <th>Price</th>\n",
              "      <th>Quantity</th>\n",
              "      <th>CustomerNo</th>\n",
              "      <th>Country</th>\n",
              "    </tr>\n",
              "  </thead>\n",
              "  <tbody>\n",
              "    <tr>\n",
              "      <th>0</th>\n",
              "      <td>581482</td>\n",
              "      <td>12/9/2019</td>\n",
              "      <td>22485</td>\n",
              "      <td>Set Of 2 Wooden Market Crates</td>\n",
              "      <td>21.47</td>\n",
              "      <td>12</td>\n",
              "      <td>17490.0</td>\n",
              "      <td>United Kingdom</td>\n",
              "    </tr>\n",
              "    <tr>\n",
              "      <th>1</th>\n",
              "      <td>581475</td>\n",
              "      <td>12/9/2019</td>\n",
              "      <td>22596</td>\n",
              "      <td>Christmas Star Wish List Chalkboard</td>\n",
              "      <td>10.65</td>\n",
              "      <td>36</td>\n",
              "      <td>13069.0</td>\n",
              "      <td>United Kingdom</td>\n",
              "    </tr>\n",
              "    <tr>\n",
              "      <th>2</th>\n",
              "      <td>581475</td>\n",
              "      <td>12/9/2019</td>\n",
              "      <td>23235</td>\n",
              "      <td>Storage Tin Vintage Leaf</td>\n",
              "      <td>11.53</td>\n",
              "      <td>12</td>\n",
              "      <td>13069.0</td>\n",
              "      <td>United Kingdom</td>\n",
              "    </tr>\n",
              "    <tr>\n",
              "      <th>3</th>\n",
              "      <td>581475</td>\n",
              "      <td>12/9/2019</td>\n",
              "      <td>23272</td>\n",
              "      <td>Tree T-Light Holder Willie Winkie</td>\n",
              "      <td>10.65</td>\n",
              "      <td>12</td>\n",
              "      <td>13069.0</td>\n",
              "      <td>United Kingdom</td>\n",
              "    </tr>\n",
              "    <tr>\n",
              "      <th>4</th>\n",
              "      <td>581475</td>\n",
              "      <td>12/9/2019</td>\n",
              "      <td>23239</td>\n",
              "      <td>Set Of 4 Knick Knack Tins Poppies</td>\n",
              "      <td>11.94</td>\n",
              "      <td>6</td>\n",
              "      <td>13069.0</td>\n",
              "      <td>United Kingdom</td>\n",
              "    </tr>\n",
              "    <tr>\n",
              "      <th>...</th>\n",
              "      <td>...</td>\n",
              "      <td>...</td>\n",
              "      <td>...</td>\n",
              "      <td>...</td>\n",
              "      <td>...</td>\n",
              "      <td>...</td>\n",
              "      <td>...</td>\n",
              "      <td>...</td>\n",
              "    </tr>\n",
              "    <tr>\n",
              "      <th>536345</th>\n",
              "      <td>C536548</td>\n",
              "      <td>12/1/2018</td>\n",
              "      <td>22168</td>\n",
              "      <td>Organiser Wood Antique White</td>\n",
              "      <td>18.96</td>\n",
              "      <td>-2</td>\n",
              "      <td>12472.0</td>\n",
              "      <td>Germany</td>\n",
              "    </tr>\n",
              "    <tr>\n",
              "      <th>536346</th>\n",
              "      <td>C536548</td>\n",
              "      <td>12/1/2018</td>\n",
              "      <td>21218</td>\n",
              "      <td>Red Spotty Biscuit Tin</td>\n",
              "      <td>14.09</td>\n",
              "      <td>-3</td>\n",
              "      <td>12472.0</td>\n",
              "      <td>Germany</td>\n",
              "    </tr>\n",
              "    <tr>\n",
              "      <th>536347</th>\n",
              "      <td>C536548</td>\n",
              "      <td>12/1/2018</td>\n",
              "      <td>20957</td>\n",
              "      <td>Porcelain Hanging Bell Small</td>\n",
              "      <td>11.74</td>\n",
              "      <td>-1</td>\n",
              "      <td>12472.0</td>\n",
              "      <td>Germany</td>\n",
              "    </tr>\n",
              "    <tr>\n",
              "      <th>536348</th>\n",
              "      <td>C536548</td>\n",
              "      <td>12/1/2018</td>\n",
              "      <td>22580</td>\n",
              "      <td>Advent Calendar Gingham Sack</td>\n",
              "      <td>16.35</td>\n",
              "      <td>-4</td>\n",
              "      <td>12472.0</td>\n",
              "      <td>Germany</td>\n",
              "    </tr>\n",
              "    <tr>\n",
              "      <th>536349</th>\n",
              "      <td>C536548</td>\n",
              "      <td>12/1/2018</td>\n",
              "      <td>22767</td>\n",
              "      <td>Triple Photo Frame Cornice</td>\n",
              "      <td>20.45</td>\n",
              "      <td>-2</td>\n",
              "      <td>12472.0</td>\n",
              "      <td>Germany</td>\n",
              "    </tr>\n",
              "  </tbody>\n",
              "</table>\n",
              "<p>536350 rows × 8 columns</p>\n",
              "</div>\n",
              "    <div class=\"colab-df-buttons\">\n",
              "\n",
              "  <div class=\"colab-df-container\">\n",
              "    <button class=\"colab-df-convert\" onclick=\"convertToInteractive('df-b31a0d41-5e15-43d3-88cb-2d2ccd1efb8c')\"\n",
              "            title=\"Convert this dataframe to an interactive table.\"\n",
              "            style=\"display:none;\">\n",
              "\n",
              "  <svg xmlns=\"http://www.w3.org/2000/svg\" height=\"24px\" viewBox=\"0 -960 960 960\">\n",
              "    <path d=\"M120-120v-720h720v720H120Zm60-500h600v-160H180v160Zm220 220h160v-160H400v160Zm0 220h160v-160H400v160ZM180-400h160v-160H180v160Zm440 0h160v-160H620v160ZM180-180h160v-160H180v160Zm440 0h160v-160H620v160Z\"/>\n",
              "  </svg>\n",
              "    </button>\n",
              "\n",
              "  <style>\n",
              "    .colab-df-container {\n",
              "      display:flex;\n",
              "      gap: 12px;\n",
              "    }\n",
              "\n",
              "    .colab-df-convert {\n",
              "      background-color: #E8F0FE;\n",
              "      border: none;\n",
              "      border-radius: 50%;\n",
              "      cursor: pointer;\n",
              "      display: none;\n",
              "      fill: #1967D2;\n",
              "      height: 32px;\n",
              "      padding: 0 0 0 0;\n",
              "      width: 32px;\n",
              "    }\n",
              "\n",
              "    .colab-df-convert:hover {\n",
              "      background-color: #E2EBFA;\n",
              "      box-shadow: 0px 1px 2px rgba(60, 64, 67, 0.3), 0px 1px 3px 1px rgba(60, 64, 67, 0.15);\n",
              "      fill: #174EA6;\n",
              "    }\n",
              "\n",
              "    .colab-df-buttons div {\n",
              "      margin-bottom: 4px;\n",
              "    }\n",
              "\n",
              "    [theme=dark] .colab-df-convert {\n",
              "      background-color: #3B4455;\n",
              "      fill: #D2E3FC;\n",
              "    }\n",
              "\n",
              "    [theme=dark] .colab-df-convert:hover {\n",
              "      background-color: #434B5C;\n",
              "      box-shadow: 0px 1px 3px 1px rgba(0, 0, 0, 0.15);\n",
              "      filter: drop-shadow(0px 1px 2px rgba(0, 0, 0, 0.3));\n",
              "      fill: #FFFFFF;\n",
              "    }\n",
              "  </style>\n",
              "\n",
              "    <script>\n",
              "      const buttonEl =\n",
              "        document.querySelector('#df-b31a0d41-5e15-43d3-88cb-2d2ccd1efb8c button.colab-df-convert');\n",
              "      buttonEl.style.display =\n",
              "        google.colab.kernel.accessAllowed ? 'block' : 'none';\n",
              "\n",
              "      async function convertToInteractive(key) {\n",
              "        const element = document.querySelector('#df-b31a0d41-5e15-43d3-88cb-2d2ccd1efb8c');\n",
              "        const dataTable =\n",
              "          await google.colab.kernel.invokeFunction('convertToInteractive',\n",
              "                                                    [key], {});\n",
              "        if (!dataTable) return;\n",
              "\n",
              "        const docLinkHtml = 'Like what you see? Visit the ' +\n",
              "          '<a target=\"_blank\" href=https://colab.research.google.com/notebooks/data_table.ipynb>data table notebook</a>'\n",
              "          + ' to learn more about interactive tables.';\n",
              "        element.innerHTML = '';\n",
              "        dataTable['output_type'] = 'display_data';\n",
              "        await google.colab.output.renderOutput(dataTable, element);\n",
              "        const docLink = document.createElement('div');\n",
              "        docLink.innerHTML = docLinkHtml;\n",
              "        element.appendChild(docLink);\n",
              "      }\n",
              "    </script>\n",
              "  </div>\n",
              "\n",
              "\n",
              "<div id=\"df-54bb57cb-d8d8-4d20-8fd4-f2e5f1beba1b\">\n",
              "  <button class=\"colab-df-quickchart\" onclick=\"quickchart('df-54bb57cb-d8d8-4d20-8fd4-f2e5f1beba1b')\"\n",
              "            title=\"Suggest charts\"\n",
              "            style=\"display:none;\">\n",
              "\n",
              "<svg xmlns=\"http://www.w3.org/2000/svg\" height=\"24px\"viewBox=\"0 0 24 24\"\n",
              "     width=\"24px\">\n",
              "    <g>\n",
              "        <path d=\"M19 3H5c-1.1 0-2 .9-2 2v14c0 1.1.9 2 2 2h14c1.1 0 2-.9 2-2V5c0-1.1-.9-2-2-2zM9 17H7v-7h2v7zm4 0h-2V7h2v10zm4 0h-2v-4h2v4z\"/>\n",
              "    </g>\n",
              "</svg>\n",
              "  </button>\n",
              "\n",
              "<style>\n",
              "  .colab-df-quickchart {\n",
              "      --bg-color: #E8F0FE;\n",
              "      --fill-color: #1967D2;\n",
              "      --hover-bg-color: #E2EBFA;\n",
              "      --hover-fill-color: #174EA6;\n",
              "      --disabled-fill-color: #AAA;\n",
              "      --disabled-bg-color: #DDD;\n",
              "  }\n",
              "\n",
              "  [theme=dark] .colab-df-quickchart {\n",
              "      --bg-color: #3B4455;\n",
              "      --fill-color: #D2E3FC;\n",
              "      --hover-bg-color: #434B5C;\n",
              "      --hover-fill-color: #FFFFFF;\n",
              "      --disabled-bg-color: #3B4455;\n",
              "      --disabled-fill-color: #666;\n",
              "  }\n",
              "\n",
              "  .colab-df-quickchart {\n",
              "    background-color: var(--bg-color);\n",
              "    border: none;\n",
              "    border-radius: 50%;\n",
              "    cursor: pointer;\n",
              "    display: none;\n",
              "    fill: var(--fill-color);\n",
              "    height: 32px;\n",
              "    padding: 0;\n",
              "    width: 32px;\n",
              "  }\n",
              "\n",
              "  .colab-df-quickchart:hover {\n",
              "    background-color: var(--hover-bg-color);\n",
              "    box-shadow: 0 1px 2px rgba(60, 64, 67, 0.3), 0 1px 3px 1px rgba(60, 64, 67, 0.15);\n",
              "    fill: var(--button-hover-fill-color);\n",
              "  }\n",
              "\n",
              "  .colab-df-quickchart-complete:disabled,\n",
              "  .colab-df-quickchart-complete:disabled:hover {\n",
              "    background-color: var(--disabled-bg-color);\n",
              "    fill: var(--disabled-fill-color);\n",
              "    box-shadow: none;\n",
              "  }\n",
              "\n",
              "  .colab-df-spinner {\n",
              "    border: 2px solid var(--fill-color);\n",
              "    border-color: transparent;\n",
              "    border-bottom-color: var(--fill-color);\n",
              "    animation:\n",
              "      spin 1s steps(1) infinite;\n",
              "  }\n",
              "\n",
              "  @keyframes spin {\n",
              "    0% {\n",
              "      border-color: transparent;\n",
              "      border-bottom-color: var(--fill-color);\n",
              "      border-left-color: var(--fill-color);\n",
              "    }\n",
              "    20% {\n",
              "      border-color: transparent;\n",
              "      border-left-color: var(--fill-color);\n",
              "      border-top-color: var(--fill-color);\n",
              "    }\n",
              "    30% {\n",
              "      border-color: transparent;\n",
              "      border-left-color: var(--fill-color);\n",
              "      border-top-color: var(--fill-color);\n",
              "      border-right-color: var(--fill-color);\n",
              "    }\n",
              "    40% {\n",
              "      border-color: transparent;\n",
              "      border-right-color: var(--fill-color);\n",
              "      border-top-color: var(--fill-color);\n",
              "    }\n",
              "    60% {\n",
              "      border-color: transparent;\n",
              "      border-right-color: var(--fill-color);\n",
              "    }\n",
              "    80% {\n",
              "      border-color: transparent;\n",
              "      border-right-color: var(--fill-color);\n",
              "      border-bottom-color: var(--fill-color);\n",
              "    }\n",
              "    90% {\n",
              "      border-color: transparent;\n",
              "      border-bottom-color: var(--fill-color);\n",
              "    }\n",
              "  }\n",
              "</style>\n",
              "\n",
              "  <script>\n",
              "    async function quickchart(key) {\n",
              "      const quickchartButtonEl =\n",
              "        document.querySelector('#' + key + ' button');\n",
              "      quickchartButtonEl.disabled = true;  // To prevent multiple clicks.\n",
              "      quickchartButtonEl.classList.add('colab-df-spinner');\n",
              "      try {\n",
              "        const charts = await google.colab.kernel.invokeFunction(\n",
              "            'suggestCharts', [key], {});\n",
              "      } catch (error) {\n",
              "        console.error('Error during call to suggestCharts:', error);\n",
              "      }\n",
              "      quickchartButtonEl.classList.remove('colab-df-spinner');\n",
              "      quickchartButtonEl.classList.add('colab-df-quickchart-complete');\n",
              "    }\n",
              "    (() => {\n",
              "      let quickchartButtonEl =\n",
              "        document.querySelector('#df-54bb57cb-d8d8-4d20-8fd4-f2e5f1beba1b button');\n",
              "      quickchartButtonEl.style.display =\n",
              "        google.colab.kernel.accessAllowed ? 'block' : 'none';\n",
              "    })();\n",
              "  </script>\n",
              "</div>\n",
              "\n",
              "  <div id=\"id_4dc64ea0-a1d4-4763-ab7e-0bbdea8cb3b0\">\n",
              "    <style>\n",
              "      .colab-df-generate {\n",
              "        background-color: #E8F0FE;\n",
              "        border: none;\n",
              "        border-radius: 50%;\n",
              "        cursor: pointer;\n",
              "        display: none;\n",
              "        fill: #1967D2;\n",
              "        height: 32px;\n",
              "        padding: 0 0 0 0;\n",
              "        width: 32px;\n",
              "      }\n",
              "\n",
              "      .colab-df-generate:hover {\n",
              "        background-color: #E2EBFA;\n",
              "        box-shadow: 0px 1px 2px rgba(60, 64, 67, 0.3), 0px 1px 3px 1px rgba(60, 64, 67, 0.15);\n",
              "        fill: #174EA6;\n",
              "      }\n",
              "\n",
              "      [theme=dark] .colab-df-generate {\n",
              "        background-color: #3B4455;\n",
              "        fill: #D2E3FC;\n",
              "      }\n",
              "\n",
              "      [theme=dark] .colab-df-generate:hover {\n",
              "        background-color: #434B5C;\n",
              "        box-shadow: 0px 1px 3px 1px rgba(0, 0, 0, 0.15);\n",
              "        filter: drop-shadow(0px 1px 2px rgba(0, 0, 0, 0.3));\n",
              "        fill: #FFFFFF;\n",
              "      }\n",
              "    </style>\n",
              "    <button class=\"colab-df-generate\" onclick=\"generateWithVariable('df')\"\n",
              "            title=\"Generate code using this dataframe.\"\n",
              "            style=\"display:none;\">\n",
              "\n",
              "  <svg xmlns=\"http://www.w3.org/2000/svg\" height=\"24px\"viewBox=\"0 0 24 24\"\n",
              "       width=\"24px\">\n",
              "    <path d=\"M7,19H8.4L18.45,9,17,7.55,7,17.6ZM5,21V16.75L18.45,3.32a2,2,0,0,1,2.83,0l1.4,1.43a1.91,1.91,0,0,1,.58,1.4,1.91,1.91,0,0,1-.58,1.4L9.25,21ZM18.45,9,17,7.55Zm-12,3A5.31,5.31,0,0,0,4.9,8.1,5.31,5.31,0,0,0,1,6.5,5.31,5.31,0,0,0,4.9,4.9,5.31,5.31,0,0,0,6.5,1,5.31,5.31,0,0,0,8.1,4.9,5.31,5.31,0,0,0,12,6.5,5.46,5.46,0,0,0,6.5,12Z\"/>\n",
              "  </svg>\n",
              "    </button>\n",
              "    <script>\n",
              "      (() => {\n",
              "      const buttonEl =\n",
              "        document.querySelector('#id_4dc64ea0-a1d4-4763-ab7e-0bbdea8cb3b0 button.colab-df-generate');\n",
              "      buttonEl.style.display =\n",
              "        google.colab.kernel.accessAllowed ? 'block' : 'none';\n",
              "\n",
              "      buttonEl.onclick = () => {\n",
              "        google.colab.notebook.generateWithVariable('df');\n",
              "      }\n",
              "      })();\n",
              "    </script>\n",
              "  </div>\n",
              "\n",
              "    </div>\n",
              "  </div>\n"
            ],
            "application/vnd.google.colaboratory.intrinsic+json": {
              "type": "dataframe",
              "variable_name": "df"
            }
          },
          "metadata": {},
          "execution_count": 12
        }
      ],
      "execution_count": 12
    },
    {
      "cell_type": "markdown",
      "source": [
        "Dataset ini memiliki lebih dari 500.000 baris data dan 8 kolom. Berikut adalah deskripsi masing-masing kolom:\n",
        "\n",
        "\n",
        "1.   **TransactionNo** (kategorikal):\n",
        "Merupakan nomor unik enam digit yang mendefinisikan setiap transaksi. Jika terdapat huruf \"C\" pada kode, artinya transaksi tersebut merupakan pembatalan\n",
        "2. **Date** (numerik):\n",
        "Menunjukkan tanggal saat transaksi terjadi.\n",
        "3. **ProductNo** (kategorikal):\n",
        "Karakter unik yang terdiri dari lima atau enam digit, digunakan untuk mengidentifikasi produk tertentu.\n",
        "4. **Product** (kategorikal):\n",
        "Nama produk atau barang yang dijual.\n",
        "5. **Price** (numerik):\n",
        "Harga per unit dari masing-masing produk, dihitung dalam pound sterling (£).\n",
        "6. **Quantity** (numerik):\n",
        "Jumlah produk yang dibeli dalam setiap transaksi. Nilai negatif menunjukkan transaksi yang dibatalkan.\n",
        "7. **CustomerNo** (kategorikal):\n",
        "Nomor unik yang terdiri dari lima digit untuk mengidentifikasi setiap pelanggan.\n",
        "8. **Country** (kategorikal):\n",
        "Nama negara di mana pelanggan tersebut berada."
      ],
      "metadata": {
        "id": "XZws6CwwJJ-D"
      }
    },
    {
      "cell_type": "code",
      "source": [
        "df.info()"
      ],
      "metadata": {
        "colab": {
          "base_uri": "https://localhost:8080/"
        },
        "id": "UYRXUajhJ0P_",
        "outputId": "5d7955cd-98e3-4afb-9db5-ff116717d811",
        "trusted": true,
        "execution": {
          "iopub.status.busy": "2025-03-10T07:19:14.016759Z",
          "iopub.execute_input": "2025-03-10T07:19:14.017086Z",
          "iopub.status.idle": "2025-03-10T07:19:14.155976Z",
          "shell.execute_reply.started": "2025-03-10T07:19:14.017063Z",
          "shell.execute_reply": "2025-03-10T07:19:14.155148Z"
        }
      },
      "outputs": [
        {
          "output_type": "stream",
          "name": "stdout",
          "text": [
            "<class 'pandas.core.frame.DataFrame'>\n",
            "RangeIndex: 536350 entries, 0 to 536349\n",
            "Data columns (total 8 columns):\n",
            " #   Column         Non-Null Count   Dtype  \n",
            "---  ------         --------------   -----  \n",
            " 0   TransactionNo  536350 non-null  object \n",
            " 1   Date           536350 non-null  object \n",
            " 2   ProductNo      536350 non-null  object \n",
            " 3   ProductName    536350 non-null  object \n",
            " 4   Price          536350 non-null  float64\n",
            " 5   Quantity       536350 non-null  int64  \n",
            " 6   CustomerNo     536295 non-null  float64\n",
            " 7   Country        536350 non-null  object \n",
            "dtypes: float64(2), int64(1), object(5)\n",
            "memory usage: 32.7+ MB\n"
          ]
        }
      ],
      "execution_count": 13
    },
    {
      "cell_type": "markdown",
      "source": [
        "Dari eksekusi method df.info() terdapat:\n",
        "\n",
        "\n",
        "*   Terdapat 2 kolom numerik dengan tipe data float64 yaitu: Price dan CustomerNo.\n",
        "\n",
        "*   Terdapat 5 kolom dengan tipe data object yaitu: TransactionNo, Date, ProductNo, ProductName, dan Country.\n",
        "\n",
        "**Findings:**\n",
        "*   Meskipun deskripsinya adalah \"Date (numeric)\" dalam penjelasan, data yang muncul berbentuk string (misalnya, \"12/9/2019\"). Agar dapat melakukan operasi tanggal (seperti filtering berdasarkan waktu, ekstraksi bulan/tahun, dsb.), maka akan dikonversi ke tipe datetime menggunakan pd.to_datetime().\n",
        "*   CustomerNo (float64):\n",
        "Meskipun disimpan sebagai float64, biasanya lebih tepat jika diubah menjadi tipe object atau string (atau integer jika tidak ada nilai hilang) untuk menghindari perlakuan numerik yang tidak diinginkan. Ada beberapa nilai yang hilang (536295 non-null dari 536350).\n",
        "\n"
      ],
      "metadata": {
        "id": "i0gk2WfsKo4u"
      }
    },
    {
      "cell_type": "code",
      "source": [
        "df.describe()"
      ],
      "metadata": {
        "colab": {
          "base_uri": "https://localhost:8080/",
          "height": 300
        },
        "id": "RlGQYZ5DLgfm",
        "outputId": "77111a92-b18b-4124-ef32-b1b940f322c9",
        "trusted": true,
        "execution": {
          "iopub.status.busy": "2025-03-10T07:19:14.157130Z",
          "iopub.execute_input": "2025-03-10T07:19:14.157365Z",
          "iopub.status.idle": "2025-03-10T07:19:14.218234Z",
          "shell.execute_reply.started": "2025-03-10T07:19:14.157335Z",
          "shell.execute_reply": "2025-03-10T07:19:14.217411Z"
        }
      },
      "outputs": [
        {
          "output_type": "execute_result",
          "data": {
            "text/plain": [
              "               Price       Quantity     CustomerNo\n",
              "count  536350.000000  536350.000000  536295.000000\n",
              "mean       12.662182       9.919347   15227.893178\n",
              "std         8.490450     216.662300    1716.582932\n",
              "min         5.130000  -80995.000000   12004.000000\n",
              "25%        10.990000       1.000000   13807.000000\n",
              "50%        11.940000       3.000000   15152.000000\n",
              "75%        14.090000      10.000000   16729.000000\n",
              "max       660.620000   80995.000000   18287.000000"
            ],
            "text/html": [
              "\n",
              "  <div id=\"df-fe897daa-34c7-419b-b9c8-4f2ab323bf5a\" class=\"colab-df-container\">\n",
              "    <div>\n",
              "<style scoped>\n",
              "    .dataframe tbody tr th:only-of-type {\n",
              "        vertical-align: middle;\n",
              "    }\n",
              "\n",
              "    .dataframe tbody tr th {\n",
              "        vertical-align: top;\n",
              "    }\n",
              "\n",
              "    .dataframe thead th {\n",
              "        text-align: right;\n",
              "    }\n",
              "</style>\n",
              "<table border=\"1\" class=\"dataframe\">\n",
              "  <thead>\n",
              "    <tr style=\"text-align: right;\">\n",
              "      <th></th>\n",
              "      <th>Price</th>\n",
              "      <th>Quantity</th>\n",
              "      <th>CustomerNo</th>\n",
              "    </tr>\n",
              "  </thead>\n",
              "  <tbody>\n",
              "    <tr>\n",
              "      <th>count</th>\n",
              "      <td>536350.000000</td>\n",
              "      <td>536350.000000</td>\n",
              "      <td>536295.000000</td>\n",
              "    </tr>\n",
              "    <tr>\n",
              "      <th>mean</th>\n",
              "      <td>12.662182</td>\n",
              "      <td>9.919347</td>\n",
              "      <td>15227.893178</td>\n",
              "    </tr>\n",
              "    <tr>\n",
              "      <th>std</th>\n",
              "      <td>8.490450</td>\n",
              "      <td>216.662300</td>\n",
              "      <td>1716.582932</td>\n",
              "    </tr>\n",
              "    <tr>\n",
              "      <th>min</th>\n",
              "      <td>5.130000</td>\n",
              "      <td>-80995.000000</td>\n",
              "      <td>12004.000000</td>\n",
              "    </tr>\n",
              "    <tr>\n",
              "      <th>25%</th>\n",
              "      <td>10.990000</td>\n",
              "      <td>1.000000</td>\n",
              "      <td>13807.000000</td>\n",
              "    </tr>\n",
              "    <tr>\n",
              "      <th>50%</th>\n",
              "      <td>11.940000</td>\n",
              "      <td>3.000000</td>\n",
              "      <td>15152.000000</td>\n",
              "    </tr>\n",
              "    <tr>\n",
              "      <th>75%</th>\n",
              "      <td>14.090000</td>\n",
              "      <td>10.000000</td>\n",
              "      <td>16729.000000</td>\n",
              "    </tr>\n",
              "    <tr>\n",
              "      <th>max</th>\n",
              "      <td>660.620000</td>\n",
              "      <td>80995.000000</td>\n",
              "      <td>18287.000000</td>\n",
              "    </tr>\n",
              "  </tbody>\n",
              "</table>\n",
              "</div>\n",
              "    <div class=\"colab-df-buttons\">\n",
              "\n",
              "  <div class=\"colab-df-container\">\n",
              "    <button class=\"colab-df-convert\" onclick=\"convertToInteractive('df-fe897daa-34c7-419b-b9c8-4f2ab323bf5a')\"\n",
              "            title=\"Convert this dataframe to an interactive table.\"\n",
              "            style=\"display:none;\">\n",
              "\n",
              "  <svg xmlns=\"http://www.w3.org/2000/svg\" height=\"24px\" viewBox=\"0 -960 960 960\">\n",
              "    <path d=\"M120-120v-720h720v720H120Zm60-500h600v-160H180v160Zm220 220h160v-160H400v160Zm0 220h160v-160H400v160ZM180-400h160v-160H180v160Zm440 0h160v-160H620v160ZM180-180h160v-160H180v160Zm440 0h160v-160H620v160Z\"/>\n",
              "  </svg>\n",
              "    </button>\n",
              "\n",
              "  <style>\n",
              "    .colab-df-container {\n",
              "      display:flex;\n",
              "      gap: 12px;\n",
              "    }\n",
              "\n",
              "    .colab-df-convert {\n",
              "      background-color: #E8F0FE;\n",
              "      border: none;\n",
              "      border-radius: 50%;\n",
              "      cursor: pointer;\n",
              "      display: none;\n",
              "      fill: #1967D2;\n",
              "      height: 32px;\n",
              "      padding: 0 0 0 0;\n",
              "      width: 32px;\n",
              "    }\n",
              "\n",
              "    .colab-df-convert:hover {\n",
              "      background-color: #E2EBFA;\n",
              "      box-shadow: 0px 1px 2px rgba(60, 64, 67, 0.3), 0px 1px 3px 1px rgba(60, 64, 67, 0.15);\n",
              "      fill: #174EA6;\n",
              "    }\n",
              "\n",
              "    .colab-df-buttons div {\n",
              "      margin-bottom: 4px;\n",
              "    }\n",
              "\n",
              "    [theme=dark] .colab-df-convert {\n",
              "      background-color: #3B4455;\n",
              "      fill: #D2E3FC;\n",
              "    }\n",
              "\n",
              "    [theme=dark] .colab-df-convert:hover {\n",
              "      background-color: #434B5C;\n",
              "      box-shadow: 0px 1px 3px 1px rgba(0, 0, 0, 0.15);\n",
              "      filter: drop-shadow(0px 1px 2px rgba(0, 0, 0, 0.3));\n",
              "      fill: #FFFFFF;\n",
              "    }\n",
              "  </style>\n",
              "\n",
              "    <script>\n",
              "      const buttonEl =\n",
              "        document.querySelector('#df-fe897daa-34c7-419b-b9c8-4f2ab323bf5a button.colab-df-convert');\n",
              "      buttonEl.style.display =\n",
              "        google.colab.kernel.accessAllowed ? 'block' : 'none';\n",
              "\n",
              "      async function convertToInteractive(key) {\n",
              "        const element = document.querySelector('#df-fe897daa-34c7-419b-b9c8-4f2ab323bf5a');\n",
              "        const dataTable =\n",
              "          await google.colab.kernel.invokeFunction('convertToInteractive',\n",
              "                                                    [key], {});\n",
              "        if (!dataTable) return;\n",
              "\n",
              "        const docLinkHtml = 'Like what you see? Visit the ' +\n",
              "          '<a target=\"_blank\" href=https://colab.research.google.com/notebooks/data_table.ipynb>data table notebook</a>'\n",
              "          + ' to learn more about interactive tables.';\n",
              "        element.innerHTML = '';\n",
              "        dataTable['output_type'] = 'display_data';\n",
              "        await google.colab.output.renderOutput(dataTable, element);\n",
              "        const docLink = document.createElement('div');\n",
              "        docLink.innerHTML = docLinkHtml;\n",
              "        element.appendChild(docLink);\n",
              "      }\n",
              "    </script>\n",
              "  </div>\n",
              "\n",
              "\n",
              "<div id=\"df-f677093a-fb59-46d8-aedf-7c93c6fdec18\">\n",
              "  <button class=\"colab-df-quickchart\" onclick=\"quickchart('df-f677093a-fb59-46d8-aedf-7c93c6fdec18')\"\n",
              "            title=\"Suggest charts\"\n",
              "            style=\"display:none;\">\n",
              "\n",
              "<svg xmlns=\"http://www.w3.org/2000/svg\" height=\"24px\"viewBox=\"0 0 24 24\"\n",
              "     width=\"24px\">\n",
              "    <g>\n",
              "        <path d=\"M19 3H5c-1.1 0-2 .9-2 2v14c0 1.1.9 2 2 2h14c1.1 0 2-.9 2-2V5c0-1.1-.9-2-2-2zM9 17H7v-7h2v7zm4 0h-2V7h2v10zm4 0h-2v-4h2v4z\"/>\n",
              "    </g>\n",
              "</svg>\n",
              "  </button>\n",
              "\n",
              "<style>\n",
              "  .colab-df-quickchart {\n",
              "      --bg-color: #E8F0FE;\n",
              "      --fill-color: #1967D2;\n",
              "      --hover-bg-color: #E2EBFA;\n",
              "      --hover-fill-color: #174EA6;\n",
              "      --disabled-fill-color: #AAA;\n",
              "      --disabled-bg-color: #DDD;\n",
              "  }\n",
              "\n",
              "  [theme=dark] .colab-df-quickchart {\n",
              "      --bg-color: #3B4455;\n",
              "      --fill-color: #D2E3FC;\n",
              "      --hover-bg-color: #434B5C;\n",
              "      --hover-fill-color: #FFFFFF;\n",
              "      --disabled-bg-color: #3B4455;\n",
              "      --disabled-fill-color: #666;\n",
              "  }\n",
              "\n",
              "  .colab-df-quickchart {\n",
              "    background-color: var(--bg-color);\n",
              "    border: none;\n",
              "    border-radius: 50%;\n",
              "    cursor: pointer;\n",
              "    display: none;\n",
              "    fill: var(--fill-color);\n",
              "    height: 32px;\n",
              "    padding: 0;\n",
              "    width: 32px;\n",
              "  }\n",
              "\n",
              "  .colab-df-quickchart:hover {\n",
              "    background-color: var(--hover-bg-color);\n",
              "    box-shadow: 0 1px 2px rgba(60, 64, 67, 0.3), 0 1px 3px 1px rgba(60, 64, 67, 0.15);\n",
              "    fill: var(--button-hover-fill-color);\n",
              "  }\n",
              "\n",
              "  .colab-df-quickchart-complete:disabled,\n",
              "  .colab-df-quickchart-complete:disabled:hover {\n",
              "    background-color: var(--disabled-bg-color);\n",
              "    fill: var(--disabled-fill-color);\n",
              "    box-shadow: none;\n",
              "  }\n",
              "\n",
              "  .colab-df-spinner {\n",
              "    border: 2px solid var(--fill-color);\n",
              "    border-color: transparent;\n",
              "    border-bottom-color: var(--fill-color);\n",
              "    animation:\n",
              "      spin 1s steps(1) infinite;\n",
              "  }\n",
              "\n",
              "  @keyframes spin {\n",
              "    0% {\n",
              "      border-color: transparent;\n",
              "      border-bottom-color: var(--fill-color);\n",
              "      border-left-color: var(--fill-color);\n",
              "    }\n",
              "    20% {\n",
              "      border-color: transparent;\n",
              "      border-left-color: var(--fill-color);\n",
              "      border-top-color: var(--fill-color);\n",
              "    }\n",
              "    30% {\n",
              "      border-color: transparent;\n",
              "      border-left-color: var(--fill-color);\n",
              "      border-top-color: var(--fill-color);\n",
              "      border-right-color: var(--fill-color);\n",
              "    }\n",
              "    40% {\n",
              "      border-color: transparent;\n",
              "      border-right-color: var(--fill-color);\n",
              "      border-top-color: var(--fill-color);\n",
              "    }\n",
              "    60% {\n",
              "      border-color: transparent;\n",
              "      border-right-color: var(--fill-color);\n",
              "    }\n",
              "    80% {\n",
              "      border-color: transparent;\n",
              "      border-right-color: var(--fill-color);\n",
              "      border-bottom-color: var(--fill-color);\n",
              "    }\n",
              "    90% {\n",
              "      border-color: transparent;\n",
              "      border-bottom-color: var(--fill-color);\n",
              "    }\n",
              "  }\n",
              "</style>\n",
              "\n",
              "  <script>\n",
              "    async function quickchart(key) {\n",
              "      const quickchartButtonEl =\n",
              "        document.querySelector('#' + key + ' button');\n",
              "      quickchartButtonEl.disabled = true;  // To prevent multiple clicks.\n",
              "      quickchartButtonEl.classList.add('colab-df-spinner');\n",
              "      try {\n",
              "        const charts = await google.colab.kernel.invokeFunction(\n",
              "            'suggestCharts', [key], {});\n",
              "      } catch (error) {\n",
              "        console.error('Error during call to suggestCharts:', error);\n",
              "      }\n",
              "      quickchartButtonEl.classList.remove('colab-df-spinner');\n",
              "      quickchartButtonEl.classList.add('colab-df-quickchart-complete');\n",
              "    }\n",
              "    (() => {\n",
              "      let quickchartButtonEl =\n",
              "        document.querySelector('#df-f677093a-fb59-46d8-aedf-7c93c6fdec18 button');\n",
              "      quickchartButtonEl.style.display =\n",
              "        google.colab.kernel.accessAllowed ? 'block' : 'none';\n",
              "    })();\n",
              "  </script>\n",
              "</div>\n",
              "\n",
              "    </div>\n",
              "  </div>\n"
            ],
            "application/vnd.google.colaboratory.intrinsic+json": {
              "type": "dataframe",
              "summary": "{\n  \"name\": \"df\",\n  \"rows\": 8,\n  \"fields\": [\n    {\n      \"column\": \"Price\",\n      \"properties\": {\n        \"dtype\": \"number\",\n        \"std\": 189591.93391631957,\n        \"min\": 5.13,\n        \"max\": 536350.0,\n        \"num_unique_values\": 8,\n        \"samples\": [\n          12.662182287685285,\n          11.94,\n          536350.0\n        ],\n        \"semantic_type\": \"\",\n        \"description\": \"\"\n      }\n    },\n    {\n      \"column\": \"Quantity\",\n      \"properties\": {\n        \"dtype\": \"number\",\n        \"std\": 194495.8935159159,\n        \"min\": -80995.0,\n        \"max\": 536350.0,\n        \"num_unique_values\": 8,\n        \"samples\": [\n          9.919347441036637,\n          3.0,\n          536350.0\n        ],\n        \"semantic_type\": \"\",\n        \"description\": \"\"\n      }\n    },\n    {\n      \"column\": \"CustomerNo\",\n      \"properties\": {\n        \"dtype\": \"number\",\n        \"std\": 184985.04273774437,\n        \"min\": 1716.5829320561236,\n        \"max\": 536295.0,\n        \"num_unique_values\": 8,\n        \"samples\": [\n          15227.893178194838,\n          15152.0,\n          536295.0\n        ],\n        \"semantic_type\": \"\",\n        \"description\": \"\"\n      }\n    }\n  ]\n}"
            }
          },
          "metadata": {},
          "execution_count": 14
        }
      ],
      "execution_count": 14
    },
    {
      "cell_type": "markdown",
      "source": [
        "Fungsi describe() memberikan informasi statistik pada masing-masing kolom, antara lain:\n",
        "\n",
        "\n",
        "*   Count  adalah jumlah sampel pada data.\n",
        "Mean adalah nilai rata-rata.\n",
        "\n",
        "*   Std adalah standar deviasi.\n",
        "- Min yaitu nilai minimum setiap kolom.\n",
        "- 25% adalah kuartil pertama.\n",
        "- Kuartil adalah nilai yang menandai batas interval dalam empat bagian sebaran yang sama.\n",
        "- 50% adalah kuartil kedua, atau biasa juga disebut median (nilai tengah).\n",
        "- 75% adalah kuartil ketiga.\n",
        "- Max adalah nilai maksimum."
      ],
      "metadata": {
        "id": "tSqi4cANMXzg"
      }
    },
    {
      "cell_type": "markdown",
      "source": [
        "## EDA - Menangani Duplikasi, Missing Value, Perubahan Tipe Data dan Outliers"
      ],
      "metadata": {
        "id": "j6U6eMH4NRK-"
      }
    },
    {
      "cell_type": "markdown",
      "source": [
        "## **Menangani Duplikasi**"
      ],
      "metadata": {
        "id": "Qt_lyK52VuMX"
      }
    },
    {
      "cell_type": "code",
      "source": [
        "df.duplicated().sum()"
      ],
      "metadata": {
        "colab": {
          "base_uri": "https://localhost:8080/"
        },
        "id": "YShxH1unMptO",
        "outputId": "ebdc9a34-9e2f-4b2c-b04a-07d63c3d908e",
        "trusted": true,
        "execution": {
          "iopub.status.busy": "2025-03-10T07:19:14.219087Z",
          "iopub.execute_input": "2025-03-10T07:19:14.219310Z",
          "iopub.status.idle": "2025-03-10T07:19:14.469777Z",
          "shell.execute_reply.started": "2025-03-10T07:19:14.219291Z",
          "shell.execute_reply": "2025-03-10T07:19:14.469016Z"
        }
      },
      "outputs": [
        {
          "output_type": "execute_result",
          "data": {
            "text/plain": [
              "5200"
            ]
          },
          "metadata": {},
          "execution_count": 15
        }
      ],
      "execution_count": 15
    },
    {
      "cell_type": "markdown",
      "source": [
        "Output df.duplicated().sum() menghasilkan nilai 5200, yang berarti ada 5200 baris dalam DataFrame yang teridentifikasi sebagai duplikat. Maka perlu kita hapus."
      ],
      "metadata": {
        "id": "5OZdfH5MNvu0"
      }
    },
    {
      "cell_type": "code",
      "source": [
        "df_noduplicates = df.drop_duplicates()"
      ],
      "metadata": {
        "id": "nSoV2BBQNvBe",
        "trusted": true,
        "execution": {
          "iopub.status.busy": "2025-03-10T07:19:14.470541Z",
          "iopub.execute_input": "2025-03-10T07:19:14.470784Z",
          "iopub.status.idle": "2025-03-10T07:19:14.756163Z",
          "shell.execute_reply.started": "2025-03-10T07:19:14.470764Z",
          "shell.execute_reply": "2025-03-10T07:19:14.755421Z"
        }
      },
      "outputs": [],
      "execution_count": 16
    },
    {
      "cell_type": "code",
      "source": [
        "df_noduplicates"
      ],
      "metadata": {
        "colab": {
          "base_uri": "https://localhost:8080/",
          "height": 826
        },
        "id": "wqZRVx6RN-bY",
        "outputId": "de91dce8-88e7-4ea2-b465-3c9a499be1e9",
        "trusted": true,
        "execution": {
          "iopub.status.busy": "2025-03-10T07:19:14.756936Z",
          "iopub.execute_input": "2025-03-10T07:19:14.757260Z",
          "iopub.status.idle": "2025-03-10T07:19:14.770319Z",
          "shell.execute_reply.started": "2025-03-10T07:19:14.757218Z",
          "shell.execute_reply": "2025-03-10T07:19:14.769507Z"
        }
      },
      "outputs": [
        {
          "output_type": "execute_result",
          "data": {
            "text/plain": [
              "       TransactionNo       Date ProductNo  \\\n",
              "0             581482  12/9/2019     22485   \n",
              "1             581475  12/9/2019     22596   \n",
              "2             581475  12/9/2019     23235   \n",
              "3             581475  12/9/2019     23272   \n",
              "4             581475  12/9/2019     23239   \n",
              "...              ...        ...       ...   \n",
              "536345       C536548  12/1/2018     22168   \n",
              "536346       C536548  12/1/2018     21218   \n",
              "536347       C536548  12/1/2018     20957   \n",
              "536348       C536548  12/1/2018     22580   \n",
              "536349       C536548  12/1/2018     22767   \n",
              "\n",
              "                                ProductName  Price  Quantity  CustomerNo  \\\n",
              "0             Set Of 2 Wooden Market Crates  21.47        12     17490.0   \n",
              "1       Christmas Star Wish List Chalkboard  10.65        36     13069.0   \n",
              "2                  Storage Tin Vintage Leaf  11.53        12     13069.0   \n",
              "3         Tree T-Light Holder Willie Winkie  10.65        12     13069.0   \n",
              "4         Set Of 4 Knick Knack Tins Poppies  11.94         6     13069.0   \n",
              "...                                     ...    ...       ...         ...   \n",
              "536345         Organiser Wood Antique White  18.96        -2     12472.0   \n",
              "536346               Red Spotty Biscuit Tin  14.09        -3     12472.0   \n",
              "536347         Porcelain Hanging Bell Small  11.74        -1     12472.0   \n",
              "536348         Advent Calendar Gingham Sack  16.35        -4     12472.0   \n",
              "536349           Triple Photo Frame Cornice  20.45        -2     12472.0   \n",
              "\n",
              "               Country  \n",
              "0       United Kingdom  \n",
              "1       United Kingdom  \n",
              "2       United Kingdom  \n",
              "3       United Kingdom  \n",
              "4       United Kingdom  \n",
              "...                ...  \n",
              "536345         Germany  \n",
              "536346         Germany  \n",
              "536347         Germany  \n",
              "536348         Germany  \n",
              "536349         Germany  \n",
              "\n",
              "[531150 rows x 8 columns]"
            ],
            "text/html": [
              "\n",
              "  <div id=\"df-a7c94bfd-2e9a-49dc-95cc-6b8ea4d0e781\" class=\"colab-df-container\">\n",
              "    <div>\n",
              "<style scoped>\n",
              "    .dataframe tbody tr th:only-of-type {\n",
              "        vertical-align: middle;\n",
              "    }\n",
              "\n",
              "    .dataframe tbody tr th {\n",
              "        vertical-align: top;\n",
              "    }\n",
              "\n",
              "    .dataframe thead th {\n",
              "        text-align: right;\n",
              "    }\n",
              "</style>\n",
              "<table border=\"1\" class=\"dataframe\">\n",
              "  <thead>\n",
              "    <tr style=\"text-align: right;\">\n",
              "      <th></th>\n",
              "      <th>TransactionNo</th>\n",
              "      <th>Date</th>\n",
              "      <th>ProductNo</th>\n",
              "      <th>ProductName</th>\n",
              "      <th>Price</th>\n",
              "      <th>Quantity</th>\n",
              "      <th>CustomerNo</th>\n",
              "      <th>Country</th>\n",
              "    </tr>\n",
              "  </thead>\n",
              "  <tbody>\n",
              "    <tr>\n",
              "      <th>0</th>\n",
              "      <td>581482</td>\n",
              "      <td>12/9/2019</td>\n",
              "      <td>22485</td>\n",
              "      <td>Set Of 2 Wooden Market Crates</td>\n",
              "      <td>21.47</td>\n",
              "      <td>12</td>\n",
              "      <td>17490.0</td>\n",
              "      <td>United Kingdom</td>\n",
              "    </tr>\n",
              "    <tr>\n",
              "      <th>1</th>\n",
              "      <td>581475</td>\n",
              "      <td>12/9/2019</td>\n",
              "      <td>22596</td>\n",
              "      <td>Christmas Star Wish List Chalkboard</td>\n",
              "      <td>10.65</td>\n",
              "      <td>36</td>\n",
              "      <td>13069.0</td>\n",
              "      <td>United Kingdom</td>\n",
              "    </tr>\n",
              "    <tr>\n",
              "      <th>2</th>\n",
              "      <td>581475</td>\n",
              "      <td>12/9/2019</td>\n",
              "      <td>23235</td>\n",
              "      <td>Storage Tin Vintage Leaf</td>\n",
              "      <td>11.53</td>\n",
              "      <td>12</td>\n",
              "      <td>13069.0</td>\n",
              "      <td>United Kingdom</td>\n",
              "    </tr>\n",
              "    <tr>\n",
              "      <th>3</th>\n",
              "      <td>581475</td>\n",
              "      <td>12/9/2019</td>\n",
              "      <td>23272</td>\n",
              "      <td>Tree T-Light Holder Willie Winkie</td>\n",
              "      <td>10.65</td>\n",
              "      <td>12</td>\n",
              "      <td>13069.0</td>\n",
              "      <td>United Kingdom</td>\n",
              "    </tr>\n",
              "    <tr>\n",
              "      <th>4</th>\n",
              "      <td>581475</td>\n",
              "      <td>12/9/2019</td>\n",
              "      <td>23239</td>\n",
              "      <td>Set Of 4 Knick Knack Tins Poppies</td>\n",
              "      <td>11.94</td>\n",
              "      <td>6</td>\n",
              "      <td>13069.0</td>\n",
              "      <td>United Kingdom</td>\n",
              "    </tr>\n",
              "    <tr>\n",
              "      <th>...</th>\n",
              "      <td>...</td>\n",
              "      <td>...</td>\n",
              "      <td>...</td>\n",
              "      <td>...</td>\n",
              "      <td>...</td>\n",
              "      <td>...</td>\n",
              "      <td>...</td>\n",
              "      <td>...</td>\n",
              "    </tr>\n",
              "    <tr>\n",
              "      <th>536345</th>\n",
              "      <td>C536548</td>\n",
              "      <td>12/1/2018</td>\n",
              "      <td>22168</td>\n",
              "      <td>Organiser Wood Antique White</td>\n",
              "      <td>18.96</td>\n",
              "      <td>-2</td>\n",
              "      <td>12472.0</td>\n",
              "      <td>Germany</td>\n",
              "    </tr>\n",
              "    <tr>\n",
              "      <th>536346</th>\n",
              "      <td>C536548</td>\n",
              "      <td>12/1/2018</td>\n",
              "      <td>21218</td>\n",
              "      <td>Red Spotty Biscuit Tin</td>\n",
              "      <td>14.09</td>\n",
              "      <td>-3</td>\n",
              "      <td>12472.0</td>\n",
              "      <td>Germany</td>\n",
              "    </tr>\n",
              "    <tr>\n",
              "      <th>536347</th>\n",
              "      <td>C536548</td>\n",
              "      <td>12/1/2018</td>\n",
              "      <td>20957</td>\n",
              "      <td>Porcelain Hanging Bell Small</td>\n",
              "      <td>11.74</td>\n",
              "      <td>-1</td>\n",
              "      <td>12472.0</td>\n",
              "      <td>Germany</td>\n",
              "    </tr>\n",
              "    <tr>\n",
              "      <th>536348</th>\n",
              "      <td>C536548</td>\n",
              "      <td>12/1/2018</td>\n",
              "      <td>22580</td>\n",
              "      <td>Advent Calendar Gingham Sack</td>\n",
              "      <td>16.35</td>\n",
              "      <td>-4</td>\n",
              "      <td>12472.0</td>\n",
              "      <td>Germany</td>\n",
              "    </tr>\n",
              "    <tr>\n",
              "      <th>536349</th>\n",
              "      <td>C536548</td>\n",
              "      <td>12/1/2018</td>\n",
              "      <td>22767</td>\n",
              "      <td>Triple Photo Frame Cornice</td>\n",
              "      <td>20.45</td>\n",
              "      <td>-2</td>\n",
              "      <td>12472.0</td>\n",
              "      <td>Germany</td>\n",
              "    </tr>\n",
              "  </tbody>\n",
              "</table>\n",
              "<p>531150 rows × 8 columns</p>\n",
              "</div>\n",
              "    <div class=\"colab-df-buttons\">\n",
              "\n",
              "  <div class=\"colab-df-container\">\n",
              "    <button class=\"colab-df-convert\" onclick=\"convertToInteractive('df-a7c94bfd-2e9a-49dc-95cc-6b8ea4d0e781')\"\n",
              "            title=\"Convert this dataframe to an interactive table.\"\n",
              "            style=\"display:none;\">\n",
              "\n",
              "  <svg xmlns=\"http://www.w3.org/2000/svg\" height=\"24px\" viewBox=\"0 -960 960 960\">\n",
              "    <path d=\"M120-120v-720h720v720H120Zm60-500h600v-160H180v160Zm220 220h160v-160H400v160Zm0 220h160v-160H400v160ZM180-400h160v-160H180v160Zm440 0h160v-160H620v160ZM180-180h160v-160H180v160Zm440 0h160v-160H620v160Z\"/>\n",
              "  </svg>\n",
              "    </button>\n",
              "\n",
              "  <style>\n",
              "    .colab-df-container {\n",
              "      display:flex;\n",
              "      gap: 12px;\n",
              "    }\n",
              "\n",
              "    .colab-df-convert {\n",
              "      background-color: #E8F0FE;\n",
              "      border: none;\n",
              "      border-radius: 50%;\n",
              "      cursor: pointer;\n",
              "      display: none;\n",
              "      fill: #1967D2;\n",
              "      height: 32px;\n",
              "      padding: 0 0 0 0;\n",
              "      width: 32px;\n",
              "    }\n",
              "\n",
              "    .colab-df-convert:hover {\n",
              "      background-color: #E2EBFA;\n",
              "      box-shadow: 0px 1px 2px rgba(60, 64, 67, 0.3), 0px 1px 3px 1px rgba(60, 64, 67, 0.15);\n",
              "      fill: #174EA6;\n",
              "    }\n",
              "\n",
              "    .colab-df-buttons div {\n",
              "      margin-bottom: 4px;\n",
              "    }\n",
              "\n",
              "    [theme=dark] .colab-df-convert {\n",
              "      background-color: #3B4455;\n",
              "      fill: #D2E3FC;\n",
              "    }\n",
              "\n",
              "    [theme=dark] .colab-df-convert:hover {\n",
              "      background-color: #434B5C;\n",
              "      box-shadow: 0px 1px 3px 1px rgba(0, 0, 0, 0.15);\n",
              "      filter: drop-shadow(0px 1px 2px rgba(0, 0, 0, 0.3));\n",
              "      fill: #FFFFFF;\n",
              "    }\n",
              "  </style>\n",
              "\n",
              "    <script>\n",
              "      const buttonEl =\n",
              "        document.querySelector('#df-a7c94bfd-2e9a-49dc-95cc-6b8ea4d0e781 button.colab-df-convert');\n",
              "      buttonEl.style.display =\n",
              "        google.colab.kernel.accessAllowed ? 'block' : 'none';\n",
              "\n",
              "      async function convertToInteractive(key) {\n",
              "        const element = document.querySelector('#df-a7c94bfd-2e9a-49dc-95cc-6b8ea4d0e781');\n",
              "        const dataTable =\n",
              "          await google.colab.kernel.invokeFunction('convertToInteractive',\n",
              "                                                    [key], {});\n",
              "        if (!dataTable) return;\n",
              "\n",
              "        const docLinkHtml = 'Like what you see? Visit the ' +\n",
              "          '<a target=\"_blank\" href=https://colab.research.google.com/notebooks/data_table.ipynb>data table notebook</a>'\n",
              "          + ' to learn more about interactive tables.';\n",
              "        element.innerHTML = '';\n",
              "        dataTable['output_type'] = 'display_data';\n",
              "        await google.colab.output.renderOutput(dataTable, element);\n",
              "        const docLink = document.createElement('div');\n",
              "        docLink.innerHTML = docLinkHtml;\n",
              "        element.appendChild(docLink);\n",
              "      }\n",
              "    </script>\n",
              "  </div>\n",
              "\n",
              "\n",
              "<div id=\"df-d7157546-5597-445c-bd22-1c2528798d9c\">\n",
              "  <button class=\"colab-df-quickchart\" onclick=\"quickchart('df-d7157546-5597-445c-bd22-1c2528798d9c')\"\n",
              "            title=\"Suggest charts\"\n",
              "            style=\"display:none;\">\n",
              "\n",
              "<svg xmlns=\"http://www.w3.org/2000/svg\" height=\"24px\"viewBox=\"0 0 24 24\"\n",
              "     width=\"24px\">\n",
              "    <g>\n",
              "        <path d=\"M19 3H5c-1.1 0-2 .9-2 2v14c0 1.1.9 2 2 2h14c1.1 0 2-.9 2-2V5c0-1.1-.9-2-2-2zM9 17H7v-7h2v7zm4 0h-2V7h2v10zm4 0h-2v-4h2v4z\"/>\n",
              "    </g>\n",
              "</svg>\n",
              "  </button>\n",
              "\n",
              "<style>\n",
              "  .colab-df-quickchart {\n",
              "      --bg-color: #E8F0FE;\n",
              "      --fill-color: #1967D2;\n",
              "      --hover-bg-color: #E2EBFA;\n",
              "      --hover-fill-color: #174EA6;\n",
              "      --disabled-fill-color: #AAA;\n",
              "      --disabled-bg-color: #DDD;\n",
              "  }\n",
              "\n",
              "  [theme=dark] .colab-df-quickchart {\n",
              "      --bg-color: #3B4455;\n",
              "      --fill-color: #D2E3FC;\n",
              "      --hover-bg-color: #434B5C;\n",
              "      --hover-fill-color: #FFFFFF;\n",
              "      --disabled-bg-color: #3B4455;\n",
              "      --disabled-fill-color: #666;\n",
              "  }\n",
              "\n",
              "  .colab-df-quickchart {\n",
              "    background-color: var(--bg-color);\n",
              "    border: none;\n",
              "    border-radius: 50%;\n",
              "    cursor: pointer;\n",
              "    display: none;\n",
              "    fill: var(--fill-color);\n",
              "    height: 32px;\n",
              "    padding: 0;\n",
              "    width: 32px;\n",
              "  }\n",
              "\n",
              "  .colab-df-quickchart:hover {\n",
              "    background-color: var(--hover-bg-color);\n",
              "    box-shadow: 0 1px 2px rgba(60, 64, 67, 0.3), 0 1px 3px 1px rgba(60, 64, 67, 0.15);\n",
              "    fill: var(--button-hover-fill-color);\n",
              "  }\n",
              "\n",
              "  .colab-df-quickchart-complete:disabled,\n",
              "  .colab-df-quickchart-complete:disabled:hover {\n",
              "    background-color: var(--disabled-bg-color);\n",
              "    fill: var(--disabled-fill-color);\n",
              "    box-shadow: none;\n",
              "  }\n",
              "\n",
              "  .colab-df-spinner {\n",
              "    border: 2px solid var(--fill-color);\n",
              "    border-color: transparent;\n",
              "    border-bottom-color: var(--fill-color);\n",
              "    animation:\n",
              "      spin 1s steps(1) infinite;\n",
              "  }\n",
              "\n",
              "  @keyframes spin {\n",
              "    0% {\n",
              "      border-color: transparent;\n",
              "      border-bottom-color: var(--fill-color);\n",
              "      border-left-color: var(--fill-color);\n",
              "    }\n",
              "    20% {\n",
              "      border-color: transparent;\n",
              "      border-left-color: var(--fill-color);\n",
              "      border-top-color: var(--fill-color);\n",
              "    }\n",
              "    30% {\n",
              "      border-color: transparent;\n",
              "      border-left-color: var(--fill-color);\n",
              "      border-top-color: var(--fill-color);\n",
              "      border-right-color: var(--fill-color);\n",
              "    }\n",
              "    40% {\n",
              "      border-color: transparent;\n",
              "      border-right-color: var(--fill-color);\n",
              "      border-top-color: var(--fill-color);\n",
              "    }\n",
              "    60% {\n",
              "      border-color: transparent;\n",
              "      border-right-color: var(--fill-color);\n",
              "    }\n",
              "    80% {\n",
              "      border-color: transparent;\n",
              "      border-right-color: var(--fill-color);\n",
              "      border-bottom-color: var(--fill-color);\n",
              "    }\n",
              "    90% {\n",
              "      border-color: transparent;\n",
              "      border-bottom-color: var(--fill-color);\n",
              "    }\n",
              "  }\n",
              "</style>\n",
              "\n",
              "  <script>\n",
              "    async function quickchart(key) {\n",
              "      const quickchartButtonEl =\n",
              "        document.querySelector('#' + key + ' button');\n",
              "      quickchartButtonEl.disabled = true;  // To prevent multiple clicks.\n",
              "      quickchartButtonEl.classList.add('colab-df-spinner');\n",
              "      try {\n",
              "        const charts = await google.colab.kernel.invokeFunction(\n",
              "            'suggestCharts', [key], {});\n",
              "      } catch (error) {\n",
              "        console.error('Error during call to suggestCharts:', error);\n",
              "      }\n",
              "      quickchartButtonEl.classList.remove('colab-df-spinner');\n",
              "      quickchartButtonEl.classList.add('colab-df-quickchart-complete');\n",
              "    }\n",
              "    (() => {\n",
              "      let quickchartButtonEl =\n",
              "        document.querySelector('#df-d7157546-5597-445c-bd22-1c2528798d9c button');\n",
              "      quickchartButtonEl.style.display =\n",
              "        google.colab.kernel.accessAllowed ? 'block' : 'none';\n",
              "    })();\n",
              "  </script>\n",
              "</div>\n",
              "\n",
              "  <div id=\"id_e9fcf916-5ff6-46d4-b6aa-aa3098968808\">\n",
              "    <style>\n",
              "      .colab-df-generate {\n",
              "        background-color: #E8F0FE;\n",
              "        border: none;\n",
              "        border-radius: 50%;\n",
              "        cursor: pointer;\n",
              "        display: none;\n",
              "        fill: #1967D2;\n",
              "        height: 32px;\n",
              "        padding: 0 0 0 0;\n",
              "        width: 32px;\n",
              "      }\n",
              "\n",
              "      .colab-df-generate:hover {\n",
              "        background-color: #E2EBFA;\n",
              "        box-shadow: 0px 1px 2px rgba(60, 64, 67, 0.3), 0px 1px 3px 1px rgba(60, 64, 67, 0.15);\n",
              "        fill: #174EA6;\n",
              "      }\n",
              "\n",
              "      [theme=dark] .colab-df-generate {\n",
              "        background-color: #3B4455;\n",
              "        fill: #D2E3FC;\n",
              "      }\n",
              "\n",
              "      [theme=dark] .colab-df-generate:hover {\n",
              "        background-color: #434B5C;\n",
              "        box-shadow: 0px 1px 3px 1px rgba(0, 0, 0, 0.15);\n",
              "        filter: drop-shadow(0px 1px 2px rgba(0, 0, 0, 0.3));\n",
              "        fill: #FFFFFF;\n",
              "      }\n",
              "    </style>\n",
              "    <button class=\"colab-df-generate\" onclick=\"generateWithVariable('df_noduplicates')\"\n",
              "            title=\"Generate code using this dataframe.\"\n",
              "            style=\"display:none;\">\n",
              "\n",
              "  <svg xmlns=\"http://www.w3.org/2000/svg\" height=\"24px\"viewBox=\"0 0 24 24\"\n",
              "       width=\"24px\">\n",
              "    <path d=\"M7,19H8.4L18.45,9,17,7.55,7,17.6ZM5,21V16.75L18.45,3.32a2,2,0,0,1,2.83,0l1.4,1.43a1.91,1.91,0,0,1,.58,1.4,1.91,1.91,0,0,1-.58,1.4L9.25,21ZM18.45,9,17,7.55Zm-12,3A5.31,5.31,0,0,0,4.9,8.1,5.31,5.31,0,0,0,1,6.5,5.31,5.31,0,0,0,4.9,4.9,5.31,5.31,0,0,0,6.5,1,5.31,5.31,0,0,0,8.1,4.9,5.31,5.31,0,0,0,12,6.5,5.46,5.46,0,0,0,6.5,12Z\"/>\n",
              "  </svg>\n",
              "    </button>\n",
              "    <script>\n",
              "      (() => {\n",
              "      const buttonEl =\n",
              "        document.querySelector('#id_e9fcf916-5ff6-46d4-b6aa-aa3098968808 button.colab-df-generate');\n",
              "      buttonEl.style.display =\n",
              "        google.colab.kernel.accessAllowed ? 'block' : 'none';\n",
              "\n",
              "      buttonEl.onclick = () => {\n",
              "        google.colab.notebook.generateWithVariable('df_noduplicates');\n",
              "      }\n",
              "      })();\n",
              "    </script>\n",
              "  </div>\n",
              "\n",
              "    </div>\n",
              "  </div>\n"
            ],
            "application/vnd.google.colaboratory.intrinsic+json": {
              "type": "dataframe",
              "variable_name": "df_noduplicates"
            }
          },
          "metadata": {},
          "execution_count": 17
        }
      ],
      "execution_count": 17
    },
    {
      "cell_type": "markdown",
      "source": [
        "Dataset sudah berkurang karena duplikatnya telat dihapus\n",
        "\n",
        "\n"
      ],
      "metadata": {
        "id": "2bTK3RQkODZ5"
      }
    },
    {
      "cell_type": "markdown",
      "source": [
        "## **Menangani Missing Values**"
      ],
      "metadata": {
        "id": "FiC7w1yXV8Gm"
      }
    },
    {
      "cell_type": "code",
      "source": [
        "df_noduplicates.isnull().sum()"
      ],
      "metadata": {
        "colab": {
          "base_uri": "https://localhost:8080/",
          "height": 335
        },
        "id": "ZKWs_48SOJ7x",
        "outputId": "b6f44ac2-b82d-4587-c8bb-003d52de1b51",
        "trusted": true,
        "execution": {
          "iopub.status.busy": "2025-03-10T07:19:14.772775Z",
          "iopub.execute_input": "2025-03-10T07:19:14.773028Z",
          "iopub.status.idle": "2025-03-10T07:19:14.899431Z",
          "shell.execute_reply.started": "2025-03-10T07:19:14.773006Z",
          "shell.execute_reply": "2025-03-10T07:19:14.898658Z"
        }
      },
      "outputs": [
        {
          "output_type": "execute_result",
          "data": {
            "text/plain": [
              "TransactionNo     0\n",
              "Date              0\n",
              "ProductNo         0\n",
              "ProductName       0\n",
              "Price             0\n",
              "Quantity          0\n",
              "CustomerNo       55\n",
              "Country           0\n",
              "dtype: int64"
            ],
            "text/html": [
              "<div>\n",
              "<style scoped>\n",
              "    .dataframe tbody tr th:only-of-type {\n",
              "        vertical-align: middle;\n",
              "    }\n",
              "\n",
              "    .dataframe tbody tr th {\n",
              "        vertical-align: top;\n",
              "    }\n",
              "\n",
              "    .dataframe thead th {\n",
              "        text-align: right;\n",
              "    }\n",
              "</style>\n",
              "<table border=\"1\" class=\"dataframe\">\n",
              "  <thead>\n",
              "    <tr style=\"text-align: right;\">\n",
              "      <th></th>\n",
              "      <th>0</th>\n",
              "    </tr>\n",
              "  </thead>\n",
              "  <tbody>\n",
              "    <tr>\n",
              "      <th>TransactionNo</th>\n",
              "      <td>0</td>\n",
              "    </tr>\n",
              "    <tr>\n",
              "      <th>Date</th>\n",
              "      <td>0</td>\n",
              "    </tr>\n",
              "    <tr>\n",
              "      <th>ProductNo</th>\n",
              "      <td>0</td>\n",
              "    </tr>\n",
              "    <tr>\n",
              "      <th>ProductName</th>\n",
              "      <td>0</td>\n",
              "    </tr>\n",
              "    <tr>\n",
              "      <th>Price</th>\n",
              "      <td>0</td>\n",
              "    </tr>\n",
              "    <tr>\n",
              "      <th>Quantity</th>\n",
              "      <td>0</td>\n",
              "    </tr>\n",
              "    <tr>\n",
              "      <th>CustomerNo</th>\n",
              "      <td>55</td>\n",
              "    </tr>\n",
              "    <tr>\n",
              "      <th>Country</th>\n",
              "      <td>0</td>\n",
              "    </tr>\n",
              "  </tbody>\n",
              "</table>\n",
              "</div><br><label><b>dtype:</b> int64</label>"
            ]
          },
          "metadata": {},
          "execution_count": 18
        }
      ],
      "execution_count": 18
    },
    {
      "cell_type": "code",
      "source": [
        "data_miss = df_noduplicates[df_noduplicates.isnull().any(axis=1)]\n",
        "data_miss"
      ],
      "metadata": {
        "colab": {
          "base_uri": "https://localhost:8080/",
          "height": 1000
        },
        "id": "W_6LNrfoOqSz",
        "outputId": "c8817c56-057c-4866-e6b9-d5b6b5e40976",
        "trusted": true,
        "execution": {
          "iopub.status.busy": "2025-03-10T07:19:14.901295Z",
          "iopub.execute_input": "2025-03-10T07:19:14.901542Z",
          "iopub.status.idle": "2025-03-10T07:19:15.029143Z",
          "shell.execute_reply.started": "2025-03-10T07:19:14.901523Z",
          "shell.execute_reply": "2025-03-10T07:19:15.028094Z"
        }
      },
      "outputs": [
        {
          "output_type": "execute_result",
          "data": {
            "text/plain": [
              "       TransactionNo        Date ProductNo  \\\n",
              "6511         C581406   12/8/2019    46000M   \n",
              "6512         C581406   12/8/2019    46000S   \n",
              "90098        C575153   11/8/2019     22947   \n",
              "102671       C574288   11/3/2019     22178   \n",
              "117263       C573180  10/28/2019     23048   \n",
              "163160       C569495   10/4/2019     21843   \n",
              "190598       C567518   9/20/2019     22846   \n",
              "192284       C567518   9/20/2019     21871   \n",
              "242406       C563015   8/11/2019    46000M   \n",
              "242407       C563015   8/11/2019    46000S   \n",
              "246334       C562617    8/8/2019     23243   \n",
              "254250       C561966    8/1/2019     22371   \n",
              "254254       C562030    8/1/2019    84595E   \n",
              "260633       C561239   7/26/2019     22427   \n",
              "260634       C561239   7/26/2019     22426   \n",
              "260635       C561239   7/26/2019     84755   \n",
              "276396       C559949   7/14/2019     22699   \n",
              "285494       C559296    7/7/2019     23001   \n",
              "285495       C559296    7/7/2019     22616   \n",
              "285496       C559296    7/7/2019     23298   \n",
              "297259       C558364   6/28/2019     22960   \n",
              "298352        558245   6/27/2019     22734   \n",
              "303165       C557664   6/21/2019     22847   \n",
              "304635       C557664   6/21/2019     23183   \n",
              "311943       C556939   6/15/2019    46000M   \n",
              "311944       C556939   6/15/2019    46000S   \n",
              "333735       C554716   5/26/2019     22662   \n",
              "333736       C554716   5/26/2019     23206   \n",
              "342908       C553862   5/19/2019     84945   \n",
              "342953       C553854   5/19/2019     22053   \n",
              "342954       C553854   5/19/2019     21703   \n",
              "342955       C553854   5/19/2019     22891   \n",
              "361482       C552230    5/6/2019     20735   \n",
              "361483       C552230    5/6/2019     22617   \n",
              "361484       C552230    5/6/2019     37327   \n",
              "361485       C552230    5/6/2019     84375   \n",
              "361486       C552230    5/6/2019     84969   \n",
              "395771       C548605    4/1/2019     22453   \n",
              "412419       C547091   3/20/2019     22766   \n",
              "412420       C547091   3/20/2019     21316   \n",
              "412421       C547091   3/20/2019     22800   \n",
              "413780       C547008   3/18/2019     22567   \n",
              "416704       C546758   3/16/2019     22212   \n",
              "429733       C545506    3/3/2019     22907   \n",
              "454036       C543384    2/7/2019    48173C   \n",
              "455511       C543185    2/4/2019     22333   \n",
              "455512       C543185    2/4/2019     22332   \n",
              "459432       C542860    2/1/2019     22580   \n",
              "462607       C542540   1/28/2019     21658   \n",
              "483197       C540854   1/12/2019     22461   \n",
              "486650       C540559   1/10/2019     21888   \n",
              "493036       C540155    1/5/2019    72802B   \n",
              "495203       C539948  12/23/2018     21888   \n",
              "497059       C539756  12/21/2018     22720   \n",
              "507547       C538686  12/14/2018     22467   \n",
              "\n",
              "                                ProductName  Price  Quantity  CustomerNo  \\\n",
              "6511           Polyester Filler Pad 45x45cm   6.19      -240         NaN   \n",
              "6512           Polyester Filler Pad 40x40cm   6.19      -300         NaN   \n",
              "90098            Wooden Advent Calendar Red  44.25        -1         NaN   \n",
              "102671      Victorian Glass Hanging T-Light  25.37        -1         NaN   \n",
              "117263  Set Of 10 Lanterns Fairy Light Star  14.50        -1         NaN   \n",
              "163160             Red Retrospot Cake Stand  21.47        -1         NaN   \n",
              "190598            Bread Bin Diner Style Red  27.62        -1         NaN   \n",
              "192284                  Save The Planet Mug  11.94       -12         NaN   \n",
              "242406         Polyester Filler Pad 45x45cm  10.25      -160         NaN   \n",
              "242407         Polyester Filler Pad 40x40cm  10.25      -220         NaN   \n",
              "246334  Set Of Tea Coffee Sugar Tins Pantry  15.32        -2         NaN   \n",
              "254250         Airline Bag Vintage Tokyo 78  14.48        -1         NaN   \n",
              "254254       Large Tortilla Design Red Bowl  13.62        -1         NaN   \n",
              "260633              Enamel Flower Jug Cream  16.35        -1         NaN   \n",
              "260634               Enamel Wash Bowl Cream  14.09        -1         NaN   \n",
              "260635  Colour Glass T-Light Holder Hanging  10.92        -4         NaN   \n",
              "276396      Roses Regency Teacup And Saucer  13.27        -2         NaN   \n",
              "285494    Travel Card Wallet Dotcomgiftshop  10.25      -200         NaN   \n",
              "285495            Pack Of 12 London Tissues  10.25      -204         NaN   \n",
              "285496                       Spotty Bunting  10.25      -170         NaN   \n",
              "297259             Jam Making Set With Jars  18.75        -1         NaN   \n",
              "298352   Set Of 6 Ribbons Vintage Christmas  10.25         8         NaN   \n",
              "303165          Bread Bin Diner Style Ivory  25.57        -1         NaN   \n",
              "304635          Mother's Kitchen Spoon Rest  14.09        -1         NaN   \n",
              "311943         Polyester Filler Pad 45x45cm  10.25       -80         NaN   \n",
              "311944         Polyester Filler Pad 40x40cm  10.25      -160         NaN   \n",
              "333735          Lunch Bag Dolly Girl Design   5.97        -1         NaN   \n",
              "333736               Lunch Bag Apple Design   5.97        -1         NaN   \n",
              "342908   Multi Colour Silver T-Light Holder  21.28        -1         NaN   \n",
              "342953                Empire Design Rosette  11.53        -1         NaN   \n",
              "342954              Bag 125g Swirly Marbles  10.68        -1         NaN   \n",
              "342955                 Tea For One Polkadot  14.61        -1         NaN   \n",
              "361482              Black Mini Tape Measure  10.25        -1         NaN   \n",
              "361483           Baking Set Spaceboy Design  10.25        -1         NaN   \n",
              "361484        Asstd Multicolour Circles Mug  10.25        -1         NaN   \n",
              "361485        Set Of 20 Kids Cookie Cutters  10.25        -1         NaN   \n",
              "361486   Box Of 6 Assorted Colour Teaspoons  10.25        -1         NaN   \n",
              "395771         Measuring Tape Babushka Blue  13.27        -1         NaN   \n",
              "412419                  Photo Frame Cornice  13.27       -12         NaN   \n",
              "412420        Small Chunky Glass Roman Bowl  13.27        -1         NaN   \n",
              "412421  Antique Tall Swirlglass Trinket Pot  14.09        -4         NaN   \n",
              "413780              20 Dolly Pegs Retrospot  11.53        -1         NaN   \n",
              "416704            Four Hook White Lovebirds  12.40        -1         NaN   \n",
              "429733     Pack Of 20 Napkins Pantry Design  11.12       -12         NaN   \n",
              "454036                  Doormat Black Flock  18.40        -1         NaN   \n",
              "455511    Retrospot Party Bag + Sticker Set  11.94       -14         NaN   \n",
              "455512       Skulls Party Bag + Sticker Set  11.94       -14         NaN   \n",
              "459432         Advent Calendar Gingham Sack  16.35        -1         NaN   \n",
              "462607                    Glass Beurre Dish  18.75        -1         NaN   \n",
              "483197                 Savoy Art Deco Clock  23.32        -1         NaN   \n",
              "486650                            Bingo Set  14.09        -4         NaN   \n",
              "493036   Ocean Scent Candle In Jewelled Box  14.16       -54         NaN   \n",
              "495203                            Bingo Set  14.09        -4         NaN   \n",
              "497059     Set Of 3 Cake Tins Pantry Design  15.32        -1         NaN   \n",
              "507547                    Gumball Coat Rack  12.86        -1         NaN   \n",
              "\n",
              "               Country  \n",
              "6511    United Kingdom  \n",
              "6512    United Kingdom  \n",
              "90098   United Kingdom  \n",
              "102671  United Kingdom  \n",
              "117263  United Kingdom  \n",
              "163160  United Kingdom  \n",
              "190598  United Kingdom  \n",
              "192284  United Kingdom  \n",
              "242406  United Kingdom  \n",
              "242407  United Kingdom  \n",
              "246334  United Kingdom  \n",
              "254250  United Kingdom  \n",
              "254254  United Kingdom  \n",
              "260633  United Kingdom  \n",
              "260634  United Kingdom  \n",
              "260635  United Kingdom  \n",
              "276396  United Kingdom  \n",
              "285494  United Kingdom  \n",
              "285495  United Kingdom  \n",
              "285496  United Kingdom  \n",
              "297259  United Kingdom  \n",
              "298352  United Kingdom  \n",
              "303165  United Kingdom  \n",
              "304635  United Kingdom  \n",
              "311943  United Kingdom  \n",
              "311944  United Kingdom  \n",
              "333735  United Kingdom  \n",
              "333736  United Kingdom  \n",
              "342908  United Kingdom  \n",
              "342953  United Kingdom  \n",
              "342954  United Kingdom  \n",
              "342955  United Kingdom  \n",
              "361482  United Kingdom  \n",
              "361483  United Kingdom  \n",
              "361484  United Kingdom  \n",
              "361485  United Kingdom  \n",
              "361486  United Kingdom  \n",
              "395771  United Kingdom  \n",
              "412419  United Kingdom  \n",
              "412420  United Kingdom  \n",
              "412421  United Kingdom  \n",
              "413780  United Kingdom  \n",
              "416704  United Kingdom  \n",
              "429733  United Kingdom  \n",
              "454036  United Kingdom  \n",
              "455511  United Kingdom  \n",
              "455512  United Kingdom  \n",
              "459432  United Kingdom  \n",
              "462607  United Kingdom  \n",
              "483197  United Kingdom  \n",
              "486650  United Kingdom  \n",
              "493036  United Kingdom  \n",
              "495203  United Kingdom  \n",
              "497059  United Kingdom  \n",
              "507547  United Kingdom  "
            ],
            "text/html": [
              "\n",
              "  <div id=\"df-b0521ced-3870-4785-96ae-7bc6bebe1460\" class=\"colab-df-container\">\n",
              "    <div>\n",
              "<style scoped>\n",
              "    .dataframe tbody tr th:only-of-type {\n",
              "        vertical-align: middle;\n",
              "    }\n",
              "\n",
              "    .dataframe tbody tr th {\n",
              "        vertical-align: top;\n",
              "    }\n",
              "\n",
              "    .dataframe thead th {\n",
              "        text-align: right;\n",
              "    }\n",
              "</style>\n",
              "<table border=\"1\" class=\"dataframe\">\n",
              "  <thead>\n",
              "    <tr style=\"text-align: right;\">\n",
              "      <th></th>\n",
              "      <th>TransactionNo</th>\n",
              "      <th>Date</th>\n",
              "      <th>ProductNo</th>\n",
              "      <th>ProductName</th>\n",
              "      <th>Price</th>\n",
              "      <th>Quantity</th>\n",
              "      <th>CustomerNo</th>\n",
              "      <th>Country</th>\n",
              "    </tr>\n",
              "  </thead>\n",
              "  <tbody>\n",
              "    <tr>\n",
              "      <th>6511</th>\n",
              "      <td>C581406</td>\n",
              "      <td>12/8/2019</td>\n",
              "      <td>46000M</td>\n",
              "      <td>Polyester Filler Pad 45x45cm</td>\n",
              "      <td>6.19</td>\n",
              "      <td>-240</td>\n",
              "      <td>NaN</td>\n",
              "      <td>United Kingdom</td>\n",
              "    </tr>\n",
              "    <tr>\n",
              "      <th>6512</th>\n",
              "      <td>C581406</td>\n",
              "      <td>12/8/2019</td>\n",
              "      <td>46000S</td>\n",
              "      <td>Polyester Filler Pad 40x40cm</td>\n",
              "      <td>6.19</td>\n",
              "      <td>-300</td>\n",
              "      <td>NaN</td>\n",
              "      <td>United Kingdom</td>\n",
              "    </tr>\n",
              "    <tr>\n",
              "      <th>90098</th>\n",
              "      <td>C575153</td>\n",
              "      <td>11/8/2019</td>\n",
              "      <td>22947</td>\n",
              "      <td>Wooden Advent Calendar Red</td>\n",
              "      <td>44.25</td>\n",
              "      <td>-1</td>\n",
              "      <td>NaN</td>\n",
              "      <td>United Kingdom</td>\n",
              "    </tr>\n",
              "    <tr>\n",
              "      <th>102671</th>\n",
              "      <td>C574288</td>\n",
              "      <td>11/3/2019</td>\n",
              "      <td>22178</td>\n",
              "      <td>Victorian Glass Hanging T-Light</td>\n",
              "      <td>25.37</td>\n",
              "      <td>-1</td>\n",
              "      <td>NaN</td>\n",
              "      <td>United Kingdom</td>\n",
              "    </tr>\n",
              "    <tr>\n",
              "      <th>117263</th>\n",
              "      <td>C573180</td>\n",
              "      <td>10/28/2019</td>\n",
              "      <td>23048</td>\n",
              "      <td>Set Of 10 Lanterns Fairy Light Star</td>\n",
              "      <td>14.50</td>\n",
              "      <td>-1</td>\n",
              "      <td>NaN</td>\n",
              "      <td>United Kingdom</td>\n",
              "    </tr>\n",
              "    <tr>\n",
              "      <th>163160</th>\n",
              "      <td>C569495</td>\n",
              "      <td>10/4/2019</td>\n",
              "      <td>21843</td>\n",
              "      <td>Red Retrospot Cake Stand</td>\n",
              "      <td>21.47</td>\n",
              "      <td>-1</td>\n",
              "      <td>NaN</td>\n",
              "      <td>United Kingdom</td>\n",
              "    </tr>\n",
              "    <tr>\n",
              "      <th>190598</th>\n",
              "      <td>C567518</td>\n",
              "      <td>9/20/2019</td>\n",
              "      <td>22846</td>\n",
              "      <td>Bread Bin Diner Style Red</td>\n",
              "      <td>27.62</td>\n",
              "      <td>-1</td>\n",
              "      <td>NaN</td>\n",
              "      <td>United Kingdom</td>\n",
              "    </tr>\n",
              "    <tr>\n",
              "      <th>192284</th>\n",
              "      <td>C567518</td>\n",
              "      <td>9/20/2019</td>\n",
              "      <td>21871</td>\n",
              "      <td>Save The Planet Mug</td>\n",
              "      <td>11.94</td>\n",
              "      <td>-12</td>\n",
              "      <td>NaN</td>\n",
              "      <td>United Kingdom</td>\n",
              "    </tr>\n",
              "    <tr>\n",
              "      <th>242406</th>\n",
              "      <td>C563015</td>\n",
              "      <td>8/11/2019</td>\n",
              "      <td>46000M</td>\n",
              "      <td>Polyester Filler Pad 45x45cm</td>\n",
              "      <td>10.25</td>\n",
              "      <td>-160</td>\n",
              "      <td>NaN</td>\n",
              "      <td>United Kingdom</td>\n",
              "    </tr>\n",
              "    <tr>\n",
              "      <th>242407</th>\n",
              "      <td>C563015</td>\n",
              "      <td>8/11/2019</td>\n",
              "      <td>46000S</td>\n",
              "      <td>Polyester Filler Pad 40x40cm</td>\n",
              "      <td>10.25</td>\n",
              "      <td>-220</td>\n",
              "      <td>NaN</td>\n",
              "      <td>United Kingdom</td>\n",
              "    </tr>\n",
              "    <tr>\n",
              "      <th>246334</th>\n",
              "      <td>C562617</td>\n",
              "      <td>8/8/2019</td>\n",
              "      <td>23243</td>\n",
              "      <td>Set Of Tea Coffee Sugar Tins Pantry</td>\n",
              "      <td>15.32</td>\n",
              "      <td>-2</td>\n",
              "      <td>NaN</td>\n",
              "      <td>United Kingdom</td>\n",
              "    </tr>\n",
              "    <tr>\n",
              "      <th>254250</th>\n",
              "      <td>C561966</td>\n",
              "      <td>8/1/2019</td>\n",
              "      <td>22371</td>\n",
              "      <td>Airline Bag Vintage Tokyo 78</td>\n",
              "      <td>14.48</td>\n",
              "      <td>-1</td>\n",
              "      <td>NaN</td>\n",
              "      <td>United Kingdom</td>\n",
              "    </tr>\n",
              "    <tr>\n",
              "      <th>254254</th>\n",
              "      <td>C562030</td>\n",
              "      <td>8/1/2019</td>\n",
              "      <td>84595E</td>\n",
              "      <td>Large Tortilla Design Red Bowl</td>\n",
              "      <td>13.62</td>\n",
              "      <td>-1</td>\n",
              "      <td>NaN</td>\n",
              "      <td>United Kingdom</td>\n",
              "    </tr>\n",
              "    <tr>\n",
              "      <th>260633</th>\n",
              "      <td>C561239</td>\n",
              "      <td>7/26/2019</td>\n",
              "      <td>22427</td>\n",
              "      <td>Enamel Flower Jug Cream</td>\n",
              "      <td>16.35</td>\n",
              "      <td>-1</td>\n",
              "      <td>NaN</td>\n",
              "      <td>United Kingdom</td>\n",
              "    </tr>\n",
              "    <tr>\n",
              "      <th>260634</th>\n",
              "      <td>C561239</td>\n",
              "      <td>7/26/2019</td>\n",
              "      <td>22426</td>\n",
              "      <td>Enamel Wash Bowl Cream</td>\n",
              "      <td>14.09</td>\n",
              "      <td>-1</td>\n",
              "      <td>NaN</td>\n",
              "      <td>United Kingdom</td>\n",
              "    </tr>\n",
              "    <tr>\n",
              "      <th>260635</th>\n",
              "      <td>C561239</td>\n",
              "      <td>7/26/2019</td>\n",
              "      <td>84755</td>\n",
              "      <td>Colour Glass T-Light Holder Hanging</td>\n",
              "      <td>10.92</td>\n",
              "      <td>-4</td>\n",
              "      <td>NaN</td>\n",
              "      <td>United Kingdom</td>\n",
              "    </tr>\n",
              "    <tr>\n",
              "      <th>276396</th>\n",
              "      <td>C559949</td>\n",
              "      <td>7/14/2019</td>\n",
              "      <td>22699</td>\n",
              "      <td>Roses Regency Teacup And Saucer</td>\n",
              "      <td>13.27</td>\n",
              "      <td>-2</td>\n",
              "      <td>NaN</td>\n",
              "      <td>United Kingdom</td>\n",
              "    </tr>\n",
              "    <tr>\n",
              "      <th>285494</th>\n",
              "      <td>C559296</td>\n",
              "      <td>7/7/2019</td>\n",
              "      <td>23001</td>\n",
              "      <td>Travel Card Wallet Dotcomgiftshop</td>\n",
              "      <td>10.25</td>\n",
              "      <td>-200</td>\n",
              "      <td>NaN</td>\n",
              "      <td>United Kingdom</td>\n",
              "    </tr>\n",
              "    <tr>\n",
              "      <th>285495</th>\n",
              "      <td>C559296</td>\n",
              "      <td>7/7/2019</td>\n",
              "      <td>22616</td>\n",
              "      <td>Pack Of 12 London Tissues</td>\n",
              "      <td>10.25</td>\n",
              "      <td>-204</td>\n",
              "      <td>NaN</td>\n",
              "      <td>United Kingdom</td>\n",
              "    </tr>\n",
              "    <tr>\n",
              "      <th>285496</th>\n",
              "      <td>C559296</td>\n",
              "      <td>7/7/2019</td>\n",
              "      <td>23298</td>\n",
              "      <td>Spotty Bunting</td>\n",
              "      <td>10.25</td>\n",
              "      <td>-170</td>\n",
              "      <td>NaN</td>\n",
              "      <td>United Kingdom</td>\n",
              "    </tr>\n",
              "    <tr>\n",
              "      <th>297259</th>\n",
              "      <td>C558364</td>\n",
              "      <td>6/28/2019</td>\n",
              "      <td>22960</td>\n",
              "      <td>Jam Making Set With Jars</td>\n",
              "      <td>18.75</td>\n",
              "      <td>-1</td>\n",
              "      <td>NaN</td>\n",
              "      <td>United Kingdom</td>\n",
              "    </tr>\n",
              "    <tr>\n",
              "      <th>298352</th>\n",
              "      <td>558245</td>\n",
              "      <td>6/27/2019</td>\n",
              "      <td>22734</td>\n",
              "      <td>Set Of 6 Ribbons Vintage Christmas</td>\n",
              "      <td>10.25</td>\n",
              "      <td>8</td>\n",
              "      <td>NaN</td>\n",
              "      <td>United Kingdom</td>\n",
              "    </tr>\n",
              "    <tr>\n",
              "      <th>303165</th>\n",
              "      <td>C557664</td>\n",
              "      <td>6/21/2019</td>\n",
              "      <td>22847</td>\n",
              "      <td>Bread Bin Diner Style Ivory</td>\n",
              "      <td>25.57</td>\n",
              "      <td>-1</td>\n",
              "      <td>NaN</td>\n",
              "      <td>United Kingdom</td>\n",
              "    </tr>\n",
              "    <tr>\n",
              "      <th>304635</th>\n",
              "      <td>C557664</td>\n",
              "      <td>6/21/2019</td>\n",
              "      <td>23183</td>\n",
              "      <td>Mother's Kitchen Spoon Rest</td>\n",
              "      <td>14.09</td>\n",
              "      <td>-1</td>\n",
              "      <td>NaN</td>\n",
              "      <td>United Kingdom</td>\n",
              "    </tr>\n",
              "    <tr>\n",
              "      <th>311943</th>\n",
              "      <td>C556939</td>\n",
              "      <td>6/15/2019</td>\n",
              "      <td>46000M</td>\n",
              "      <td>Polyester Filler Pad 45x45cm</td>\n",
              "      <td>10.25</td>\n",
              "      <td>-80</td>\n",
              "      <td>NaN</td>\n",
              "      <td>United Kingdom</td>\n",
              "    </tr>\n",
              "    <tr>\n",
              "      <th>311944</th>\n",
              "      <td>C556939</td>\n",
              "      <td>6/15/2019</td>\n",
              "      <td>46000S</td>\n",
              "      <td>Polyester Filler Pad 40x40cm</td>\n",
              "      <td>10.25</td>\n",
              "      <td>-160</td>\n",
              "      <td>NaN</td>\n",
              "      <td>United Kingdom</td>\n",
              "    </tr>\n",
              "    <tr>\n",
              "      <th>333735</th>\n",
              "      <td>C554716</td>\n",
              "      <td>5/26/2019</td>\n",
              "      <td>22662</td>\n",
              "      <td>Lunch Bag Dolly Girl Design</td>\n",
              "      <td>5.97</td>\n",
              "      <td>-1</td>\n",
              "      <td>NaN</td>\n",
              "      <td>United Kingdom</td>\n",
              "    </tr>\n",
              "    <tr>\n",
              "      <th>333736</th>\n",
              "      <td>C554716</td>\n",
              "      <td>5/26/2019</td>\n",
              "      <td>23206</td>\n",
              "      <td>Lunch Bag Apple Design</td>\n",
              "      <td>5.97</td>\n",
              "      <td>-1</td>\n",
              "      <td>NaN</td>\n",
              "      <td>United Kingdom</td>\n",
              "    </tr>\n",
              "    <tr>\n",
              "      <th>342908</th>\n",
              "      <td>C553862</td>\n",
              "      <td>5/19/2019</td>\n",
              "      <td>84945</td>\n",
              "      <td>Multi Colour Silver T-Light Holder</td>\n",
              "      <td>21.28</td>\n",
              "      <td>-1</td>\n",
              "      <td>NaN</td>\n",
              "      <td>United Kingdom</td>\n",
              "    </tr>\n",
              "    <tr>\n",
              "      <th>342953</th>\n",
              "      <td>C553854</td>\n",
              "      <td>5/19/2019</td>\n",
              "      <td>22053</td>\n",
              "      <td>Empire Design Rosette</td>\n",
              "      <td>11.53</td>\n",
              "      <td>-1</td>\n",
              "      <td>NaN</td>\n",
              "      <td>United Kingdom</td>\n",
              "    </tr>\n",
              "    <tr>\n",
              "      <th>342954</th>\n",
              "      <td>C553854</td>\n",
              "      <td>5/19/2019</td>\n",
              "      <td>21703</td>\n",
              "      <td>Bag 125g Swirly Marbles</td>\n",
              "      <td>10.68</td>\n",
              "      <td>-1</td>\n",
              "      <td>NaN</td>\n",
              "      <td>United Kingdom</td>\n",
              "    </tr>\n",
              "    <tr>\n",
              "      <th>342955</th>\n",
              "      <td>C553854</td>\n",
              "      <td>5/19/2019</td>\n",
              "      <td>22891</td>\n",
              "      <td>Tea For One Polkadot</td>\n",
              "      <td>14.61</td>\n",
              "      <td>-1</td>\n",
              "      <td>NaN</td>\n",
              "      <td>United Kingdom</td>\n",
              "    </tr>\n",
              "    <tr>\n",
              "      <th>361482</th>\n",
              "      <td>C552230</td>\n",
              "      <td>5/6/2019</td>\n",
              "      <td>20735</td>\n",
              "      <td>Black Mini Tape Measure</td>\n",
              "      <td>10.25</td>\n",
              "      <td>-1</td>\n",
              "      <td>NaN</td>\n",
              "      <td>United Kingdom</td>\n",
              "    </tr>\n",
              "    <tr>\n",
              "      <th>361483</th>\n",
              "      <td>C552230</td>\n",
              "      <td>5/6/2019</td>\n",
              "      <td>22617</td>\n",
              "      <td>Baking Set Spaceboy Design</td>\n",
              "      <td>10.25</td>\n",
              "      <td>-1</td>\n",
              "      <td>NaN</td>\n",
              "      <td>United Kingdom</td>\n",
              "    </tr>\n",
              "    <tr>\n",
              "      <th>361484</th>\n",
              "      <td>C552230</td>\n",
              "      <td>5/6/2019</td>\n",
              "      <td>37327</td>\n",
              "      <td>Asstd Multicolour Circles Mug</td>\n",
              "      <td>10.25</td>\n",
              "      <td>-1</td>\n",
              "      <td>NaN</td>\n",
              "      <td>United Kingdom</td>\n",
              "    </tr>\n",
              "    <tr>\n",
              "      <th>361485</th>\n",
              "      <td>C552230</td>\n",
              "      <td>5/6/2019</td>\n",
              "      <td>84375</td>\n",
              "      <td>Set Of 20 Kids Cookie Cutters</td>\n",
              "      <td>10.25</td>\n",
              "      <td>-1</td>\n",
              "      <td>NaN</td>\n",
              "      <td>United Kingdom</td>\n",
              "    </tr>\n",
              "    <tr>\n",
              "      <th>361486</th>\n",
              "      <td>C552230</td>\n",
              "      <td>5/6/2019</td>\n",
              "      <td>84969</td>\n",
              "      <td>Box Of 6 Assorted Colour Teaspoons</td>\n",
              "      <td>10.25</td>\n",
              "      <td>-1</td>\n",
              "      <td>NaN</td>\n",
              "      <td>United Kingdom</td>\n",
              "    </tr>\n",
              "    <tr>\n",
              "      <th>395771</th>\n",
              "      <td>C548605</td>\n",
              "      <td>4/1/2019</td>\n",
              "      <td>22453</td>\n",
              "      <td>Measuring Tape Babushka Blue</td>\n",
              "      <td>13.27</td>\n",
              "      <td>-1</td>\n",
              "      <td>NaN</td>\n",
              "      <td>United Kingdom</td>\n",
              "    </tr>\n",
              "    <tr>\n",
              "      <th>412419</th>\n",
              "      <td>C547091</td>\n",
              "      <td>3/20/2019</td>\n",
              "      <td>22766</td>\n",
              "      <td>Photo Frame Cornice</td>\n",
              "      <td>13.27</td>\n",
              "      <td>-12</td>\n",
              "      <td>NaN</td>\n",
              "      <td>United Kingdom</td>\n",
              "    </tr>\n",
              "    <tr>\n",
              "      <th>412420</th>\n",
              "      <td>C547091</td>\n",
              "      <td>3/20/2019</td>\n",
              "      <td>21316</td>\n",
              "      <td>Small Chunky Glass Roman Bowl</td>\n",
              "      <td>13.27</td>\n",
              "      <td>-1</td>\n",
              "      <td>NaN</td>\n",
              "      <td>United Kingdom</td>\n",
              "    </tr>\n",
              "    <tr>\n",
              "      <th>412421</th>\n",
              "      <td>C547091</td>\n",
              "      <td>3/20/2019</td>\n",
              "      <td>22800</td>\n",
              "      <td>Antique Tall Swirlglass Trinket Pot</td>\n",
              "      <td>14.09</td>\n",
              "      <td>-4</td>\n",
              "      <td>NaN</td>\n",
              "      <td>United Kingdom</td>\n",
              "    </tr>\n",
              "    <tr>\n",
              "      <th>413780</th>\n",
              "      <td>C547008</td>\n",
              "      <td>3/18/2019</td>\n",
              "      <td>22567</td>\n",
              "      <td>20 Dolly Pegs Retrospot</td>\n",
              "      <td>11.53</td>\n",
              "      <td>-1</td>\n",
              "      <td>NaN</td>\n",
              "      <td>United Kingdom</td>\n",
              "    </tr>\n",
              "    <tr>\n",
              "      <th>416704</th>\n",
              "      <td>C546758</td>\n",
              "      <td>3/16/2019</td>\n",
              "      <td>22212</td>\n",
              "      <td>Four Hook White Lovebirds</td>\n",
              "      <td>12.40</td>\n",
              "      <td>-1</td>\n",
              "      <td>NaN</td>\n",
              "      <td>United Kingdom</td>\n",
              "    </tr>\n",
              "    <tr>\n",
              "      <th>429733</th>\n",
              "      <td>C545506</td>\n",
              "      <td>3/3/2019</td>\n",
              "      <td>22907</td>\n",
              "      <td>Pack Of 20 Napkins Pantry Design</td>\n",
              "      <td>11.12</td>\n",
              "      <td>-12</td>\n",
              "      <td>NaN</td>\n",
              "      <td>United Kingdom</td>\n",
              "    </tr>\n",
              "    <tr>\n",
              "      <th>454036</th>\n",
              "      <td>C543384</td>\n",
              "      <td>2/7/2019</td>\n",
              "      <td>48173C</td>\n",
              "      <td>Doormat Black Flock</td>\n",
              "      <td>18.40</td>\n",
              "      <td>-1</td>\n",
              "      <td>NaN</td>\n",
              "      <td>United Kingdom</td>\n",
              "    </tr>\n",
              "    <tr>\n",
              "      <th>455511</th>\n",
              "      <td>C543185</td>\n",
              "      <td>2/4/2019</td>\n",
              "      <td>22333</td>\n",
              "      <td>Retrospot Party Bag + Sticker Set</td>\n",
              "      <td>11.94</td>\n",
              "      <td>-14</td>\n",
              "      <td>NaN</td>\n",
              "      <td>United Kingdom</td>\n",
              "    </tr>\n",
              "    <tr>\n",
              "      <th>455512</th>\n",
              "      <td>C543185</td>\n",
              "      <td>2/4/2019</td>\n",
              "      <td>22332</td>\n",
              "      <td>Skulls Party Bag + Sticker Set</td>\n",
              "      <td>11.94</td>\n",
              "      <td>-14</td>\n",
              "      <td>NaN</td>\n",
              "      <td>United Kingdom</td>\n",
              "    </tr>\n",
              "    <tr>\n",
              "      <th>459432</th>\n",
              "      <td>C542860</td>\n",
              "      <td>2/1/2019</td>\n",
              "      <td>22580</td>\n",
              "      <td>Advent Calendar Gingham Sack</td>\n",
              "      <td>16.35</td>\n",
              "      <td>-1</td>\n",
              "      <td>NaN</td>\n",
              "      <td>United Kingdom</td>\n",
              "    </tr>\n",
              "    <tr>\n",
              "      <th>462607</th>\n",
              "      <td>C542540</td>\n",
              "      <td>1/28/2019</td>\n",
              "      <td>21658</td>\n",
              "      <td>Glass Beurre Dish</td>\n",
              "      <td>18.75</td>\n",
              "      <td>-1</td>\n",
              "      <td>NaN</td>\n",
              "      <td>United Kingdom</td>\n",
              "    </tr>\n",
              "    <tr>\n",
              "      <th>483197</th>\n",
              "      <td>C540854</td>\n",
              "      <td>1/12/2019</td>\n",
              "      <td>22461</td>\n",
              "      <td>Savoy Art Deco Clock</td>\n",
              "      <td>23.32</td>\n",
              "      <td>-1</td>\n",
              "      <td>NaN</td>\n",
              "      <td>United Kingdom</td>\n",
              "    </tr>\n",
              "    <tr>\n",
              "      <th>486650</th>\n",
              "      <td>C540559</td>\n",
              "      <td>1/10/2019</td>\n",
              "      <td>21888</td>\n",
              "      <td>Bingo Set</td>\n",
              "      <td>14.09</td>\n",
              "      <td>-4</td>\n",
              "      <td>NaN</td>\n",
              "      <td>United Kingdom</td>\n",
              "    </tr>\n",
              "    <tr>\n",
              "      <th>493036</th>\n",
              "      <td>C540155</td>\n",
              "      <td>1/5/2019</td>\n",
              "      <td>72802B</td>\n",
              "      <td>Ocean Scent Candle In Jewelled Box</td>\n",
              "      <td>14.16</td>\n",
              "      <td>-54</td>\n",
              "      <td>NaN</td>\n",
              "      <td>United Kingdom</td>\n",
              "    </tr>\n",
              "    <tr>\n",
              "      <th>495203</th>\n",
              "      <td>C539948</td>\n",
              "      <td>12/23/2018</td>\n",
              "      <td>21888</td>\n",
              "      <td>Bingo Set</td>\n",
              "      <td>14.09</td>\n",
              "      <td>-4</td>\n",
              "      <td>NaN</td>\n",
              "      <td>United Kingdom</td>\n",
              "    </tr>\n",
              "    <tr>\n",
              "      <th>497059</th>\n",
              "      <td>C539756</td>\n",
              "      <td>12/21/2018</td>\n",
              "      <td>22720</td>\n",
              "      <td>Set Of 3 Cake Tins Pantry Design</td>\n",
              "      <td>15.32</td>\n",
              "      <td>-1</td>\n",
              "      <td>NaN</td>\n",
              "      <td>United Kingdom</td>\n",
              "    </tr>\n",
              "    <tr>\n",
              "      <th>507547</th>\n",
              "      <td>C538686</td>\n",
              "      <td>12/14/2018</td>\n",
              "      <td>22467</td>\n",
              "      <td>Gumball Coat Rack</td>\n",
              "      <td>12.86</td>\n",
              "      <td>-1</td>\n",
              "      <td>NaN</td>\n",
              "      <td>United Kingdom</td>\n",
              "    </tr>\n",
              "  </tbody>\n",
              "</table>\n",
              "</div>\n",
              "    <div class=\"colab-df-buttons\">\n",
              "\n",
              "  <div class=\"colab-df-container\">\n",
              "    <button class=\"colab-df-convert\" onclick=\"convertToInteractive('df-b0521ced-3870-4785-96ae-7bc6bebe1460')\"\n",
              "            title=\"Convert this dataframe to an interactive table.\"\n",
              "            style=\"display:none;\">\n",
              "\n",
              "  <svg xmlns=\"http://www.w3.org/2000/svg\" height=\"24px\" viewBox=\"0 -960 960 960\">\n",
              "    <path d=\"M120-120v-720h720v720H120Zm60-500h600v-160H180v160Zm220 220h160v-160H400v160Zm0 220h160v-160H400v160ZM180-400h160v-160H180v160Zm440 0h160v-160H620v160ZM180-180h160v-160H180v160Zm440 0h160v-160H620v160Z\"/>\n",
              "  </svg>\n",
              "    </button>\n",
              "\n",
              "  <style>\n",
              "    .colab-df-container {\n",
              "      display:flex;\n",
              "      gap: 12px;\n",
              "    }\n",
              "\n",
              "    .colab-df-convert {\n",
              "      background-color: #E8F0FE;\n",
              "      border: none;\n",
              "      border-radius: 50%;\n",
              "      cursor: pointer;\n",
              "      display: none;\n",
              "      fill: #1967D2;\n",
              "      height: 32px;\n",
              "      padding: 0 0 0 0;\n",
              "      width: 32px;\n",
              "    }\n",
              "\n",
              "    .colab-df-convert:hover {\n",
              "      background-color: #E2EBFA;\n",
              "      box-shadow: 0px 1px 2px rgba(60, 64, 67, 0.3), 0px 1px 3px 1px rgba(60, 64, 67, 0.15);\n",
              "      fill: #174EA6;\n",
              "    }\n",
              "\n",
              "    .colab-df-buttons div {\n",
              "      margin-bottom: 4px;\n",
              "    }\n",
              "\n",
              "    [theme=dark] .colab-df-convert {\n",
              "      background-color: #3B4455;\n",
              "      fill: #D2E3FC;\n",
              "    }\n",
              "\n",
              "    [theme=dark] .colab-df-convert:hover {\n",
              "      background-color: #434B5C;\n",
              "      box-shadow: 0px 1px 3px 1px rgba(0, 0, 0, 0.15);\n",
              "      filter: drop-shadow(0px 1px 2px rgba(0, 0, 0, 0.3));\n",
              "      fill: #FFFFFF;\n",
              "    }\n",
              "  </style>\n",
              "\n",
              "    <script>\n",
              "      const buttonEl =\n",
              "        document.querySelector('#df-b0521ced-3870-4785-96ae-7bc6bebe1460 button.colab-df-convert');\n",
              "      buttonEl.style.display =\n",
              "        google.colab.kernel.accessAllowed ? 'block' : 'none';\n",
              "\n",
              "      async function convertToInteractive(key) {\n",
              "        const element = document.querySelector('#df-b0521ced-3870-4785-96ae-7bc6bebe1460');\n",
              "        const dataTable =\n",
              "          await google.colab.kernel.invokeFunction('convertToInteractive',\n",
              "                                                    [key], {});\n",
              "        if (!dataTable) return;\n",
              "\n",
              "        const docLinkHtml = 'Like what you see? Visit the ' +\n",
              "          '<a target=\"_blank\" href=https://colab.research.google.com/notebooks/data_table.ipynb>data table notebook</a>'\n",
              "          + ' to learn more about interactive tables.';\n",
              "        element.innerHTML = '';\n",
              "        dataTable['output_type'] = 'display_data';\n",
              "        await google.colab.output.renderOutput(dataTable, element);\n",
              "        const docLink = document.createElement('div');\n",
              "        docLink.innerHTML = docLinkHtml;\n",
              "        element.appendChild(docLink);\n",
              "      }\n",
              "    </script>\n",
              "  </div>\n",
              "\n",
              "\n",
              "<div id=\"df-d8887c6f-1416-4be9-98d9-4896ea7e9872\">\n",
              "  <button class=\"colab-df-quickchart\" onclick=\"quickchart('df-d8887c6f-1416-4be9-98d9-4896ea7e9872')\"\n",
              "            title=\"Suggest charts\"\n",
              "            style=\"display:none;\">\n",
              "\n",
              "<svg xmlns=\"http://www.w3.org/2000/svg\" height=\"24px\"viewBox=\"0 0 24 24\"\n",
              "     width=\"24px\">\n",
              "    <g>\n",
              "        <path d=\"M19 3H5c-1.1 0-2 .9-2 2v14c0 1.1.9 2 2 2h14c1.1 0 2-.9 2-2V5c0-1.1-.9-2-2-2zM9 17H7v-7h2v7zm4 0h-2V7h2v10zm4 0h-2v-4h2v4z\"/>\n",
              "    </g>\n",
              "</svg>\n",
              "  </button>\n",
              "\n",
              "<style>\n",
              "  .colab-df-quickchart {\n",
              "      --bg-color: #E8F0FE;\n",
              "      --fill-color: #1967D2;\n",
              "      --hover-bg-color: #E2EBFA;\n",
              "      --hover-fill-color: #174EA6;\n",
              "      --disabled-fill-color: #AAA;\n",
              "      --disabled-bg-color: #DDD;\n",
              "  }\n",
              "\n",
              "  [theme=dark] .colab-df-quickchart {\n",
              "      --bg-color: #3B4455;\n",
              "      --fill-color: #D2E3FC;\n",
              "      --hover-bg-color: #434B5C;\n",
              "      --hover-fill-color: #FFFFFF;\n",
              "      --disabled-bg-color: #3B4455;\n",
              "      --disabled-fill-color: #666;\n",
              "  }\n",
              "\n",
              "  .colab-df-quickchart {\n",
              "    background-color: var(--bg-color);\n",
              "    border: none;\n",
              "    border-radius: 50%;\n",
              "    cursor: pointer;\n",
              "    display: none;\n",
              "    fill: var(--fill-color);\n",
              "    height: 32px;\n",
              "    padding: 0;\n",
              "    width: 32px;\n",
              "  }\n",
              "\n",
              "  .colab-df-quickchart:hover {\n",
              "    background-color: var(--hover-bg-color);\n",
              "    box-shadow: 0 1px 2px rgba(60, 64, 67, 0.3), 0 1px 3px 1px rgba(60, 64, 67, 0.15);\n",
              "    fill: var(--button-hover-fill-color);\n",
              "  }\n",
              "\n",
              "  .colab-df-quickchart-complete:disabled,\n",
              "  .colab-df-quickchart-complete:disabled:hover {\n",
              "    background-color: var(--disabled-bg-color);\n",
              "    fill: var(--disabled-fill-color);\n",
              "    box-shadow: none;\n",
              "  }\n",
              "\n",
              "  .colab-df-spinner {\n",
              "    border: 2px solid var(--fill-color);\n",
              "    border-color: transparent;\n",
              "    border-bottom-color: var(--fill-color);\n",
              "    animation:\n",
              "      spin 1s steps(1) infinite;\n",
              "  }\n",
              "\n",
              "  @keyframes spin {\n",
              "    0% {\n",
              "      border-color: transparent;\n",
              "      border-bottom-color: var(--fill-color);\n",
              "      border-left-color: var(--fill-color);\n",
              "    }\n",
              "    20% {\n",
              "      border-color: transparent;\n",
              "      border-left-color: var(--fill-color);\n",
              "      border-top-color: var(--fill-color);\n",
              "    }\n",
              "    30% {\n",
              "      border-color: transparent;\n",
              "      border-left-color: var(--fill-color);\n",
              "      border-top-color: var(--fill-color);\n",
              "      border-right-color: var(--fill-color);\n",
              "    }\n",
              "    40% {\n",
              "      border-color: transparent;\n",
              "      border-right-color: var(--fill-color);\n",
              "      border-top-color: var(--fill-color);\n",
              "    }\n",
              "    60% {\n",
              "      border-color: transparent;\n",
              "      border-right-color: var(--fill-color);\n",
              "    }\n",
              "    80% {\n",
              "      border-color: transparent;\n",
              "      border-right-color: var(--fill-color);\n",
              "      border-bottom-color: var(--fill-color);\n",
              "    }\n",
              "    90% {\n",
              "      border-color: transparent;\n",
              "      border-bottom-color: var(--fill-color);\n",
              "    }\n",
              "  }\n",
              "</style>\n",
              "\n",
              "  <script>\n",
              "    async function quickchart(key) {\n",
              "      const quickchartButtonEl =\n",
              "        document.querySelector('#' + key + ' button');\n",
              "      quickchartButtonEl.disabled = true;  // To prevent multiple clicks.\n",
              "      quickchartButtonEl.classList.add('colab-df-spinner');\n",
              "      try {\n",
              "        const charts = await google.colab.kernel.invokeFunction(\n",
              "            'suggestCharts', [key], {});\n",
              "      } catch (error) {\n",
              "        console.error('Error during call to suggestCharts:', error);\n",
              "      }\n",
              "      quickchartButtonEl.classList.remove('colab-df-spinner');\n",
              "      quickchartButtonEl.classList.add('colab-df-quickchart-complete');\n",
              "    }\n",
              "    (() => {\n",
              "      let quickchartButtonEl =\n",
              "        document.querySelector('#df-d8887c6f-1416-4be9-98d9-4896ea7e9872 button');\n",
              "      quickchartButtonEl.style.display =\n",
              "        google.colab.kernel.accessAllowed ? 'block' : 'none';\n",
              "    })();\n",
              "  </script>\n",
              "</div>\n",
              "\n",
              "  <div id=\"id_3aca3fdf-8f68-441b-b7c6-65889a0ecbad\">\n",
              "    <style>\n",
              "      .colab-df-generate {\n",
              "        background-color: #E8F0FE;\n",
              "        border: none;\n",
              "        border-radius: 50%;\n",
              "        cursor: pointer;\n",
              "        display: none;\n",
              "        fill: #1967D2;\n",
              "        height: 32px;\n",
              "        padding: 0 0 0 0;\n",
              "        width: 32px;\n",
              "      }\n",
              "\n",
              "      .colab-df-generate:hover {\n",
              "        background-color: #E2EBFA;\n",
              "        box-shadow: 0px 1px 2px rgba(60, 64, 67, 0.3), 0px 1px 3px 1px rgba(60, 64, 67, 0.15);\n",
              "        fill: #174EA6;\n",
              "      }\n",
              "\n",
              "      [theme=dark] .colab-df-generate {\n",
              "        background-color: #3B4455;\n",
              "        fill: #D2E3FC;\n",
              "      }\n",
              "\n",
              "      [theme=dark] .colab-df-generate:hover {\n",
              "        background-color: #434B5C;\n",
              "        box-shadow: 0px 1px 3px 1px rgba(0, 0, 0, 0.15);\n",
              "        filter: drop-shadow(0px 1px 2px rgba(0, 0, 0, 0.3));\n",
              "        fill: #FFFFFF;\n",
              "      }\n",
              "    </style>\n",
              "    <button class=\"colab-df-generate\" onclick=\"generateWithVariable('data_miss')\"\n",
              "            title=\"Generate code using this dataframe.\"\n",
              "            style=\"display:none;\">\n",
              "\n",
              "  <svg xmlns=\"http://www.w3.org/2000/svg\" height=\"24px\"viewBox=\"0 0 24 24\"\n",
              "       width=\"24px\">\n",
              "    <path d=\"M7,19H8.4L18.45,9,17,7.55,7,17.6ZM5,21V16.75L18.45,3.32a2,2,0,0,1,2.83,0l1.4,1.43a1.91,1.91,0,0,1,.58,1.4,1.91,1.91,0,0,1-.58,1.4L9.25,21ZM18.45,9,17,7.55Zm-12,3A5.31,5.31,0,0,0,4.9,8.1,5.31,5.31,0,0,0,1,6.5,5.31,5.31,0,0,0,4.9,4.9,5.31,5.31,0,0,0,6.5,1,5.31,5.31,0,0,0,8.1,4.9,5.31,5.31,0,0,0,12,6.5,5.46,5.46,0,0,0,6.5,12Z\"/>\n",
              "  </svg>\n",
              "    </button>\n",
              "    <script>\n",
              "      (() => {\n",
              "      const buttonEl =\n",
              "        document.querySelector('#id_3aca3fdf-8f68-441b-b7c6-65889a0ecbad button.colab-df-generate');\n",
              "      buttonEl.style.display =\n",
              "        google.colab.kernel.accessAllowed ? 'block' : 'none';\n",
              "\n",
              "      buttonEl.onclick = () => {\n",
              "        google.colab.notebook.generateWithVariable('data_miss');\n",
              "      }\n",
              "      })();\n",
              "    </script>\n",
              "  </div>\n",
              "\n",
              "    </div>\n",
              "  </div>\n"
            ],
            "application/vnd.google.colaboratory.intrinsic+json": {
              "type": "dataframe",
              "variable_name": "data_miss",
              "repr_error": "0"
            }
          },
          "metadata": {},
          "execution_count": 19
        }
      ],
      "execution_count": 19
    },
    {
      "cell_type": "markdown",
      "source": [
        "Ditemukan 55 baris Null pada kolom CustomerNo. Maka akan kita hapus.:"
      ],
      "metadata": {
        "id": "9FI_deRGQG2P"
      }
    },
    {
      "cell_type": "code",
      "source": [
        "df_noduplicates.dropna(inplace=True)\n",
        "df_noduplicates.isnull().sum().sum()"
      ],
      "metadata": {
        "colab": {
          "base_uri": "https://localhost:8080/"
        },
        "id": "wS22qwlqQUcM",
        "outputId": "ba586612-5e2d-4d6d-d22e-630c3e2d5a20",
        "trusted": true,
        "execution": {
          "iopub.status.busy": "2025-03-10T07:19:15.030216Z",
          "iopub.execute_input": "2025-03-10T07:19:15.030552Z",
          "iopub.status.idle": "2025-03-10T07:19:15.293840Z",
          "shell.execute_reply.started": "2025-03-10T07:19:15.030521Z",
          "shell.execute_reply": "2025-03-10T07:19:15.293067Z"
        }
      },
      "outputs": [
        {
          "output_type": "stream",
          "name": "stderr",
          "text": [
            "<ipython-input-20-ab5597ce184c>:1: SettingWithCopyWarning: \n",
            "A value is trying to be set on a copy of a slice from a DataFrame\n",
            "\n",
            "See the caveats in the documentation: https://pandas.pydata.org/pandas-docs/stable/user_guide/indexing.html#returning-a-view-versus-a-copy\n",
            "  df_noduplicates.dropna(inplace=True)\n"
          ]
        },
        {
          "output_type": "execute_result",
          "data": {
            "text/plain": [
              "0"
            ]
          },
          "metadata": {},
          "execution_count": 20
        }
      ],
      "execution_count": 20
    },
    {
      "cell_type": "code",
      "source": [
        "df_noduplicates.isnull().sum()"
      ],
      "metadata": {
        "colab": {
          "base_uri": "https://localhost:8080/",
          "height": 335
        },
        "id": "ePh5uTSJQhzJ",
        "outputId": "a571dfda-cb21-4216-c7b8-ddd5ad01cff9",
        "trusted": true,
        "execution": {
          "iopub.status.busy": "2025-03-10T07:19:15.294658Z",
          "iopub.execute_input": "2025-03-10T07:19:15.294879Z",
          "iopub.status.idle": "2025-03-10T07:19:15.410424Z",
          "shell.execute_reply.started": "2025-03-10T07:19:15.294861Z",
          "shell.execute_reply": "2025-03-10T07:19:15.409678Z"
        }
      },
      "outputs": [
        {
          "output_type": "execute_result",
          "data": {
            "text/plain": [
              "TransactionNo    0\n",
              "Date             0\n",
              "ProductNo        0\n",
              "ProductName      0\n",
              "Price            0\n",
              "Quantity         0\n",
              "CustomerNo       0\n",
              "Country          0\n",
              "dtype: int64"
            ],
            "text/html": [
              "<div>\n",
              "<style scoped>\n",
              "    .dataframe tbody tr th:only-of-type {\n",
              "        vertical-align: middle;\n",
              "    }\n",
              "\n",
              "    .dataframe tbody tr th {\n",
              "        vertical-align: top;\n",
              "    }\n",
              "\n",
              "    .dataframe thead th {\n",
              "        text-align: right;\n",
              "    }\n",
              "</style>\n",
              "<table border=\"1\" class=\"dataframe\">\n",
              "  <thead>\n",
              "    <tr style=\"text-align: right;\">\n",
              "      <th></th>\n",
              "      <th>0</th>\n",
              "    </tr>\n",
              "  </thead>\n",
              "  <tbody>\n",
              "    <tr>\n",
              "      <th>TransactionNo</th>\n",
              "      <td>0</td>\n",
              "    </tr>\n",
              "    <tr>\n",
              "      <th>Date</th>\n",
              "      <td>0</td>\n",
              "    </tr>\n",
              "    <tr>\n",
              "      <th>ProductNo</th>\n",
              "      <td>0</td>\n",
              "    </tr>\n",
              "    <tr>\n",
              "      <th>ProductName</th>\n",
              "      <td>0</td>\n",
              "    </tr>\n",
              "    <tr>\n",
              "      <th>Price</th>\n",
              "      <td>0</td>\n",
              "    </tr>\n",
              "    <tr>\n",
              "      <th>Quantity</th>\n",
              "      <td>0</td>\n",
              "    </tr>\n",
              "    <tr>\n",
              "      <th>CustomerNo</th>\n",
              "      <td>0</td>\n",
              "    </tr>\n",
              "    <tr>\n",
              "      <th>Country</th>\n",
              "      <td>0</td>\n",
              "    </tr>\n",
              "  </tbody>\n",
              "</table>\n",
              "</div><br><label><b>dtype:</b> int64</label>"
            ]
          },
          "metadata": {},
          "execution_count": 21
        }
      ],
      "execution_count": 21
    },
    {
      "cell_type": "markdown",
      "source": [
        "Sudah tidak ada missing value"
      ],
      "metadata": {
        "id": "zmWePCq6Qjnp"
      }
    },
    {
      "cell_type": "markdown",
      "source": [
        "## **Menangani Tipe Data yang Tidak Sesuai**"
      ],
      "metadata": {
        "id": "67nkgl3-WGW7"
      }
    },
    {
      "cell_type": "code",
      "source": [
        "df_noduplicates.info()"
      ],
      "metadata": {
        "colab": {
          "base_uri": "https://localhost:8080/"
        },
        "id": "qoIqlYotS2ZT",
        "outputId": "c9496a55-f004-494b-8714-d219da40c936",
        "trusted": true,
        "execution": {
          "iopub.status.busy": "2025-03-10T07:19:15.411250Z",
          "iopub.execute_input": "2025-03-10T07:19:15.411574Z",
          "iopub.status.idle": "2025-03-10T07:19:15.531128Z",
          "shell.execute_reply.started": "2025-03-10T07:19:15.411543Z",
          "shell.execute_reply": "2025-03-10T07:19:15.530290Z"
        }
      },
      "outputs": [
        {
          "output_type": "stream",
          "name": "stdout",
          "text": [
            "<class 'pandas.core.frame.DataFrame'>\n",
            "Index: 531095 entries, 0 to 536349\n",
            "Data columns (total 8 columns):\n",
            " #   Column         Non-Null Count   Dtype  \n",
            "---  ------         --------------   -----  \n",
            " 0   TransactionNo  531095 non-null  object \n",
            " 1   Date           531095 non-null  object \n",
            " 2   ProductNo      531095 non-null  object \n",
            " 3   ProductName    531095 non-null  object \n",
            " 4   Price          531095 non-null  float64\n",
            " 5   Quantity       531095 non-null  int64  \n",
            " 6   CustomerNo     531095 non-null  float64\n",
            " 7   Country        531095 non-null  object \n",
            "dtypes: float64(2), int64(1), object(5)\n",
            "memory usage: 36.5+ MB\n"
          ]
        }
      ],
      "execution_count": 22
    },
    {
      "cell_type": "markdown",
      "source": [
        "- Kolom CustomerNo seharusnya berisi nilai unik yang mengidentifikasi masing-masing pelanggan. Maka akan diubah menjadi string yang lebih tepat.\n",
        "- Meskipun deskripsinya adalah \"Date (numeric)\" dalam penjelasan, data yang muncul berbentuk string (misalnya, \"12/9/2019\"). Agar dapat melakukan operasi tanggal (seperti filtering berdasarkan waktu, ekstraksi bulan/tahun, dsb.)"
      ],
      "metadata": {
        "id": "AtHFvEzhUJnG"
      }
    },
    {
      "cell_type": "code",
      "source": [
        "df_noduplicates['Date'] = pd.to_datetime(df_noduplicates['Date'], format='%m/%d/%Y')\n"
      ],
      "metadata": {
        "id": "MMUDJ7APS7Gx",
        "trusted": true,
        "execution": {
          "iopub.status.busy": "2025-03-10T07:19:15.531993Z",
          "iopub.execute_input": "2025-03-10T07:19:15.532218Z",
          "iopub.status.idle": "2025-03-10T07:19:15.581127Z",
          "shell.execute_reply.started": "2025-03-10T07:19:15.532199Z",
          "shell.execute_reply": "2025-03-10T07:19:15.580378Z"
        },
        "outputId": "d207b893-d087-4156-c398-59aaa794416f",
        "colab": {
          "base_uri": "https://localhost:8080/"
        }
      },
      "outputs": [
        {
          "output_type": "stream",
          "name": "stderr",
          "text": [
            "<ipython-input-23-53c3ed933e24>:1: SettingWithCopyWarning: \n",
            "A value is trying to be set on a copy of a slice from a DataFrame.\n",
            "Try using .loc[row_indexer,col_indexer] = value instead\n",
            "\n",
            "See the caveats in the documentation: https://pandas.pydata.org/pandas-docs/stable/user_guide/indexing.html#returning-a-view-versus-a-copy\n",
            "  df_noduplicates['Date'] = pd.to_datetime(df_noduplicates['Date'], format='%m/%d/%Y')\n"
          ]
        }
      ],
      "execution_count": 23
    },
    {
      "cell_type": "markdown",
      "source": [
        "konversi kolom Date ke tipe datetime menggunakan pd.to_datetime()."
      ],
      "metadata": {
        "id": "YlIsmjoqTu6h"
      }
    },
    {
      "cell_type": "code",
      "source": [
        "df_noduplicates['CustomerNo'] = df_noduplicates['CustomerNo'].astype(str)\n"
      ],
      "metadata": {
        "id": "eYpqO6E4UwaG",
        "trusted": true,
        "execution": {
          "iopub.status.busy": "2025-03-10T07:19:15.581937Z",
          "iopub.execute_input": "2025-03-10T07:19:15.582166Z",
          "iopub.status.idle": "2025-03-10T07:19:15.868836Z",
          "shell.execute_reply.started": "2025-03-10T07:19:15.582147Z",
          "shell.execute_reply": "2025-03-10T07:19:15.867950Z"
        },
        "outputId": "d745d8bb-dfa5-4de1-f0ea-6fee98664be2",
        "colab": {
          "base_uri": "https://localhost:8080/"
        }
      },
      "outputs": [
        {
          "output_type": "stream",
          "name": "stderr",
          "text": [
            "<ipython-input-24-1434ad4dd119>:1: SettingWithCopyWarning: \n",
            "A value is trying to be set on a copy of a slice from a DataFrame.\n",
            "Try using .loc[row_indexer,col_indexer] = value instead\n",
            "\n",
            "See the caveats in the documentation: https://pandas.pydata.org/pandas-docs/stable/user_guide/indexing.html#returning-a-view-versus-a-copy\n",
            "  df_noduplicates['CustomerNo'] = df_noduplicates['CustomerNo'].astype(str)\n"
          ]
        }
      ],
      "execution_count": 24
    },
    {
      "cell_type": "markdown",
      "source": [
        "Konversi CustomerNo ke tipe string"
      ],
      "metadata": {
        "id": "XGu17dpgVqBJ"
      }
    },
    {
      "cell_type": "code",
      "source": [
        "df_noduplicates.info()"
      ],
      "metadata": {
        "colab": {
          "base_uri": "https://localhost:8080/"
        },
        "id": "zubKdXbpTEop",
        "outputId": "75cfe0c6-f0b4-41e6-8be4-e09c17bd87b6",
        "trusted": true,
        "execution": {
          "iopub.status.busy": "2025-03-10T07:19:15.869772Z",
          "iopub.execute_input": "2025-03-10T07:19:15.870104Z",
          "iopub.status.idle": "2025-03-10T07:19:15.989223Z",
          "shell.execute_reply.started": "2025-03-10T07:19:15.870072Z",
          "shell.execute_reply": "2025-03-10T07:19:15.988387Z"
        }
      },
      "outputs": [
        {
          "output_type": "stream",
          "name": "stdout",
          "text": [
            "<class 'pandas.core.frame.DataFrame'>\n",
            "Index: 531095 entries, 0 to 536349\n",
            "Data columns (total 8 columns):\n",
            " #   Column         Non-Null Count   Dtype         \n",
            "---  ------         --------------   -----         \n",
            " 0   TransactionNo  531095 non-null  object        \n",
            " 1   Date           531095 non-null  datetime64[ns]\n",
            " 2   ProductNo      531095 non-null  object        \n",
            " 3   ProductName    531095 non-null  object        \n",
            " 4   Price          531095 non-null  float64       \n",
            " 5   Quantity       531095 non-null  int64         \n",
            " 6   CustomerNo     531095 non-null  object        \n",
            " 7   Country        531095 non-null  object        \n",
            "dtypes: datetime64[ns](1), float64(1), int64(1), object(5)\n",
            "memory usage: 36.5+ MB\n"
          ]
        }
      ],
      "execution_count": 25
    },
    {
      "cell_type": "markdown",
      "source": [
        "kolom Date sudah berubah tipe datanya ke datetime, dan kolom CustomerNo berubah ke object dengan isi String di dalamnya"
      ],
      "metadata": {
        "id": "E9TwItzIT5s5"
      }
    },
    {
      "cell_type": "markdown",
      "source": [
        "## **Menangani Outliers**"
      ],
      "metadata": {
        "id": "i08VboZBXvLK"
      }
    },
    {
      "cell_type": "code",
      "source": [
        "import matplotlib.pyplot as plt\n",
        "import seaborn as sns\n",
        "\n",
        "df_outlier=df_noduplicates.select_dtypes(exclude=['object', 'datetime64[ns]'])\n",
        "for column in df_outlier:\n",
        "        plt.figure()\n",
        "        sns.boxplot(data=df_outlier, x=column)"
      ],
      "metadata": {
        "colab": {
          "base_uri": "https://localhost:8080/",
          "height": 881
        },
        "id": "UyT3w3oGWdrf",
        "outputId": "34298224-fc59-4be0-d3fb-d3d7e595421b",
        "trusted": true,
        "execution": {
          "iopub.status.busy": "2025-03-10T07:19:15.990014Z",
          "iopub.execute_input": "2025-03-10T07:19:15.990279Z",
          "iopub.status.idle": "2025-03-10T07:19:16.955172Z",
          "shell.execute_reply.started": "2025-03-10T07:19:15.990257Z",
          "shell.execute_reply": "2025-03-10T07:19:16.954288Z"
        }
      },
      "outputs": [
        {
          "output_type": "display_data",
          "data": {
            "text/plain": [
              "<Figure size 640x480 with 1 Axes>"
            ],
            "image/png": "[encoded data removed]"
          },
          "metadata": {}
        },
        {
          "output_type": "display_data",
          "data": {
            "text/plain": [
              "<Figure size 640x480 with 1 Axes>"
            ],
            "image/png": "[encoded data removed]"
          },
          "metadata": {}
        }
      ],
      "execution_count": 26
    },
    {
      "cell_type": "markdown",
      "source": [
        "### Outliers Gabungan AND"
      ],
      "metadata": {
        "id": "RuCZjUMndZDb"
      }
    },
    {
      "cell_type": "code",
      "source": [
        "# Menghitung IQR untuk kolom Price\n",
        "Q1_price = df_noduplicates['Price'].quantile(0.25)\n",
        "Q3_price = df_noduplicates['Price'].quantile(0.75)\n",
        "IQR_price = Q3_price - Q1_price\n",
        "\n",
        "lower_bound_price = Q1_price - 1.5 * IQR_price\n",
        "upper_bound_price = Q3_price + 1.5 * IQR_price\n",
        "\n",
        "# Menghitung IQR untuk kolom Quantity\n",
        "Q1_qty = df_noduplicates['Quantity'].quantile(0.25)\n",
        "Q3_qty = df_noduplicates['Quantity'].quantile(0.75)\n",
        "IQR_qty = Q3_qty - Q1_qty\n",
        "\n",
        "lower_bound_qty = Q1_qty - 1.5 * IQR_qty\n",
        "upper_bound_qty = Q3_qty + 1.5 * IQR_qty\n"
      ],
      "metadata": {
        "id": "ll9rEfTjXLZ3",
        "trusted": true,
        "execution": {
          "iopub.status.busy": "2025-03-10T07:19:16.955946Z",
          "iopub.execute_input": "2025-03-10T07:19:16.956361Z",
          "iopub.status.idle": "2025-03-10T07:19:16.988335Z",
          "shell.execute_reply.started": "2025-03-10T07:19:16.956338Z",
          "shell.execute_reply": "2025-03-10T07:19:16.987688Z"
        }
      },
      "outputs": [],
      "execution_count": 27
    },
    {
      "cell_type": "code",
      "source": [
        "# Mask outlier untuk Price\n",
        "mask_price = (df_noduplicates['Price'] < lower_bound_price) | (df_noduplicates['Price'] > upper_bound_price)\n",
        "\n",
        "# Mask outlier untuk Quantity\n",
        "mask_qty = (df_noduplicates['Quantity'] < lower_bound_qty) | (df_noduplicates['Quantity'] > upper_bound_qty)\n",
        "\n",
        "# Mask gabungan: hanya baris yang outlier di kedua kolom\n",
        "mask_intersection = mask_price & mask_qty\n",
        "\n",
        "# Menampilkan jumlah baris yang dianggap outlier gabungan\n",
        "print(\"Jumlah outlier (gabungan Price & Quantity):\", mask_intersection.sum())\n"
      ],
      "metadata": {
        "colab": {
          "base_uri": "https://localhost:8080/"
        },
        "id": "lMr9BVoRZprX",
        "outputId": "1a115dcb-d65b-40ee-8787-582a02a849f2",
        "trusted": true,
        "execution": {
          "iopub.status.busy": "2025-03-10T07:19:16.989126Z",
          "iopub.execute_input": "2025-03-10T07:19:16.989350Z",
          "iopub.status.idle": "2025-03-10T07:19:16.999876Z",
          "shell.execute_reply.started": "2025-03-10T07:19:16.989332Z",
          "shell.execute_reply": "2025-03-10T07:19:16.999120Z"
        }
      },
      "outputs": [
        {
          "output_type": "stream",
          "name": "stdout",
          "text": [
            "Jumlah outlier (gabungan Price & Quantity): 5795\n"
          ]
        }
      ],
      "execution_count": 28
    },
    {
      "cell_type": "code",
      "source": [
        "# Membuat dataset baru tanpa baris outlier gabungan\n",
        "df_intersect = df_noduplicates[~mask_intersection].copy()\n",
        "\n",
        "print(\"Ukuran dataset sebelum penghapusan:\", df_noduplicates.shape)\n",
        "print(\"Ukuran dataset sesudah penghapusan:\", df_intersect.shape)\n"
      ],
      "metadata": {
        "colab": {
          "base_uri": "https://localhost:8080/"
        },
        "id": "c1XMOSBKcMVz",
        "outputId": "2ef64fde-c7c5-46e8-90b0-48d8ca37a3f4",
        "trusted": true,
        "execution": {
          "iopub.status.busy": "2025-03-10T07:19:17.000879Z",
          "iopub.execute_input": "2025-03-10T07:19:17.001456Z",
          "iopub.status.idle": "2025-03-10T07:19:17.185416Z",
          "shell.execute_reply.started": "2025-03-10T07:19:17.001424Z",
          "shell.execute_reply": "2025-03-10T07:19:17.184642Z"
        }
      },
      "outputs": [
        {
          "output_type": "stream",
          "name": "stdout",
          "text": [
            "Ukuran dataset sebelum penghapusan: (531095, 8)\n",
            "Ukuran dataset sesudah penghapusan: (525300, 8)\n"
          ]
        }
      ],
      "execution_count": 29
    },
    {
      "cell_type": "markdown",
      "source": [
        "### Outliers Gabungan AND & OR"
      ],
      "metadata": {
        "id": "1qC084TeeIXe"
      }
    },
    {
      "cell_type": "code",
      "source": [
        "# Untuk kolom Price\n",
        "price_q1 = df_noduplicates['Price'].quantile(0.25)\n",
        "price_q3 = df_noduplicates['Price'].quantile(0.75)\n",
        "price_iqr = price_q3 - price_q1\n",
        "price_lower_bound = price_q1 - 1.5 * price_iqr\n",
        "price_upper_bound = price_q3 + 1.5 * price_iqr\n",
        "\n",
        "# Buat mask untuk Price\n",
        "price_mask = (df_noduplicates['Price'] >= price_lower_bound) & (df_noduplicates['Price'] <= price_upper_bound)\n",
        "\n",
        "# Hitung jumlah outlier pada Price\n",
        "price_outliers_count = df_noduplicates[~price_mask].shape[0]\n",
        "print(\"Jumlah outliers pada Price:\", price_outliers_count)\n",
        "\n",
        "# Untuk kolom Quantity\n",
        "quantity_q1 = df_noduplicates['Quantity'].quantile(0.25)\n",
        "quantity_q3 = df_noduplicates['Quantity'].quantile(0.75)\n",
        "quantity_iqr = quantity_q3 - quantity_q1\n",
        "quantity_lower_bound = quantity_q1 - 1.5 * quantity_iqr\n",
        "quantity_upper_bound = quantity_q3 + 1.5 * quantity_iqr\n",
        "\n",
        "# Buat mask untuk Quantity\n",
        "quantity_mask = (df_noduplicates['Quantity'] >= quantity_lower_bound) & (df_noduplicates['Quantity'] <= quantity_upper_bound)\n",
        "\n",
        "# Hitung jumlah outlier pada Quantity\n",
        "quantity_outliers_count = df_noduplicates[~quantity_mask].shape[0]\n",
        "print(\"Jumlah outliers pada Quantity:\", quantity_outliers_count)\n",
        "\n",
        "# Gabungkan kedua mask (jika diperlukan)\n",
        "combined_mask = price_mask & quantity_mask\n",
        "\n",
        "# Data tanpa outlier berdasarkan gabungan mask\n",
        "df_no_outliers = df_noduplicates[combined_mask]\n",
        "\n",
        "# Tampilkan perbandingan dimensi data\n",
        "print(\"Dimensi data sebelum menghapus outlier:\", df_noduplicates.shape)\n",
        "print(\"Dimensi data setelah menghapus outlier:\", df_no_outliers.shape)\n"
      ],
      "metadata": {
        "colab": {
          "base_uri": "https://localhost:8080/"
        },
        "id": "q3FD4xgHiMCu",
        "outputId": "e84fab2d-4daa-4d3f-8899-f80fd95588f3",
        "trusted": true,
        "execution": {
          "iopub.status.busy": "2025-03-10T07:19:17.186176Z",
          "iopub.execute_input": "2025-03-10T07:19:17.186430Z",
          "iopub.status.idle": "2025-03-10T07:19:17.270193Z",
          "shell.execute_reply.started": "2025-03-10T07:19:17.186408Z",
          "shell.execute_reply": "2025-03-10T07:19:17.269403Z"
        }
      },
      "outputs": [
        {
          "output_type": "stream",
          "name": "stdout",
          "text": [
            "Jumlah outliers pada Price: 98356\n",
            "Jumlah outliers pada Quantity: 57243\n",
            "Dimensi data sebelum menghapus outlier: (531095, 8)\n",
            "Dimensi data setelah menghapus outlier: (381291, 8)\n"
          ]
        }
      ],
      "execution_count": 30
    },
    {
      "cell_type": "markdown",
      "source": [
        "## EDA - Univariate Analysis"
      ],
      "metadata": {
        "id": "sLdBy-3Eic8I"
      }
    },
    {
      "cell_type": "markdown",
      "source": [
        "Membagi kolom dataset menjadi dua kelompok: fitur numerik dan fitur kategorik."
      ],
      "metadata": {
        "id": "0RVs1WHzE0Jc"
      }
    },
    {
      "cell_type": "code",
      "source": [
        "# Fitur numerik: Price dan Quantity\n",
        "numeric_features = ['Price', 'Quantity', 'Date']\n",
        "\n",
        "# Fitur kategorik: sisanya (TransactionNo, ProductNo, ProductName, CustomerNo, Country)\n",
        "categorical_features = ['TransactionNo', 'ProductNo', 'ProductName', 'CustomerNo', 'Country']\n",
        "\n",
        "print(\"Fitur Numerik:\", numeric_features)\n",
        "print(\"Fitur Kategorik:\", categorical_features)"
      ],
      "metadata": {
        "colab": {
          "base_uri": "https://localhost:8080/"
        },
        "id": "XBiXSaKuifdD",
        "outputId": "3e4aebb0-46ba-4225-ae84-778c9b3ba223",
        "trusted": true,
        "execution": {
          "iopub.status.busy": "2025-03-10T07:19:17.270928Z",
          "iopub.execute_input": "2025-03-10T07:19:17.271201Z",
          "iopub.status.idle": "2025-03-10T07:19:17.276248Z",
          "shell.execute_reply.started": "2025-03-10T07:19:17.271181Z",
          "shell.execute_reply": "2025-03-10T07:19:17.275418Z"
        }
      },
      "outputs": [
        {
          "output_type": "stream",
          "name": "stdout",
          "text": [
            "Fitur Numerik: ['Price', 'Quantity', 'Date']\n",
            "Fitur Kategorik: ['TransactionNo', 'ProductNo', 'ProductName', 'CustomerNo', 'Country']\n"
          ]
        }
      ],
      "execution_count": 31
    },
    {
      "cell_type": "markdown",
      "source": [
        "## **Analisis Fitur Numerik**"
      ],
      "metadata": {
        "id": "lqKuTwGXQ0bE"
      }
    },
    {
      "cell_type": "code",
      "source": [
        "import matplotlib.pyplot as plt\n",
        "import seaborn as sns\n",
        "\n",
        "# Histogram untuk Price dan Quantity\n",
        "for col in ['Price', 'Quantity']:\n",
        "    plt.figure(figsize=(8, 4))\n",
        "    sns.histplot(df_no_outliers[col], kde=True, color='skyblue')\n",
        "    plt.title(f'Distribusi {col}')\n",
        "    plt.xlabel(col)\n",
        "    plt.ylabel('Frekuensi')\n",
        "    plt.show()\n",
        "\n",
        "# Boxplot untuk Price dan Quantity\n",
        "for col in ['Price', 'Quantity']:\n",
        "    plt.figure(figsize=(8, 4))\n",
        "    sns.boxplot(x=df_no_outliers[col], color='lightgreen')\n",
        "    plt.title(f'Boxplot {col}')\n",
        "    plt.xlabel(col)\n",
        "    plt.show()\n"
      ],
      "metadata": {
        "colab": {
          "base_uri": "https://localhost:8080/",
          "height": 1000
        },
        "id": "2EAm7Q3gQuBz",
        "outputId": "d58c62f1-50c3-45c0-de84-ca57e6b70886",
        "trusted": true,
        "execution": {
          "iopub.status.busy": "2025-03-10T07:19:17.277268Z",
          "iopub.execute_input": "2025-03-10T07:19:17.277480Z",
          "iopub.status.idle": "2025-03-10T07:19:21.192144Z",
          "shell.execute_reply.started": "2025-03-10T07:19:17.277462Z",
          "shell.execute_reply": "2025-03-10T07:19:21.191252Z"
        }
      },
      "outputs": [
        {
          "output_type": "display_data",
          "data": {
            "text/plain": [
              "<Figure size 800x400 with 1 Axes>"
            ],
            "image/png": "[encoded data removed]"
          },
          "metadata": {}
        },
        {
          "output_type": "display_data",
          "data": {
            "text/plain": [
              "<Figure size 800x400 with 1 Axes>"
            ],
            "image/png": "[encoded data removed]"
          },
          "metadata": {}
        },
        {
          "output_type": "display_data",
          "data": {
            "text/plain": [
              "<Figure size 800x400 with 1 Axes>"
            ],
            "image/png": "[encoded data removed]"
          },
          "metadata": {}
        },
        {
          "output_type": "display_data",
          "data": {
            "text/plain": [
              "<Figure size 800x400 with 1 Axes>"
            ],
            "image/png": "[encoded data removed]"
          },
          "metadata": {}
        }
      ],
      "execution_count": 32
    },
    {
      "cell_type": "code",
      "source": [
        "import matplotlib.pyplot as plt\n",
        "import seaborn as sns\n",
        "\n",
        "# Konversi kolom Date ke numeric (ordinal)\n",
        "df_no_outliers['Date_numeric'] = df_no_outliers['Date'].apply(lambda x: x.toordinal())\n",
        "\n",
        "# Histogram untuk Price dan Date_numeric\n",
        "for col in ['Price', 'Date_numeric']:\n",
        "    plt.figure(figsize=(23, 10))\n",
        "    sns.histplot(df_no_outliers[col], kde=True, color='skyblue')\n",
        "    plt.title(f'Distribusi {col}')\n",
        "    plt.xlabel(col)\n",
        "    plt.ylabel('Frekuensi')\n",
        "    plt.show()\n",
        "\n",
        "# Boxplot untuk Price dan Date_numeric\n",
        "for col in ['Price', 'Date_numeric']:\n",
        "    plt.figure(figsize=(25, 10))\n",
        "    sns.boxplot(x=df_no_outliers[col], color='lightgreen')\n",
        "    plt.title(f'Boxplot {col}')\n",
        "    plt.xlabel(col)\n",
        "    plt.show()\n"
      ],
      "metadata": {
        "colab": {
          "base_uri": "https://localhost:8080/",
          "height": 1000
        },
        "id": "z4GyjQRKU6nj",
        "outputId": "c80c78e6-c266-4ae9-f542-782b2f5a5d93",
        "trusted": true,
        "execution": {
          "iopub.status.busy": "2025-03-10T07:19:21.195286Z",
          "iopub.execute_input": "2025-03-10T07:19:21.195511Z",
          "iopub.status.idle": "2025-03-10T07:19:25.907063Z",
          "shell.execute_reply.started": "2025-03-10T07:19:21.195492Z",
          "shell.execute_reply": "2025-03-10T07:19:25.906080Z"
        }
      },
      "outputs": [
        {
          "output_type": "stream",
          "name": "stderr",
          "text": [
            "<ipython-input-33-26c164048282>:5: SettingWithCopyWarning: \n",
            "A value is trying to be set on a copy of a slice from a DataFrame.\n",
            "Try using .loc[row_indexer,col_indexer] = value instead\n",
            "\n",
            "See the caveats in the documentation: https://pandas.pydata.org/pandas-docs/stable/user_guide/indexing.html#returning-a-view-versus-a-copy\n",
            "  df_no_outliers['Date_numeric'] = df_no_outliers['Date'].apply(lambda x: x.toordinal())\n"
          ]
        },
        {
          "output_type": "display_data",
          "data": {
            "text/plain": [
              "<Figure size 2300x1000 with 1 Axes>"
            ],
            "image/png": "[encoded data removed]"
          },
          "metadata": {}
        },
        {
          "output_type": "display_data",
          "data": {
            "text/plain": [
              "<Figure size 2300x1000 with 1 Axes>"
            ],
            "image/png": "[encoded data removed]"
          },
          "metadata": {}
        },
        {
          "output_type": "display_data",
          "data": {
            "text/plain": [
              "<Figure size 2500x1000 with 1 Axes>"
            ],
            "image/png": "[encoded data removed]"
          },
          "metadata": {}
        },
        {
          "output_type": "display_data",
          "data": {
            "text/plain": [
              "<Figure size 2500x1000 with 1 Axes>"
            ],
            "image/png": "[encoded data removed]"
          },
          "metadata": {}
        }
      ],
      "execution_count": 33
    },
    {
      "cell_type": "markdown",
      "source": [
        "## **Analisis Fitur Kategorik**"
      ],
      "metadata": {
        "id": "f76Nkh_EVVuH"
      }
    },
    {
      "cell_type": "code",
      "source": [
        "import matplotlib.pyplot as plt\n",
        "import seaborn as sns\n",
        "\n",
        "# Mengambil 20 kategori terbanyak\n",
        "top_15_products = df_no_outliers['CustomerNo'].value_counts().nlargest(50)\n",
        "\n",
        "plt.figure(figsize=(10, 6))\n",
        "sns.barplot(x=top_15_products.index, y=top_15_products.values, palette='viridis')\n",
        "plt.title('Top 50 CustomerNo')\n",
        "plt.xlabel('CustomerNo')\n",
        "plt.ylabel('Frekuensi')\n",
        "plt.xticks(rotation=90)\n",
        "plt.show()\n"
      ],
      "metadata": {
        "colab": {
          "base_uri": "https://localhost:8080/",
          "height": 556
        },
        "id": "q2p6Cl8dVW4M",
        "outputId": "780d431c-8f79-4d57-eb79-06c4d8a93686",
        "trusted": true,
        "execution": {
          "iopub.status.busy": "2025-03-10T07:19:26.574387Z",
          "iopub.execute_input": "2025-03-10T07:19:26.574716Z",
          "iopub.status.idle": "2025-03-10T07:19:27.048076Z",
          "shell.execute_reply.started": "2025-03-10T07:19:26.574683Z",
          "shell.execute_reply": "2025-03-10T07:19:27.047118Z"
        }
      },
      "outputs": [
        {
          "output_type": "stream",
          "name": "stderr",
          "text": [
            "<ipython-input-34-b11a0a7d8347>:8: FutureWarning: \n",
            "\n",
            "Passing `palette` without assigning `hue` is deprecated and will be removed in v0.14.0. Assign the `x` variable to `hue` and set `legend=False` for the same effect.\n",
            "\n",
            "  sns.barplot(x=top_15_products.index, y=top_15_products.values, palette='viridis')\n"
          ]
        },
        {
          "output_type": "display_data",
          "data": {
            "text/plain": [
              "<Figure size 1000x600 with 1 Axes>"
            ],
            "image/png": "[encoded data removed]"
          },
          "metadata": {}
        }
      ],
      "execution_count": 34
    },
    {
      "cell_type": "code",
      "source": [
        "import matplotlib.pyplot as plt\n",
        "import seaborn as sns\n",
        "\n",
        "# Mengambil 20 kategori terbanyak\n",
        "top_15_products = df_no_outliers['TransactionNo'].value_counts().nlargest(50)\n",
        "\n",
        "plt.figure(figsize=(10, 6))\n",
        "sns.barplot(x=top_15_products.index, y=top_15_products.values, palette='viridis')\n",
        "plt.title('Top 50 TransactionNo')\n",
        "plt.xlabel('TransactionNo')\n",
        "plt.ylabel('Frekuensi')\n",
        "plt.xticks(rotation=90)\n",
        "plt.show()\n"
      ],
      "metadata": {
        "colab": {
          "base_uri": "https://localhost:8080/",
          "height": 557
        },
        "id": "zfesenrHVkdp",
        "outputId": "b8d29e5d-a1a8-4bf5-c406-d7e8195dffae",
        "trusted": true,
        "execution": {
          "iopub.status.busy": "2025-03-10T07:19:27.048947Z",
          "iopub.execute_input": "2025-03-10T07:19:27.049244Z",
          "iopub.status.idle": "2025-03-10T07:19:27.507238Z",
          "shell.execute_reply.started": "2025-03-10T07:19:27.049216Z",
          "shell.execute_reply": "2025-03-10T07:19:27.506261Z"
        }
      },
      "outputs": [
        {
          "output_type": "stream",
          "name": "stderr",
          "text": [
            "<ipython-input-35-36441fc05b5e>:8: FutureWarning: \n",
            "\n",
            "Passing `palette` without assigning `hue` is deprecated and will be removed in v0.14.0. Assign the `x` variable to `hue` and set `legend=False` for the same effect.\n",
            "\n",
            "  sns.barplot(x=top_15_products.index, y=top_15_products.values, palette='viridis')\n"
          ]
        },
        {
          "output_type": "display_data",
          "data": {
            "text/plain": [
              "<Figure size 1000x600 with 1 Axes>"
            ],
            "image/png": "[encoded data removed]"
          },
          "metadata": {}
        }
      ],
      "execution_count": 35
    },
    {
      "cell_type": "code",
      "source": [
        "top_5_products = df_no_outliers['Country'].value_counts().nlargest(5)\n",
        "\n",
        "plt.figure(figsize=(5,5))\n",
        "plt.pie(top_5_products.values, labels=top_5_products.index, autopct='%1.1f%%', startangle=200)\n",
        "plt.title('Top 5 Country (Proporsi)')\n",
        "plt.show()\n"
      ],
      "metadata": {
        "colab": {
          "base_uri": "https://localhost:8080/",
          "height": 444
        },
        "id": "4q1Z343KVnoE",
        "outputId": "df113cd9-39f3-443c-dd2f-c90d1de9cd93",
        "trusted": true,
        "execution": {
          "iopub.status.busy": "2025-03-10T07:19:27.508187Z",
          "iopub.execute_input": "2025-03-10T07:19:27.508528Z",
          "iopub.status.idle": "2025-03-10T07:19:27.651272Z",
          "shell.execute_reply.started": "2025-03-10T07:19:27.508495Z",
          "shell.execute_reply": "2025-03-10T07:19:27.650440Z"
        }
      },
      "outputs": [
        {
          "output_type": "display_data",
          "data": {
            "text/plain": [
              "<Figure size 500x500 with 1 Axes>"
            ],
            "image/png": "[encoded data removed]"
          },
          "metadata": {}
        }
      ],
      "execution_count": 36
    },
    {
      "cell_type": "code",
      "source": [
        "import pandas as pd\n",
        "\n",
        "# Top 50 Produk Paling Sering Dibeli\n",
        "top_50_products = df_no_outliers['ProductName'].value_counts().nlargest(50)\n",
        "df_top_products = pd.DataFrame({'ProductName': top_50_products.index, 'Frekuensi': top_50_products.values})\n",
        "\n",
        "# Top 50 CustomerNo dengan transaksi terbanyak\n",
        "top_50_customers = df_no_outliers['CustomerNo'].value_counts().nlargest(50)\n",
        "df_top_customers = pd.DataFrame({'CustomerNo': top_50_customers.index, 'Frekuensi': top_50_customers.values})\n",
        "\n",
        "# Top 50 TransactionNo dengan frekuensi tertinggi\n",
        "top_50_transactions = df_no_outliers['TransactionNo'].value_counts().nlargest(50)\n",
        "df_top_transactions = pd.DataFrame({'TransactionNo': top_50_transactions.index, 'Frekuensi': top_50_transactions.values})\n",
        "\n",
        "# Top 8 Negara dengan transaksi terbanyak\n",
        "top_8_countries = df_no_outliers['Country'].value_counts().nlargest(8)\n",
        "df_top_countries = pd.DataFrame({'Country': top_8_countries.index, 'Frekuensi': top_8_countries.values})\n",
        "df_top_countries['Persentase'] = (df_top_countries['Frekuensi'] / df_no_outliers.shape[0]) * 100\n",
        "\n",
        "# Menampilkan tabel\n",
        "print(\"Top 50 Produk Paling Sering Dibeli:\")\n",
        "print(df_top_products)\n",
        "\n",
        "print(\"\\nTop 50 CustomerNo dengan Transaksi Terbanyak:\")\n",
        "print(df_top_customers)\n",
        "\n",
        "print(\"\\nTop 50 TransactionNo dengan Frekuensi Tertinggi:\")\n",
        "print(df_top_transactions)\n",
        "\n",
        "print(\"\\nTop 8 Negara dengan Transaksi Terbanyak:\")\n",
        "print(df_top_countries)\n"
      ],
      "metadata": {
        "colab": {
          "base_uri": "https://localhost:8080/"
        },
        "id": "ufYtGmo0fV0D",
        "outputId": "be4fd5a0-316d-4edd-896a-b96ca4e949ab",
        "trusted": true,
        "execution": {
          "iopub.status.busy": "2025-03-10T07:19:27.652114Z",
          "iopub.execute_input": "2025-03-10T07:19:27.652450Z",
          "iopub.status.idle": "2025-03-10T07:19:27.771252Z",
          "shell.execute_reply.started": "2025-03-10T07:19:27.652418Z",
          "shell.execute_reply": "2025-03-10T07:19:27.770533Z"
        }
      },
      "outputs": [
        {
          "output_type": "stream",
          "name": "stdout",
          "text": [
            "Top 50 Produk Paling Sering Dibeli:\n",
            "                            ProductName  Frekuensi\n",
            "0    Cream Hanging Heart T-Light Holder       1885\n",
            "1                         Party Bunting       1281\n",
            "2      Set Of 3 Cake Tins Pantry Design       1159\n",
            "3        Natural Slate Heart Chalkboard       1155\n",
            "4                Jumbo Storage Bag Suki       1073\n",
            "5     Jumbo Shopper Vintage Red Paisley       1057\n",
            "6         Assorted Colour Bird Ornament       1039\n",
            "7       Recipe Box Pantry Yellow Design       1038\n",
            "8                 Heart Of Wicker Small       1026\n",
            "9     Wooden Picture Frame White Finish       1001\n",
            "10               Jam Making Set Printed        976\n",
            "11      Roses Regency Teacup And Saucer        969\n",
            "12                       Popcorn Holder        968\n",
            "13                       Spotty Bunting        967\n",
            "14      Green Regency Teacup And Saucer        936\n",
            "15         Set Of 4 Pantry Jelly Moulds        929\n",
            "16             Alarm Clock Bakelike Red        908\n",
            "17             Jam Making Set With Jars        876\n",
            "18          Red Retrospot Charlotte Bag        874\n",
            "19                Heart Of Wicker Large        858\n",
            "20               6 Ribbons Rustic Charm        851\n",
            "21       Paper Chain Kit 50'S Christmas        850\n",
            "22   Set/20 Red Retrospot Paper Napkins        848\n",
            "23         Rex Cash+Carry Jumbo Shopper        841\n",
            "24           Alarm Clock Bakelike Green        840\n",
            "25  Set/5 Red Retrospot Lid Glass Bowls        821\n",
            "26           Wooden Frame Antique White        815\n",
            "27         Baking Set 9 Piece Retrospot        805\n",
            "28      Victorian Glass Hanging T-Light        757\n",
            "29     Gardeners Kneeling Pad Keep Calm        756\n",
            "30                   Spaceboy Lunch Box        752\n",
            "31      Retrospot Tea Set Ceramic 11 Pc        751\n",
            "32                 Dolly Girl Lunch Box        743\n",
            "33       Strawberry Ceramic Trinket Pot        741\n",
            "34                   Vintage Snap Cards        734\n",
            "35        Gin And Tonic Diet Metal Sign        705\n",
            "36              Paper Bunting Retrospot        703\n",
            "37            Charlotte Bag Suki Design        703\n",
            "38       Pink Regency Teacup And Saucer        696\n",
            "39         Please One Person Metal Sign        694\n",
            "40           Set Of 3 Regency Cake Tins        689\n",
            "41            Alarm Clock Bakelike Pink        688\n",
            "42             Home Building Block Word        683\n",
            "43              Recycling Bag Retrospot        683\n",
            "44               Woodland Charlotte Bag        679\n",
            "45        Red Toadstool Led Night Light        670\n",
            "46          Charlotte Bag Pink Polkadot        659\n",
            "47       Clothes Pegs Retrospot Pack 24        659\n",
            "48   Round Snack Boxes Set Of4 Woodland        648\n",
            "49    Set Of 6 Spice Tins Pantry Design        643\n",
            "\n",
            "Top 50 CustomerNo dengan Transaksi Terbanyak:\n",
            "   CustomerNo  Frekuensi\n",
            "0     17841.0       6243\n",
            "1     14911.0       3761\n",
            "2     14096.0       3557\n",
            "3     12748.0       3124\n",
            "4     14606.0       2352\n",
            "5     15311.0       1758\n",
            "6     13263.0       1382\n",
            "7     17434.0       1192\n",
            "8     13089.0       1124\n",
            "9     15039.0       1062\n",
            "10    16549.0       1055\n",
            "11    18118.0       1043\n",
            "12    14159.0       1015\n",
            "13    16592.0        990\n",
            "14    16033.0        987\n",
            "15    14796.0        972\n",
            "16    14585.0        938\n",
            "17    15005.0        879\n",
            "18    14769.0        862\n",
            "19    14056.0        860\n",
            "20    16837.0        803\n",
            "21    14456.0        734\n",
            "22    13451.0        728\n",
            "23    16931.0        724\n",
            "24    15547.0        724\n",
            "25    15719.0        724\n",
            "26    17811.0        723\n",
            "27    14505.0        698\n",
            "28    15555.0        687\n",
            "29    16729.0        686\n",
            "30    17338.0        683\n",
            "31    14156.0        674\n",
            "32    15475.0        652\n",
            "33    14527.0        627\n",
            "34    12757.0        604\n",
            "35    17757.0        602\n",
            "36    17231.0        600\n",
            "37    13081.0        599\n",
            "38    14502.0        582\n",
            "39    16240.0        575\n",
            "40    14194.0        567\n",
            "41    17758.0        566\n",
            "42    16360.0        561\n",
            "43    12071.0        555\n",
            "44    15065.0        553\n",
            "45    15529.0        551\n",
            "46    13437.0        549\n",
            "47    12876.0        542\n",
            "48    14930.0        542\n",
            "49    14298.0        541\n",
            "\n",
            "Top 50 TransactionNo dengan Frekuensi Tertinggi:\n",
            "   TransactionNo  Frekuensi\n",
            "0         573585        912\n",
            "1         558475        625\n",
            "2         537434        563\n",
            "3         538071        555\n",
            "4         537638        523\n",
            "5         538349        522\n",
            "6         576617        520\n",
            "7         576837        511\n",
            "8         537237        509\n",
            "9         537823        499\n",
            "10        536876        499\n",
            "11        577078        497\n",
            "12        536592        489\n",
            "13        577358        489\n",
            "14        576618        482\n",
            "15        537240        479\n",
            "16        575930        472\n",
            "17        576840        469\n",
            "18        537666        464\n",
            "19        575176        459\n",
            "20        540551        459\n",
            "21        577768        459\n",
            "22        576339        458\n",
            "23        575477        451\n",
            "24        539958        451\n",
            "25        576329        445\n",
            "26        536544        444\n",
            "27        559055        444\n",
            "28        538177        443\n",
            "29        578065        440\n",
            "30        578067        440\n",
            "31        575875        439\n",
            "32        539437        426\n",
            "33        538524        420\n",
            "34        575739        420\n",
            "35        559052        419\n",
            "36        540848        417\n",
            "37        541421        414\n",
            "38        560772        403\n",
            "39        560434        400\n",
            "40        541827        391\n",
            "41        538566        388\n",
            "42        539453        386\n",
            "43        560926        386\n",
            "44        573576        384\n",
            "45        539434        382\n",
            "46        574298        378\n",
            "47        559816        376\n",
            "48        541592        375\n",
            "49        574950        374\n",
            "\n",
            "Top 8 Negara dengan Transaksi Terbanyak:\n",
            "          Country  Frekuensi  Persentase\n",
            "0  United Kingdom     348042   91.279889\n",
            "1         Germany       7615    1.997162\n",
            "2          France       7206    1.889895\n",
            "3            EIRE       5043    1.322612\n",
            "4         Belgium       1835    0.481260\n",
            "5           Spain       1728    0.453197\n",
            "6     Switzerland       1600    0.419627\n",
            "7        Portugal       1349    0.353798\n"
          ]
        }
      ],
      "execution_count": 37
    },
    {
      "cell_type": "markdown",
      "source": [
        "1. Top 50 Produk Paling Sering Dibeli\n",
        "Frekuensi Tinggi pada Produk Tertentu:\n",
        "Produk seperti Cream Hanging Heart T-Light Holder muncul dengan frekuensi 1885, diikuti oleh Party Bunting (1281) dan Set Of 3 Cake Tins Pantry Design (1159). Ini menunjukkan bahwa ada beberapa produk yang sangat populer.\n",
        "\n",
        "Pola Produk:\n",
        "Dari daftar produk, tampak dominasi produk-produk dekoratif, peralatan dapur, dan produk kerajinan.\n",
        "\n",
        "Fitur Produk: Informasi frekuensi produk bisa dijadikan fitur (nanti akan dilakukan frequency encoding) untuk melihat apakah ada hubungan antara popularitas produk dan risiko pembatalan.\n",
        "\n",
        "2. Top 50 CustomerNo dengan Transaksi Terbanyak\n",
        "Pelanggan dengan Transaksi Tinggi:\n",
        "Pelanggan dengan nomor seperti 17841.0 (6243 transaksi) dan 14911.0 (3761 transaksi) menunjukkan adanya kelompok pelanggan yang sangat aktif.\n",
        "\n",
        "Fitur frekuensi transaksi pelanggan (melalui frequency encoding atau metrik agregat lain) dapat membantu model memahami pola perilaku pelanggan dan kemungkinan risiko pembatalan.\n",
        "Segmentasi pelanggan berdasarkan frekuensi transaksi dapat memberikan insight tambahan untuk strategi retensi atau intervensi sebelum pembatalan terjadi.\n",
        "\n",
        "3. Top 50 TransactionNo dengan Frekuensi Tertinggi\n",
        "Repetisi TransactionNo:\n",
        "Terlihat bahwa beberapa nomor transaksi muncul berkali-kali (misalnya, TransactionNo 573585 muncul 912 kali). Hal ini bisa menunjukkan bahwa:\n",
        "\n",
        "Satu transaksi mungkin memiliki beberapa entri (misalnya, satu transaksi dengan beberapa produk).\n",
        "Data transaksi dapat mengindikasikan besar kecilnya pesanan (jumlah item per transaksi).\n",
        "Implikasi untuk Pembatalan:\n",
        "\n",
        "Jika suatu transaksi terdiri dari banyak item, kegagalan dalam pemenuhan sebagian produk bisa berujung pada pembatalan keseluruhan.\n",
        "\n",
        "4. Top 8 Negara dengan Transaksi Terbanyak\n",
        "Dominasi Pasar UK:\n",
        "Dengan 91,28% transaksi berasal dari United Kingdom, data menunjukkan bahwa mayoritas aktivitas transaksi terjadi secara domestik.\n",
        "\n",
        "Distribusi Internasional:\n",
        "Negara-negara seperti Jerman, Prancis, dan EIRE masing-masing menyumbang kurang dari 2% transaksi, sementara negara lain seperti Belgium, Spain, Switzerland, dan Portugal memiliki volume yang sangat kecil.\n",
        "\n",
        "Kesimpulan dan Relevansi terhadap Problem Statement\n",
        "Insight dari Produk dan Pelanggan:\n",
        "Informasi univariate menunjukkan adanya variasi signifikan pada produk dan pelanggan. Dengan mengonversi data ini (misalnya melalui frequency encoding) menjadi fitur numerik, model dapat mengeksplorasi apakah produk dengan permintaan tinggi atau pelanggan dengan frekuensi tinggi memiliki kecenderungan pembatalan yang berbeda.\n",
        "\n",
        "Dominasi Geografis:\n",
        "Dengan mayoritas transaksi berasal dari UK, strategi prediksi pembatalan harus difokuskan pada karakteristik pasar domestik. Namun, analisis lebih lanjut bisa menguji apakah faktor geografis (misalnya, negara) memengaruhi pembatalan secara signifikan."
      ],
      "metadata": {
        "id": "FOs4-baLgM2X"
      }
    },
    {
      "cell_type": "markdown",
      "source": [
        "**Analisis Target Variable (Transaksi Dibatalkan)**"
      ],
      "metadata": {
        "id": "9Icue6GYVvpl"
      }
    },
    {
      "cell_type": "code",
      "source": [
        "df_no_outliers['IsCancelled'] = df_no_outliers['TransactionNo'].str.contains('C')\n",
        "print(\"Frekuensi Transaksi Dibatalkan (tanpa outlier):\")\n",
        "print(df_no_outliers['IsCancelled'].value_counts())\n"
      ],
      "metadata": {
        "colab": {
          "base_uri": "https://localhost:8080/"
        },
        "id": "cYQybxjDVu81",
        "outputId": "147d74b1-2149-4b35-9e6e-d42ef28c3e63",
        "trusted": true,
        "execution": {
          "iopub.status.busy": "2025-03-10T07:19:27.771976Z",
          "iopub.execute_input": "2025-03-10T07:19:27.772193Z",
          "iopub.status.idle": "2025-03-10T07:19:27.876428Z",
          "shell.execute_reply.started": "2025-03-10T07:19:27.772175Z",
          "shell.execute_reply": "2025-03-10T07:19:27.875616Z"
        }
      },
      "outputs": [
        {
          "output_type": "stream",
          "name": "stdout",
          "text": [
            "Frekuensi Transaksi Dibatalkan (tanpa outlier):\n",
            "IsCancelled\n",
            "False    375655\n",
            "True       5636\n",
            "Name: count, dtype: int64\n"
          ]
        },
        {
          "output_type": "stream",
          "name": "stderr",
          "text": [
            "<ipython-input-38-11063f0854ca>:1: SettingWithCopyWarning: \n",
            "A value is trying to be set on a copy of a slice from a DataFrame.\n",
            "Try using .loc[row_indexer,col_indexer] = value instead\n",
            "\n",
            "See the caveats in the documentation: https://pandas.pydata.org/pandas-docs/stable/user_guide/indexing.html#returning-a-view-versus-a-copy\n",
            "  df_no_outliers['IsCancelled'] = df_no_outliers['TransactionNo'].str.contains('C')\n"
          ]
        }
      ],
      "execution_count": 38
    },
    {
      "cell_type": "code",
      "source": [
        "plt.figure(figsize=(6, 4))\n",
        "sns.countplot(x=df_no_outliers['IsCancelled'], palette='muted')\n",
        "plt.title('Distribusi Transaksi: Dibatalkan vs Tidak Dibatalkan (tanpa outlier)')\n",
        "plt.xlabel('Transaksi Dibatalkan')\n",
        "plt.ylabel('Frekuensi')\n",
        "plt.show()\n"
      ],
      "metadata": {
        "colab": {
          "base_uri": "https://localhost:8080/",
          "height": 517
        },
        "id": "FJjPqxyWV7MM",
        "outputId": "e5bbeca4-4915-4d50-a317-fc1c5a5acc72",
        "trusted": true,
        "execution": {
          "iopub.status.busy": "2025-03-10T07:19:27.877209Z",
          "iopub.execute_input": "2025-03-10T07:19:27.877425Z",
          "iopub.status.idle": "2025-03-10T07:19:28.027264Z",
          "shell.execute_reply.started": "2025-03-10T07:19:27.877407Z",
          "shell.execute_reply": "2025-03-10T07:19:28.026323Z"
        }
      },
      "outputs": [
        {
          "output_type": "stream",
          "name": "stderr",
          "text": [
            "<ipython-input-39-cd718e1c760e>:2: FutureWarning: \n",
            "\n",
            "Passing `palette` without assigning `hue` is deprecated and will be removed in v0.14.0. Assign the `x` variable to `hue` and set `legend=False` for the same effect.\n",
            "\n",
            "  sns.countplot(x=df_no_outliers['IsCancelled'], palette='muted')\n"
          ]
        },
        {
          "output_type": "display_data",
          "data": {
            "text/plain": [
              "<Figure size 600x400 with 1 Axes>"
            ],
            "image/png": "[encoded data removed]"
          },
          "metadata": {}
        }
      ],
      "execution_count": 39
    },
    {
      "cell_type": "markdown",
      "source": [
        "## EDA - Multivariate Analysis"
      ],
      "metadata": {
        "id": "ghgEdx30jQ95"
      }
    },
    {
      "cell_type": "code",
      "source": [
        "df_no_outliers['IsCancelled'] = df_no_outliers['TransactionNo'].str.contains('C')\n"
      ],
      "metadata": {
        "id": "3C-iRHfNjRw_",
        "trusted": true,
        "execution": {
          "iopub.status.busy": "2025-03-10T07:19:28.028056Z",
          "iopub.execute_input": "2025-03-10T07:19:28.028286Z",
          "iopub.status.idle": "2025-03-10T07:19:28.121705Z",
          "shell.execute_reply.started": "2025-03-10T07:19:28.028267Z",
          "shell.execute_reply": "2025-03-10T07:19:28.120915Z"
        },
        "outputId": "b2cb56a6-fbf2-483e-af29-8b9c23becbb5",
        "colab": {
          "base_uri": "https://localhost:8080/"
        }
      },
      "outputs": [
        {
          "output_type": "stream",
          "name": "stderr",
          "text": [
            "<ipython-input-40-42c802e723bd>:1: SettingWithCopyWarning: \n",
            "A value is trying to be set on a copy of a slice from a DataFrame.\n",
            "Try using .loc[row_indexer,col_indexer] = value instead\n",
            "\n",
            "See the caveats in the documentation: https://pandas.pydata.org/pandas-docs/stable/user_guide/indexing.html#returning-a-view-versus-a-copy\n",
            "  df_no_outliers['IsCancelled'] = df_no_outliers['TransactionNo'].str.contains('C')\n"
          ]
        }
      ],
      "execution_count": 40
    },
    {
      "cell_type": "code",
      "source": [
        "import seaborn as sns\n",
        "import matplotlib.pyplot as plt\n",
        "\n",
        "numeric_cols = ['Price', 'Quantity']\n",
        "corr = df_no_outliers[numeric_cols].corr(method='pearson')\n",
        "\n",
        "plt.figure(figsize=(5, 4))\n",
        "sns.heatmap(corr, annot=True, cmap='Blues')\n",
        "plt.title('Heatmap Korelasi Fitur Numerik')\n",
        "plt.show()\n"
      ],
      "metadata": {
        "colab": {
          "base_uri": "https://localhost:8080/",
          "height": 391
        },
        "id": "nxgyyMIsjVms",
        "outputId": "dc1d645f-1879-4cba-ea2f-4f6a857d84e3",
        "trusted": true,
        "execution": {
          "iopub.status.busy": "2025-03-10T07:19:28.122645Z",
          "iopub.execute_input": "2025-03-10T07:19:28.122978Z",
          "iopub.status.idle": "2025-03-10T07:19:28.298159Z",
          "shell.execute_reply.started": "2025-03-10T07:19:28.122925Z",
          "shell.execute_reply": "2025-03-10T07:19:28.297039Z"
        }
      },
      "outputs": [
        {
          "output_type": "display_data",
          "data": {
            "text/plain": [
              "<Figure size 500x400 with 2 Axes>"
            ],
            "image/png": "[encoded data removed]"
          },
          "metadata": {}
        }
      ],
      "execution_count": 41
    },
    {
      "cell_type": "markdown",
      "source": [
        "Berdasarkan heatmap korelasi di atas, korelasi lemah antara Price dan Quantity menandakan keduanya tidak secara linear saling memengaruhi. Untuk memprediksi pembatalan transaksi, maka selanjutnya memerlukan fitur tambahan agar model dapat mempelajari pola yang lebih komprehensif dan relevan dengan pembatalan."
      ],
      "metadata": {
        "id": "hnTOEi1XkRM5"
      }
    },
    {
      "cell_type": "code",
      "source": [
        "sns.pairplot(df_no_outliers[['Price', 'Quantity', 'IsCancelled']],\n",
        "             hue='IsCancelled',\n",
        "             diag_kind='kde',\n",
        "             palette='Set2')\n",
        "plt.show()\n"
      ],
      "metadata": {
        "colab": {
          "base_uri": "https://localhost:8080/",
          "height": 513
        },
        "id": "Dv3raKYJkTqg",
        "outputId": "64cd86fd-de21-47c8-911a-a1d456d0a5b5",
        "trusted": true,
        "execution": {
          "iopub.status.busy": "2025-03-10T07:19:28.299008Z",
          "iopub.execute_input": "2025-03-10T07:19:28.299273Z",
          "iopub.status.idle": "2025-03-10T07:20:07.887253Z",
          "shell.execute_reply.started": "2025-03-10T07:19:28.299239Z",
          "shell.execute_reply": "2025-03-10T07:20:07.886342Z"
        }
      },
      "outputs": [
        {
          "output_type": "display_data",
          "data": {
            "text/plain": [
              "<Figure size 590.611x500 with 6 Axes>"
            ],
            "image/png": "[encoded data removed]"
          },
          "metadata": {}
        }
      ],
      "execution_count": 42
    },
    {
      "cell_type": "markdown",
      "source": [
        "1. Distribusi Price dan Quantity\n",
        "\n",
        "- Price: Distribusinya cenderung terkonsentrasi di kisaran 3–5, dengan sedikit transaksi di atas 10. Dari segi warna (IsCancelled), tidak tampak perbedaan mencolok antara transaksi dibatalkan (oranye) dan tidak dibatalkan (hijau). Ini menunjukkan bahwa harga tidak secara langsung membedakan transaksi yang dibatalkan vs. tidak.\n",
        "\n",
        "- Quantity: Terdapat dua kluster utama:\n",
        "Quantity positif (hijau) untuk transaksi yang berjalan normal.\n",
        "Quantity negatif (oranye) yang sangat terkait dengan transaksi dibatalkan. Nilai negatif umumnya menandakan retur atau koreksi stok setelah pembatalan.\n",
        "\n",
        "2. Hubungan Price vs. Quantity\n",
        "\n",
        "- Tidak Ada Pola Linear Kuat: Plot sebar (scatter plot) tidak memperlihatkan hubungan linear yang jelas antara Price dan Quantity. Hal ini sejalan dengan korelasi Pearson yang rendah.\n",
        "\n",
        "- Cluster Negatif Quantity = IsCancelled: Hampir semua titik oranye (IsCancelled = True) berada di area Quantity < 0, mengindikasikan bahwa data Quantity negatif berperan sebagai penanda kuat adanya pembatalan (atau retur)."
      ],
      "metadata": {
        "id": "T4SMvsyvlkcJ"
      }
    },
    {
      "cell_type": "markdown",
      "source": [
        "# D. Data Preparation"
      ],
      "metadata": {
        "id": "NJX64Rsrr7HY"
      }
    },
    {
      "cell_type": "markdown",
      "source": [
        "## Menyiapkan data sebelum Modelling"
      ],
      "metadata": {
        "id": "TmAWNri1OG8n"
      }
    },
    {
      "cell_type": "markdown",
      "source": [
        "## **a. Membuat Label Pembatalan**"
      ],
      "metadata": {
        "id": "eo6JKDMWsAWG"
      }
    },
    {
      "cell_type": "code",
      "source": [
        "# Label True jika TransactionNo mengandung 'C' atau Quantity negatif\n",
        "df_no_outliers['IsCancelled'] = df_no_outliers.apply(\n",
        "    lambda row: True if ('C' in row['TransactionNo'] or row['Quantity'] < 0) else False,\n",
        "    axis=1\n",
        ")"
      ],
      "metadata": {
        "id": "nHQWB5ewsQpX",
        "trusted": true,
        "execution": {
          "iopub.status.busy": "2025-03-10T07:20:07.888208Z",
          "iopub.execute_input": "2025-03-10T07:20:07.888533Z",
          "iopub.status.idle": "2025-03-10T07:20:11.298285Z",
          "shell.execute_reply.started": "2025-03-10T07:20:07.888500Z",
          "shell.execute_reply": "2025-03-10T07:20:11.297312Z"
        },
        "outputId": "89b8c0a4-cfab-4392-da70-271fb34be7ad",
        "colab": {
          "base_uri": "https://localhost:8080/"
        }
      },
      "outputs": [
        {
          "output_type": "stream",
          "name": "stderr",
          "text": [
            "<ipython-input-43-912b189697ed>:2: SettingWithCopyWarning: \n",
            "A value is trying to be set on a copy of a slice from a DataFrame.\n",
            "Try using .loc[row_indexer,col_indexer] = value instead\n",
            "\n",
            "See the caveats in the documentation: https://pandas.pydata.org/pandas-docs/stable/user_guide/indexing.html#returning-a-view-versus-a-copy\n",
            "  df_no_outliers['IsCancelled'] = df_no_outliers.apply(\n"
          ]
        }
      ],
      "execution_count": 43
    },
    {
      "cell_type": "markdown",
      "source": [
        "## **b. Ekstraksi Fitur dari Kolom Date**"
      ],
      "metadata": {
        "id": "9OMNYRFBsmpA"
      }
    },
    {
      "cell_type": "code",
      "source": [
        "df_no_outliers['Month'] = df_no_outliers['Date'].dt.month\n",
        "df_no_outliers['Day'] = df_no_outliers['Date'].dt.day\n",
        "df_no_outliers['Weekday'] = df_no_outliers['Date'].dt.weekday  # 0: Senin, 6: Minggu"
      ],
      "metadata": {
        "id": "P7NO6dMLssBO",
        "trusted": true,
        "execution": {
          "iopub.status.busy": "2025-03-10T07:20:11.299283Z",
          "iopub.execute_input": "2025-03-10T07:20:11.299618Z",
          "iopub.status.idle": "2025-03-10T07:20:11.336058Z",
          "shell.execute_reply.started": "2025-03-10T07:20:11.299583Z",
          "shell.execute_reply": "2025-03-10T07:20:11.335276Z"
        },
        "outputId": "2aeee3ee-96a7-4042-a23f-5ccb6779e660",
        "colab": {
          "base_uri": "https://localhost:8080/"
        }
      },
      "outputs": [
        {
          "output_type": "stream",
          "name": "stderr",
          "text": [
            "<ipython-input-44-6eca10f642eb>:1: SettingWithCopyWarning: \n",
            "A value is trying to be set on a copy of a slice from a DataFrame.\n",
            "Try using .loc[row_indexer,col_indexer] = value instead\n",
            "\n",
            "See the caveats in the documentation: https://pandas.pydata.org/pandas-docs/stable/user_guide/indexing.html#returning-a-view-versus-a-copy\n",
            "  df_no_outliers['Month'] = df_no_outliers['Date'].dt.month\n",
            "<ipython-input-44-6eca10f642eb>:2: SettingWithCopyWarning: \n",
            "A value is trying to be set on a copy of a slice from a DataFrame.\n",
            "Try using .loc[row_indexer,col_indexer] = value instead\n",
            "\n",
            "See the caveats in the documentation: https://pandas.pydata.org/pandas-docs/stable/user_guide/indexing.html#returning-a-view-versus-a-copy\n",
            "  df_no_outliers['Day'] = df_no_outliers['Date'].dt.day\n",
            "<ipython-input-44-6eca10f642eb>:3: SettingWithCopyWarning: \n",
            "A value is trying to be set on a copy of a slice from a DataFrame.\n",
            "Try using .loc[row_indexer,col_indexer] = value instead\n",
            "\n",
            "See the caveats in the documentation: https://pandas.pydata.org/pandas-docs/stable/user_guide/indexing.html#returning-a-view-versus-a-copy\n",
            "  df_no_outliers['Weekday'] = df_no_outliers['Date'].dt.weekday  # 0: Senin, 6: Minggu\n"
          ]
        }
      ],
      "execution_count": 44
    },
    {
      "cell_type": "markdown",
      "source": [
        "## **c. Fitur Tambahan**\n",
        "Membuat fitur 'HighPrice' untuk menandai produk dengan harga di atas median"
      ],
      "metadata": {
        "id": "MpCX6Abys6KS"
      }
    },
    {
      "cell_type": "code",
      "source": [
        "median_price = df_no_outliers['Price'].median()\n",
        "df_no_outliers['HighPrice'] = df_no_outliers['Price'] > median_price"
      ],
      "metadata": {
        "id": "t__yoVpKsbX4",
        "trusted": true,
        "execution": {
          "iopub.status.busy": "2025-03-10T07:20:11.336846Z",
          "iopub.execute_input": "2025-03-10T07:20:11.337121Z",
          "iopub.status.idle": "2025-03-10T07:20:11.347497Z",
          "shell.execute_reply.started": "2025-03-10T07:20:11.337086Z",
          "shell.execute_reply": "2025-03-10T07:20:11.346710Z"
        },
        "outputId": "31cebbb1-6ac5-4114-da1d-7140f56f4802",
        "colab": {
          "base_uri": "https://localhost:8080/"
        }
      },
      "outputs": [
        {
          "output_type": "stream",
          "name": "stderr",
          "text": [
            "<ipython-input-45-391ed765ff9a>:2: SettingWithCopyWarning: \n",
            "A value is trying to be set on a copy of a slice from a DataFrame.\n",
            "Try using .loc[row_indexer,col_indexer] = value instead\n",
            "\n",
            "See the caveats in the documentation: https://pandas.pydata.org/pandas-docs/stable/user_guide/indexing.html#returning-a-view-versus-a-copy\n",
            "  df_no_outliers['HighPrice'] = df_no_outliers['Price'] > median_price\n"
          ]
        }
      ],
      "execution_count": 45
    },
    {
      "cell_type": "markdown",
      "source": [
        "d. Encoding Kategorik Fitur"
      ],
      "metadata": {
        "id": "e1fP56-ovll0"
      }
    },
    {
      "cell_type": "code",
      "source": [
        "# Ubah kolom-kolom identifier dan kategorikal menjadi string\n",
        "df_no_outliers['CustomerNo'] = df_no_outliers['CustomerNo'].astype(str)\n",
        "df_no_outliers['TransactionNo'] = df_no_outliers['TransactionNo'].astype(str)\n",
        "df_no_outliers['ProductNo'] = df_no_outliers['ProductNo'].astype(str)\n",
        "df_no_outliers['Country'] = df_no_outliers['Country'].astype(str)\n",
        "\n",
        "#frequency encoding untuk ProductName, CustomerNo, ProductNo, dan Country\n",
        "df_no_outliers['ProductName_freq'] = df_no_outliers['ProductName'].map(df_no_outliers['ProductName'].value_counts())\n",
        "df_no_outliers['CustomerNo_freq'] = df_no_outliers['CustomerNo'].map(df_no_outliers['CustomerNo'].value_counts())\n",
        "df_no_outliers['ProductNo_freq'] = df_no_outliers['ProductNo'].map(df_no_outliers['ProductNo'].value_counts())\n",
        "df_no_outliers['Country_freq'] = df_no_outliers['Country'].map(df_no_outliers['Country'].value_counts())\n",
        "\n",
        "#hapus kolom yang masih berbentuk string, karena informasi kategorikal sudah direpresentasikan melalui frequency encoding\n",
        "df_prepared = df_no_outliers.drop(['ProductName', 'CustomerNo', 'TransactionNo', 'ProductNo', 'Country'], axis=1)"
      ],
      "metadata": {
        "id": "WTlZSQnovsh9",
        "trusted": true,
        "execution": {
          "iopub.status.busy": "2025-03-10T07:20:11.348430Z",
          "iopub.execute_input": "2025-03-10T07:20:11.348651Z",
          "iopub.status.idle": "2025-03-10T07:20:11.473258Z",
          "shell.execute_reply.started": "2025-03-10T07:20:11.348633Z",
          "shell.execute_reply": "2025-03-10T07:20:11.472287Z"
        },
        "outputId": "1e4021cd-1445-4467-a276-3b01e17ba159",
        "colab": {
          "base_uri": "https://localhost:8080/"
        }
      },
      "outputs": [
        {
          "output_type": "stream",
          "name": "stderr",
          "text": [
            "<ipython-input-46-e40199bb8e35>:2: SettingWithCopyWarning: \n",
            "A value is trying to be set on a copy of a slice from a DataFrame.\n",
            "Try using .loc[row_indexer,col_indexer] = value instead\n",
            "\n",
            "See the caveats in the documentation: https://pandas.pydata.org/pandas-docs/stable/user_guide/indexing.html#returning-a-view-versus-a-copy\n",
            "  df_no_outliers['CustomerNo'] = df_no_outliers['CustomerNo'].astype(str)\n",
            "<ipython-input-46-e40199bb8e35>:3: SettingWithCopyWarning: \n",
            "A value is trying to be set on a copy of a slice from a DataFrame.\n",
            "Try using .loc[row_indexer,col_indexer] = value instead\n",
            "\n",
            "See the caveats in the documentation: https://pandas.pydata.org/pandas-docs/stable/user_guide/indexing.html#returning-a-view-versus-a-copy\n",
            "  df_no_outliers['TransactionNo'] = df_no_outliers['TransactionNo'].astype(str)\n",
            "<ipython-input-46-e40199bb8e35>:4: SettingWithCopyWarning: \n",
            "A value is trying to be set on a copy of a slice from a DataFrame.\n",
            "Try using .loc[row_indexer,col_indexer] = value instead\n",
            "\n",
            "See the caveats in the documentation: https://pandas.pydata.org/pandas-docs/stable/user_guide/indexing.html#returning-a-view-versus-a-copy\n",
            "  df_no_outliers['ProductNo'] = df_no_outliers['ProductNo'].astype(str)\n",
            "<ipython-input-46-e40199bb8e35>:5: SettingWithCopyWarning: \n",
            "A value is trying to be set on a copy of a slice from a DataFrame.\n",
            "Try using .loc[row_indexer,col_indexer] = value instead\n",
            "\n",
            "See the caveats in the documentation: https://pandas.pydata.org/pandas-docs/stable/user_guide/indexing.html#returning-a-view-versus-a-copy\n",
            "  df_no_outliers['Country'] = df_no_outliers['Country'].astype(str)\n",
            "<ipython-input-46-e40199bb8e35>:8: SettingWithCopyWarning: \n",
            "A value is trying to be set on a copy of a slice from a DataFrame.\n",
            "Try using .loc[row_indexer,col_indexer] = value instead\n",
            "\n",
            "See the caveats in the documentation: https://pandas.pydata.org/pandas-docs/stable/user_guide/indexing.html#returning-a-view-versus-a-copy\n",
            "  df_no_outliers['ProductName_freq'] = df_no_outliers['ProductName'].map(df_no_outliers['ProductName'].value_counts())\n",
            "<ipython-input-46-e40199bb8e35>:9: SettingWithCopyWarning: \n",
            "A value is trying to be set on a copy of a slice from a DataFrame.\n",
            "Try using .loc[row_indexer,col_indexer] = value instead\n",
            "\n",
            "See the caveats in the documentation: https://pandas.pydata.org/pandas-docs/stable/user_guide/indexing.html#returning-a-view-versus-a-copy\n",
            "  df_no_outliers['CustomerNo_freq'] = df_no_outliers['CustomerNo'].map(df_no_outliers['CustomerNo'].value_counts())\n",
            "<ipython-input-46-e40199bb8e35>:10: SettingWithCopyWarning: \n",
            "A value is trying to be set on a copy of a slice from a DataFrame.\n",
            "Try using .loc[row_indexer,col_indexer] = value instead\n",
            "\n",
            "See the caveats in the documentation: https://pandas.pydata.org/pandas-docs/stable/user_guide/indexing.html#returning-a-view-versus-a-copy\n",
            "  df_no_outliers['ProductNo_freq'] = df_no_outliers['ProductNo'].map(df_no_outliers['ProductNo'].value_counts())\n",
            "<ipython-input-46-e40199bb8e35>:11: SettingWithCopyWarning: \n",
            "A value is trying to be set on a copy of a slice from a DataFrame.\n",
            "Try using .loc[row_indexer,col_indexer] = value instead\n",
            "\n",
            "See the caveats in the documentation: https://pandas.pydata.org/pandas-docs/stable/user_guide/indexing.html#returning-a-view-versus-a-copy\n",
            "  df_no_outliers['Country_freq'] = df_no_outliers['Country'].map(df_no_outliers['Country'].value_counts())\n"
          ]
        }
      ],
      "execution_count": 46
    },
    {
      "cell_type": "markdown",
      "source": [
        "## **e. scaling fitur numerik**"
      ],
      "metadata": {
        "id": "eIFORDRbwro_"
      }
    },
    {
      "cell_type": "code",
      "source": [
        "from sklearn.preprocessing import StandardScaler\n",
        "\n",
        "# Pilih fitur numerik yang akan diskalakan\n",
        "numeric_features = ['Price', 'HighPrice', 'Quantity', 'Month', 'Day', 'Weekday',\n",
        "                    'ProductName_freq', 'CustomerNo_freq', 'ProductNo_freq', 'Country_freq']\n",
        "scaler = StandardScaler()\n",
        "df_prepared[numeric_features] = scaler.fit_transform(df_prepared[numeric_features])\n"
      ],
      "metadata": {
        "id": "lc_6k3LCwLMp",
        "trusted": true,
        "execution": {
          "iopub.status.busy": "2025-03-10T07:20:11.473898Z",
          "iopub.execute_input": "2025-03-10T07:20:11.474134Z",
          "iopub.status.idle": "2025-03-10T07:20:11.637284Z",
          "shell.execute_reply.started": "2025-03-10T07:20:11.474114Z",
          "shell.execute_reply": "2025-03-10T07:20:11.636513Z"
        }
      },
      "outputs": [],
      "execution_count": 47
    },
    {
      "cell_type": "markdown",
      "source": [
        "## **f. split data**"
      ],
      "metadata": {
        "id": "A1gocTrSw49U"
      }
    },
    {
      "cell_type": "code",
      "source": [
        "from sklearn.model_selection import train_test_split\n",
        "# Hapus juga kolom 'Date' karena informasi waktu sudah diekstraksi\n",
        "X = df_prepared.drop(['IsCancelled', 'Date'], axis=1)\n",
        "y = df_prepared['IsCancelled']\n",
        "\n",
        "X_train, X_test, y_train, y_test = train_test_split(\n",
        "    X, y, test_size=0.2, stratify=y, random_state=42\n",
        ")\n",
        "\n",
        "print(\"Dimensi Training Set:\", X_train.shape)\n",
        "print(\"Dimensi Testing Set:\", X_test.shape)"
      ],
      "metadata": {
        "colab": {
          "base_uri": "https://localhost:8080/"
        },
        "id": "M3sXWiaiw9lj",
        "outputId": "2fa8a7d0-7a9a-437c-f2a0-07406707e2e4",
        "trusted": true,
        "execution": {
          "iopub.status.busy": "2025-03-10T07:57:41.983013Z",
          "iopub.execute_input": "2025-03-10T07:57:41.983433Z",
          "iopub.status.idle": "2025-03-10T07:57:42.146070Z",
          "shell.execute_reply.started": "2025-03-10T07:57:41.983408Z",
          "shell.execute_reply": "2025-03-10T07:57:42.145286Z"
        }
      },
      "outputs": [
        {
          "output_type": "stream",
          "name": "stdout",
          "text": [
            "Dimensi Training Set: (305032, 11)\n",
            "Dimensi Testing Set: (76259, 11)\n"
          ]
        }
      ],
      "execution_count": 50
    },
    {
      "cell_type": "markdown",
      "source": [
        "## SMOTE & Undersample untuk mengatasi keseimbangan data"
      ],
      "metadata": {
        "id": "5jC1TniwOG8o"
      }
    },
    {
      "cell_type": "code",
      "source": [
        "import pandas as pd\n",
        "from sklearn.preprocessing import StandardScaler\n",
        "from sklearn.model_selection import train_test_split\n",
        "from imblearn.over_sampling import SMOTE\n",
        "\n",
        "# Penanganan Imbalanced Data dengan SMOTE\n",
        "smote = SMOTE(random_state=42)\n",
        "X_train_res, y_train_res = smote.fit_resample(X_train, y_train)\n",
        "\n",
        "print(\"Distribusi kelas setelah SMOTE:\")\n",
        "print(y_train_res.value_counts())\n"
      ],
      "metadata": {
        "trusted": true,
        "execution": {
          "iopub.status.busy": "2025-03-10T07:27:56.238768Z",
          "iopub.execute_input": "2025-03-10T07:27:56.239143Z",
          "iopub.status.idle": "2025-03-10T07:28:00.572705Z",
          "shell.execute_reply.started": "2025-03-10T07:27:56.239116Z",
          "shell.execute_reply": "2025-03-10T07:28:00.571781Z"
        },
        "id": "V5lpbWObOG8p",
        "outputId": "85165d8c-3919-4415-e2e3-3adeba9b3a6a",
        "colab": {
          "base_uri": "https://localhost:8080/"
        }
      },
      "outputs": [
        {
          "output_type": "stream",
          "name": "stdout",
          "text": [
            "Distribusi kelas setelah SMOTE:\n",
            "IsCancelled\n",
            "False    300523\n",
            "True     300523\n",
            "Name: count, dtype: int64\n"
          ]
        }
      ],
      "execution_count": 51
    },
    {
      "cell_type": "code",
      "source": [
        "from imblearn.under_sampling import RandomUnderSampler\n",
        "from sklearn.ensemble import RandomForestClassifier\n",
        "from sklearn.metrics import classification_report, confusion_matrix, accuracy_score\n",
        "\n",
        "# Inisialisasi RandomUnderSampler\n",
        "rus = RandomUnderSampler(random_state=42)\n",
        "\n",
        "# Lakukan undersampling pada data training\n",
        "X_train_rus, y_train_rus = rus.fit_resample(X_train, y_train)\n",
        "\n",
        "print(\"Distribusi kelas setelah Random Undersampling:\")\n",
        "print(y_train_rus.value_counts())"
      ],
      "metadata": {
        "trusted": true,
        "execution": {
          "iopub.status.busy": "2025-03-10T08:04:37.370331Z",
          "iopub.execute_input": "2025-03-10T08:04:37.370747Z",
          "iopub.status.idle": "2025-03-10T08:04:37.437006Z",
          "shell.execute_reply.started": "2025-03-10T08:04:37.370721Z",
          "shell.execute_reply": "2025-03-10T08:04:37.436271Z"
        },
        "id": "GzxUE71pOG8p",
        "outputId": "981b6e7e-b965-4256-c6d7-fb9ec82310f6",
        "colab": {
          "base_uri": "https://localhost:8080/"
        }
      },
      "outputs": [
        {
          "output_type": "stream",
          "name": "stdout",
          "text": [
            "Distribusi kelas setelah Random Undersampling:\n",
            "IsCancelled\n",
            "False    4509\n",
            "True     4509\n",
            "Name: count, dtype: int64\n"
          ]
        }
      ],
      "execution_count": 52
    },
    {
      "cell_type": "markdown",
      "source": [
        "# E. Model Development\n",
        "* LogisticRegression\n",
        "* RandomForestClassifier\n",
        "* DecisionTreeClassifier"
      ],
      "metadata": {
        "id": "X2eFXBE-OG8p"
      }
    },
    {
      "cell_type": "markdown",
      "source": [
        "## LogisticRegression setelah dilakukan SMOTE"
      ],
      "metadata": {
        "id": "wUSazz-jOG8p"
      }
    },
    {
      "cell_type": "code",
      "source": [
        "# Import library model development dan evaluasi\n",
        "from sklearn.linear_model import LogisticRegression\n",
        "from sklearn.ensemble import RandomForestClassifier\n",
        "from sklearn.tree import DecisionTreeClassifier\n",
        "from sklearn.metrics import classification_report, confusion_matrix, accuracy_score\n",
        "\n",
        "# 1. Logistic Regression\n",
        "lr = LogisticRegression(max_iter=1000, random_state=42)\n",
        "lr.fit(X_train_res, y_train_res)\n",
        "y_pred_lr = lr.predict(X_test)\n",
        "\n",
        "print(\"### Logistic Regression ###\")\n",
        "print(classification_report(y_test, y_pred_lr))"
      ],
      "metadata": {
        "trusted": true,
        "execution": {
          "iopub.status.busy": "2025-03-10T08:06:27.460619Z",
          "iopub.execute_input": "2025-03-10T08:06:27.460924Z",
          "iopub.status.idle": "2025-03-10T08:06:27.716361Z",
          "shell.execute_reply.started": "2025-03-10T08:06:27.460901Z",
          "shell.execute_reply": "2025-03-10T08:06:27.715528Z"
        },
        "id": "xWusIJBrOG8p",
        "outputId": "bb608a29-7e87-46d8-d689-ddde1ece159d",
        "colab": {
          "base_uri": "https://localhost:8080/"
        }
      },
      "outputs": [
        {
          "output_type": "stream",
          "name": "stdout",
          "text": [
            "### Logistic Regression ###\n",
            "              precision    recall  f1-score   support\n",
            "\n",
            "       False       1.00      1.00      1.00     75132\n",
            "        True       1.00      1.00      1.00      1127\n",
            "\n",
            "    accuracy                           1.00     76259\n",
            "   macro avg       1.00      1.00      1.00     76259\n",
            "weighted avg       1.00      1.00      1.00     76259\n",
            "\n"
          ]
        }
      ],
      "execution_count": 53
    },
    {
      "cell_type": "markdown",
      "source": [
        "Logistic Regression dalam konfigurasi ini berhasil  memprediksi transaksi yang dibatalkan."
      ],
      "metadata": {
        "id": "vTNSTUmFVXS8"
      }
    },
    {
      "cell_type": "markdown",
      "source": [
        "## RandomForestClassifier setelah dilakukan SMOTE"
      ],
      "metadata": {
        "id": "1qrX-YmROG8p"
      }
    },
    {
      "cell_type": "code",
      "source": [
        "# 2. Random Forest Classifier\n",
        "rf = RandomForestClassifier(n_estimators=100, random_state=42)\n",
        "rf.fit(X_train_res, y_train_res)\n",
        "y_pred_rf = rf.predict(X_test)\n",
        "\n",
        "print(\"### Random Forest Classifier ###\")\n",
        "print(classification_report(y_test, y_pred_rf))"
      ],
      "metadata": {
        "trusted": true,
        "execution": {
          "iopub.status.busy": "2025-03-10T08:07:44.386755Z",
          "iopub.execute_input": "2025-03-10T08:07:44.387186Z",
          "iopub.status.idle": "2025-03-10T08:08:15.242230Z",
          "shell.execute_reply.started": "2025-03-10T08:07:44.387152Z",
          "shell.execute_reply": "2025-03-10T08:08:15.241428Z"
        },
        "id": "eOE0UqnHOG8p",
        "outputId": "f9b5c11a-5890-4eb9-ba7d-36dadde7b113",
        "colab": {
          "base_uri": "https://localhost:8080/"
        }
      },
      "outputs": [
        {
          "output_type": "stream",
          "name": "stdout",
          "text": [
            "### Random Forest Classifier ###\n",
            "              precision    recall  f1-score   support\n",
            "\n",
            "       False       1.00      1.00      1.00     75132\n",
            "        True       1.00      1.00      1.00      1127\n",
            "\n",
            "    accuracy                           1.00     76259\n",
            "   macro avg       1.00      1.00      1.00     76259\n",
            "weighted avg       1.00      1.00      1.00     76259\n",
            "\n"
          ]
        }
      ],
      "execution_count": 54
    },
    {
      "cell_type": "markdown",
      "source": [
        "Model Random Forest Classifier menyelesaikan problem statement dengan sangat baik pada dataset ini, dengan performa 100% pada metrik evaluasi di data testing."
      ],
      "metadata": {
        "id": "SiYP50qTWI5o"
      }
    },
    {
      "cell_type": "markdown",
      "source": [
        "## DecisionTreeClassifier setelah dilakukan SMOTE"
      ],
      "metadata": {
        "id": "eqwdsm2KOG8p"
      }
    },
    {
      "cell_type": "code",
      "source": [
        "# 3. Decision Tree Classifier\n",
        "dt = DecisionTreeClassifier(random_state=42)\n",
        "dt.fit(X_train_res, y_train_res)\n",
        "y_pred_dt = dt.predict(X_test)\n",
        "\n",
        "print(\"### Decision Tree Classifier ###\")\n",
        "print(classification_report(y_test, y_pred_dt))"
      ],
      "metadata": {
        "trusted": true,
        "execution": {
          "iopub.status.busy": "2025-03-10T08:09:05.026682Z",
          "iopub.execute_input": "2025-03-10T08:09:05.027045Z",
          "iopub.status.idle": "2025-03-10T08:09:05.557213Z",
          "shell.execute_reply.started": "2025-03-10T08:09:05.027018Z",
          "shell.execute_reply": "2025-03-10T08:09:05.556476Z"
        },
        "id": "RBqUlYSBOG8p",
        "outputId": "031689f8-defd-4400-d9c9-53f4192f02b0",
        "colab": {
          "base_uri": "https://localhost:8080/"
        }
      },
      "outputs": [
        {
          "output_type": "stream",
          "name": "stdout",
          "text": [
            "### Decision Tree Classifier ###\n",
            "              precision    recall  f1-score   support\n",
            "\n",
            "       False       1.00      1.00      1.00     75132\n",
            "        True       1.00      1.00      1.00      1127\n",
            "\n",
            "    accuracy                           1.00     76259\n",
            "   macro avg       1.00      1.00      1.00     76259\n",
            "weighted avg       1.00      1.00      1.00     76259\n",
            "\n"
          ]
        }
      ],
      "execution_count": 55
    },
    {
      "cell_type": "markdown",
      "source": [
        "Model Decision Tree Classifier, berdasarkan hasil yang ditunjukkan, telah berhasil mengklasifikasikan transaksi dengan benar (baik yang dibatalkan maupun tidak) pada data testing."
      ],
      "metadata": {
        "id": "16gQmiNiWvJa"
      }
    },
    {
      "cell_type": "markdown",
      "source": [
        "## Random Sample setelah dilakukan Undersample"
      ],
      "metadata": {
        "id": "YzBx6d2WOG8q"
      }
    },
    {
      "cell_type": "code",
      "source": [
        "\n",
        "#Random Forest\n",
        "rf_undersample = RandomForestClassifier(random_state=42)\n",
        "rf_undersample.fit(X_train_rus, y_train_rus)\n",
        "\n",
        "# Prediksi pada data testing\n",
        "y_pred_undersample = rf_undersample.predict(X_test)\n",
        "\n",
        "print(\"###Random Forest dengan Undersampling ###\")\n",
        "print(classification_report(y_test, y_pred_undersample))\n"
      ],
      "metadata": {
        "trusted": true,
        "execution": {
          "iopub.status.busy": "2025-03-10T08:15:24.018938Z",
          "iopub.execute_input": "2025-03-10T08:15:24.019307Z",
          "iopub.status.idle": "2025-03-10T08:15:24.956566Z",
          "shell.execute_reply.started": "2025-03-10T08:15:24.019282Z",
          "shell.execute_reply": "2025-03-10T08:15:24.955624Z"
        },
        "id": "-7eDmfjnOG8q",
        "outputId": "6ce98164-2fd4-444c-cefe-5af6ee27e46f",
        "colab": {
          "base_uri": "https://localhost:8080/"
        }
      },
      "outputs": [
        {
          "output_type": "stream",
          "name": "stdout",
          "text": [
            "###Random Forest dengan Undersampling ###\n",
            "              precision    recall  f1-score   support\n",
            "\n",
            "       False       1.00      1.00      1.00     75132\n",
            "        True       1.00      1.00      1.00      1127\n",
            "\n",
            "    accuracy                           1.00     76259\n",
            "   macro avg       1.00      1.00      1.00     76259\n",
            "weighted avg       1.00      1.00      1.00     76259\n",
            "\n"
          ]
        }
      ],
      "execution_count": 56
    },
    {
      "cell_type": "markdown",
      "source": [
        "Model Random Forest dengan undersampling sangat efektif dalam menyelesaikan problem statement prediksi pembatalan transaksi pada dataset ini."
      ],
      "metadata": {
        "id": "RVEox5g5Ws1g"
      }
    },
    {
      "cell_type": "markdown",
      "source": [
        "# F. Evaluasi Model"
      ],
      "metadata": {
        "id": "yjVAyXgHOG8q"
      }
    },
    {
      "cell_type": "markdown",
      "source": [
        "## SMOTE menggunakan LogisticRegression, RandomForestClassifier, dan DecisionTreeClassifier"
      ],
      "metadata": {
        "id": "XAuDpkaZOG8q"
      }
    },
    {
      "cell_type": "code",
      "source": [
        "import matplotlib.pyplot as plt\n",
        "from sklearn.metrics import classification_report, confusion_matrix, accuracy_score, roc_curve, roc_auc_score\n",
        "\n",
        "# Evaluasi untuk Logistic Regression\n",
        "print(\"### Evaluasi Logistic Regression ###\")\n",
        "print(classification_report(y_test, y_pred_lr))\n",
        "print(\"Confusion Matrix:\")\n",
        "print(confusion_matrix(y_test, y_pred_lr))\n",
        "print(\"Accuracy:\", accuracy_score(y_test, y_pred_lr))\n",
        "\n",
        "# Jika model mendukung predict_proba, kita hitung ROC-AUC\n",
        "if hasattr(lr, \"predict_proba\"):\n",
        "    y_proba_lr = lr.predict_proba(X_test)[:, 1]\n",
        "    auc_lr = roc_auc_score(y_test, y_proba_lr)\n",
        "    fpr_lr, tpr_lr, _ = roc_curve(y_test, y_proba_lr)\n",
        "    print(\"ROC AUC:\", auc_lr)\n",
        "else:\n",
        "    print(\"Logistic Regression tidak mendukung predict_proba.\")\n",
        "\n",
        "print(\"\\n\" + \"=\"*50 + \"\\n\")\n",
        "\n",
        "# Evaluasi untuk Random Forest\n",
        "print(\"### Evaluasi Random Forest ###\")\n",
        "print(classification_report(y_test, y_pred_rf))\n",
        "print(\"Confusion Matrix:\")\n",
        "print(confusion_matrix(y_test, y_pred_rf))\n",
        "print(\"Accuracy:\", accuracy_score(y_test, y_pred_rf))\n",
        "\n",
        "if hasattr(rf, \"predict_proba\"):\n",
        "    y_proba_rf = rf.predict_proba(X_test)[:, 1]\n",
        "    auc_rf = roc_auc_score(y_test, y_proba_rf)\n",
        "    fpr_rf, tpr_rf, _ = roc_curve(y_test, y_proba_rf)\n",
        "    print(\"ROC AUC:\", auc_rf)\n",
        "else:\n",
        "    print(\"Random Forest tidak mendukung predict_proba.\")\n",
        "\n",
        "print(\"\\n\" + \"=\"*50 + \"\\n\")\n",
        "\n",
        "# Evaluasi untuk Decision Tree\n",
        "print(\"### Evaluasi Decision Tree ###\")\n",
        "print(classification_report(y_test, y_pred_dt))\n",
        "print(\"Confusion Matrix:\")\n",
        "print(confusion_matrix(y_test, y_pred_dt))\n",
        "print(\"Accuracy:\", accuracy_score(y_test, y_pred_dt))\n",
        "\n",
        "if hasattr(dt, \"predict_proba\"):\n",
        "    y_proba_dt = dt.predict_proba(X_test)[:, 1]\n",
        "    auc_dt = roc_auc_score(y_test, y_proba_dt)\n",
        "    fpr_dt, tpr_dt, _ = roc_curve(y_test, y_proba_dt)\n",
        "    print(\"ROC AUC:\", auc_dt)\n",
        "else:\n",
        "    print(\"Decision Tree tidak mendukung predict_proba.\")\n",
        "\n",
        "# Plot ROC Curve untuk ketiga model (hanya jika predict_proba tersedia)\n",
        "plt.figure(figsize=(8, 6))\n",
        "if 'y_proba_lr' in locals():\n",
        "    plt.plot(fpr_lr, tpr_lr, label=f\"Logistic Regression (AUC = {auc_lr:.3f})\")\n",
        "if 'y_proba_rf' in locals():\n",
        "    plt.plot(fpr_rf, tpr_rf, label=f\"Random Forest (AUC = {auc_rf:.3f})\")\n",
        "if 'y_proba_dt' in locals():\n",
        "    plt.plot(fpr_dt, tpr_dt, label=f\"Decision Tree (AUC = {auc_dt:.3f})\")\n",
        "\n",
        "plt.plot([0, 1], [0, 1], 'k--', label=\"Random Guess\")\n",
        "plt.xlabel(\"False Positive Rate\")\n",
        "plt.ylabel(\"True Positive Rate\")\n",
        "plt.title(\"ROC Curve\")\n",
        "plt.legend(loc=\"lower right\")\n",
        "plt.show()\n"
      ],
      "metadata": {
        "trusted": true,
        "execution": {
          "iopub.status.busy": "2025-03-10T07:36:30.561343Z",
          "iopub.execute_input": "2025-03-10T07:36:30.561729Z",
          "iopub.status.idle": "2025-03-10T07:36:31.671138Z",
          "shell.execute_reply.started": "2025-03-10T07:36:30.561704Z",
          "shell.execute_reply": "2025-03-10T07:36:31.670168Z"
        },
        "id": "W8P7hxLdOG8q",
        "outputId": "271cd24b-61fb-4d34-d83b-97cb45fb3f7f",
        "colab": {
          "base_uri": "https://localhost:8080/",
          "height": 1000
        }
      },
      "outputs": [
        {
          "output_type": "stream",
          "name": "stdout",
          "text": [
            "### Evaluasi Logistic Regression ###\n",
            "              precision    recall  f1-score   support\n",
            "\n",
            "       False       1.00      1.00      1.00     75132\n",
            "        True       1.00      1.00      1.00      1127\n",
            "\n",
            "    accuracy                           1.00     76259\n",
            "   macro avg       1.00      1.00      1.00     76259\n",
            "weighted avg       1.00      1.00      1.00     76259\n",
            "\n",
            "Confusion Matrix:\n",
            "[[75132     0]\n",
            " [    0  1127]]\n",
            "Accuracy: 1.0\n",
            "ROC AUC: 1.0\n",
            "\n",
            "==================================================\n",
            "\n",
            "### Evaluasi Random Forest ###\n",
            "              precision    recall  f1-score   support\n",
            "\n",
            "       False       1.00      1.00      1.00     75132\n",
            "        True       1.00      1.00      1.00      1127\n",
            "\n",
            "    accuracy                           1.00     76259\n",
            "   macro avg       1.00      1.00      1.00     76259\n",
            "weighted avg       1.00      1.00      1.00     76259\n",
            "\n",
            "Confusion Matrix:\n",
            "[[75132     0]\n",
            " [    0  1127]]\n",
            "Accuracy: 1.0\n",
            "ROC AUC: 1.0\n",
            "\n",
            "==================================================\n",
            "\n",
            "### Evaluasi Decision Tree ###\n",
            "              precision    recall  f1-score   support\n",
            "\n",
            "       False       1.00      1.00      1.00     75132\n",
            "        True       1.00      1.00      1.00      1127\n",
            "\n",
            "    accuracy                           1.00     76259\n",
            "   macro avg       1.00      1.00      1.00     76259\n",
            "weighted avg       1.00      1.00      1.00     76259\n",
            "\n",
            "Confusion Matrix:\n",
            "[[75132     0]\n",
            " [    0  1127]]\n",
            "Accuracy: 1.0\n",
            "ROC AUC: 1.0\n"
          ]
        },
        {
          "output_type": "display_data",
          "data": {
            "text/plain": [
              "<Figure size 800x600 with 1 Axes>"
            ],
            "image/png": "[encoded data removed]"
          },
          "metadata": {}
        }
      ],
      "execution_count": 57
    },
    {
      "cell_type": "markdown",
      "source": [
        "## Undersampling dengan RandomForest"
      ],
      "metadata": {
        "id": "NrZLvtwdOG8q"
      }
    },
    {
      "cell_type": "code",
      "source": [
        "# Evaluasi\n",
        "print(\"### Evaluasi Random Forest dengan Undersampling ###\")\n",
        "print(classification_report(y_test, y_pred_undersample))\n",
        "print(\"Confusion Matrix:\")\n",
        "print(confusion_matrix(y_test, y_pred_undersample))\n",
        "print(\"Accuracy:\", accuracy_score(y_test, y_pred_undersample))"
      ],
      "metadata": {
        "trusted": true,
        "execution": {
          "iopub.status.busy": "2025-03-10T08:12:46.676932Z",
          "iopub.execute_input": "2025-03-10T08:12:46.677381Z",
          "iopub.status.idle": "2025-03-10T08:12:46.775518Z",
          "shell.execute_reply.started": "2025-03-10T08:12:46.677347Z",
          "shell.execute_reply": "2025-03-10T08:12:46.774811Z"
        },
        "id": "MwlX6So9OG8q",
        "outputId": "9d01073e-7a8f-4353-b1ec-1c11f1eb3250",
        "colab": {
          "base_uri": "https://localhost:8080/"
        }
      },
      "outputs": [
        {
          "output_type": "stream",
          "name": "stdout",
          "text": [
            "### Evaluasi Random Forest dengan Undersampling ###\n",
            "              precision    recall  f1-score   support\n",
            "\n",
            "       False       1.00      1.00      1.00     75132\n",
            "        True       1.00      1.00      1.00      1127\n",
            "\n",
            "    accuracy                           1.00     76259\n",
            "   macro avg       1.00      1.00      1.00     76259\n",
            "weighted avg       1.00      1.00      1.00     76259\n",
            "\n",
            "Confusion Matrix:\n",
            "[[75132     0]\n",
            " [    0  1127]]\n",
            "Accuracy: 1.0\n"
          ]
        }
      ],
      "execution_count": 58
    },
    {
      "cell_type": "markdown",
      "source": [
        "## Validasi Model dengan StratifiedKFold Cross-Validation"
      ],
      "metadata": {
        "id": "gfX4Ie81ee4D"
      }
    },
    {
      "cell_type": "code",
      "source": [
        "from sklearn.model_selection import StratifiedKFold, cross_val_score\n",
        "import numpy as np\n",
        "\n",
        "# Misalnya, gunakan model Random Forest yang sudah dikembangkan\n",
        "skf = StratifiedKFold(n_splits=5, shuffle=True, random_state=42)\n",
        "\n",
        "# Menggunakan f1_macro sebagai metrik evaluasi, misalnya\n",
        "scores = cross_val_score(rf_undersample, X_train, y_train, cv=skf, scoring='f1_macro')\n",
        "\n",
        "print(\"F1 Macro Scores per Fold:\", scores)\n",
        "print(\"Rata-rata F1 Macro Score:\", np.mean(scores))\n"
      ],
      "metadata": {
        "colab": {
          "base_uri": "https://localhost:8080/"
        },
        "id": "uBj67M2vbPYT",
        "outputId": "5a6d8b1f-7d85-44e0-b88d-2731434be303"
      },
      "execution_count": 59,
      "outputs": [
        {
          "output_type": "stream",
          "name": "stdout",
          "text": [
            "F1 Macro Scores per Fold: [1. 1. 1. 1. 1.]\n",
            "Rata-rata F1 Macro Score: 1.0\n"
          ]
        }
      ]
    },
    {
      "cell_type": "code",
      "source": [
        "import numpy as np\n",
        "from sklearn.model_selection import StratifiedKFold, cross_val_score\n",
        "\n",
        "# Buat objek StratifiedKFold\n",
        "skf = StratifiedKFold(n_splits=5, shuffle=True, random_state=42)\n",
        "\n",
        "# Kita asumsikan bahwa untuk Logistic Regression, Random Forest, dan Decision Tree\n",
        "# data training yang digunakan adalah hasil oversampling (X_train_res, y_train_res)\n",
        "# Sedangkan untuk Random Forest dengan Undersampling, kita gunakan X_train_rus, y_train_rus\n",
        "\n",
        "# 1. Logistic Regression\n",
        "lr_cv = LogisticRegression(max_iter=1000, random_state=42)\n",
        "lr_scores = cross_val_score(lr_cv, X_train_res, y_train_res, cv=skf, scoring='f1_macro')\n",
        "print(\"Logistic Regression CV Mean F1 Macro: {:.4f} (Std: {:.4f})\".format(np.mean(lr_scores), np.std(lr_scores)))\n",
        "\n",
        "# 2. Random Forest Classifier (Oversampled)\n",
        "rf_cv = RandomForestClassifier(n_estimators=100, random_state=42)\n",
        "rf_scores = cross_val_score(rf_cv, X_train_res, y_train_res, cv=skf, scoring='f1_macro')\n",
        "print(\"Random Forest (Oversampled) CV Mean F1 Macro: {:.4f} (Std: {:.4f})\".format(np.mean(rf_scores), np.std(rf_scores)))\n",
        "\n",
        "# 3. Decision Tree Classifier (Oversampled)\n",
        "dt_cv = DecisionTreeClassifier(random_state=42)\n",
        "dt_scores = cross_val_score(dt_cv, X_train_res, y_train_res, cv=skf, scoring='f1_macro')\n",
        "print(\"Decision Tree (Oversampled) CV Mean F1 Macro: {:.4f} (Std: {:.4f})\".format(np.mean(dt_scores), np.std(dt_scores)))\n",
        "\n",
        "# 4. Random Forest Classifier dengan Undersampling\n",
        "rf_rus_cv = RandomForestClassifier(random_state=42)\n",
        "rf_rus_scores = cross_val_score(rf_rus_cv, X_train_rus, y_train_rus, cv=skf, scoring='f1_macro')\n",
        "print(\"Random Forest (Undersampled) CV Mean F1 Macro: {:.4f} (Std: {:.4f})\".format(np.mean(rf_rus_scores), np.std(rf_rus_scores)))\n",
        "\n",
        "# --- Evaluasi pada Data Testing ---\n",
        "print(\"\\nEvaluasi pada Data Testing:\")\n",
        "\n",
        "# Logistic Regression\n",
        "lr.fit(X_train_res, y_train_res)\n",
        "y_pred_lr = lr.predict(X_test)\n",
        "print(\"### Logistic Regression on Test Set ###\")\n",
        "print(classification_report(y_test, y_pred_lr))\n",
        "\n",
        "# Random Forest (Oversampled)\n",
        "rf.fit(X_train_res, y_train_res)\n",
        "y_pred_rf = rf.predict(X_test)\n",
        "print(\"### Random Forest (Oversampled) on Test Set ###\")\n",
        "print(classification_report(y_test, y_pred_rf))\n",
        "\n",
        "# Decision Tree (Oversampled)\n",
        "dt.fit(X_train_res, y_train_res)\n",
        "y_pred_dt = dt.predict(X_test)\n",
        "print(\"### Decision Tree (Oversampled) on Test Set ###\")\n",
        "print(classification_report(y_test, y_pred_dt))\n",
        "\n",
        "# Random Forest (Undersampled)\n",
        "rf_undersample.fit(X_train_rus, y_train_rus)\n",
        "y_pred_rf_rus = rf_undersample.predict(X_test)\n",
        "print(\"### Random Forest (Undersampled) on Test Set ###\")\n",
        "print(classification_report(y_test, y_pred_rf_rus))\n"
      ],
      "metadata": {
        "colab": {
          "base_uri": "https://localhost:8080/"
        },
        "id": "-rAAdlctcIUm",
        "outputId": "e24aa08d-0b41-4830-848d-5f74cb0417b5"
      },
      "execution_count": 60,
      "outputs": [
        {
          "output_type": "stream",
          "name": "stdout",
          "text": [
            "Logistic Regression CV Mean F1 Macro: 1.0000 (Std: 0.0000)\n",
            "Random Forest (Oversampled) CV Mean F1 Macro: 1.0000 (Std: 0.0000)\n",
            "Decision Tree (Oversampled) CV Mean F1 Macro: 1.0000 (Std: 0.0000)\n",
            "Random Forest (Undersampled) CV Mean F1 Macro: 1.0000 (Std: 0.0000)\n",
            "\n",
            "Evaluasi pada Data Testing:\n",
            "### Logistic Regression on Test Set ###\n",
            "              precision    recall  f1-score   support\n",
            "\n",
            "       False       1.00      1.00      1.00     75132\n",
            "        True       1.00      1.00      1.00      1127\n",
            "\n",
            "    accuracy                           1.00     76259\n",
            "   macro avg       1.00      1.00      1.00     76259\n",
            "weighted avg       1.00      1.00      1.00     76259\n",
            "\n",
            "### Random Forest (Oversampled) on Test Set ###\n",
            "              precision    recall  f1-score   support\n",
            "\n",
            "       False       1.00      1.00      1.00     75132\n",
            "        True       1.00      1.00      1.00      1127\n",
            "\n",
            "    accuracy                           1.00     76259\n",
            "   macro avg       1.00      1.00      1.00     76259\n",
            "weighted avg       1.00      1.00      1.00     76259\n",
            "\n",
            "### Decision Tree (Oversampled) on Test Set ###\n",
            "              precision    recall  f1-score   support\n",
            "\n",
            "       False       1.00      1.00      1.00     75132\n",
            "        True       1.00      1.00      1.00      1127\n",
            "\n",
            "    accuracy                           1.00     76259\n",
            "   macro avg       1.00      1.00      1.00     76259\n",
            "weighted avg       1.00      1.00      1.00     76259\n",
            "\n",
            "### Random Forest (Undersampled) on Test Set ###\n",
            "              precision    recall  f1-score   support\n",
            "\n",
            "       False       1.00      1.00      1.00     75132\n",
            "        True       1.00      1.00      1.00      1127\n",
            "\n",
            "    accuracy                           1.00     76259\n",
            "   macro avg       1.00      1.00      1.00     76259\n",
            "weighted avg       1.00      1.00      1.00     76259\n",
            "\n"
          ]
        }
      ]
    },
    {
      "cell_type": "markdown",
      "source": [
        "# SAVE"
      ],
      "metadata": {
        "id": "otQUNTbDnq_t"
      }
    },
    {
      "cell_type": "code",
      "source": [
        "df_no_outliers.to_csv('df_clean.csv', index=False)"
      ],
      "metadata": {
        "id": "2gEyOcQrnusV",
        "trusted": true,
        "execution": {
          "iopub.status.busy": "2025-03-10T07:20:11.948468Z",
          "iopub.status.idle": "2025-03-10T07:20:11.948859Z",
          "shell.execute_reply": "2025-03-10T07:20:11.948688Z"
        }
      },
      "outputs": [],
      "execution_count": null
    }
  ]
}